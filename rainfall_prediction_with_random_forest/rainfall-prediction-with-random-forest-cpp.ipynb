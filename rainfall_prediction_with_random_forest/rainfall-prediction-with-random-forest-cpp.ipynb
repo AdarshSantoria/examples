{
 "cells": [
  {
   "cell_type": "markdown",
   "id": "d26366c9-7546-4116-b38e-122d313d9fcc",
   "metadata": {},
   "source": [
    "### Using Random Forest to predict rainfall\n",
    "\n",
    "### What is our Objective ?\n",
    "* To reliably predict next day's rainfall using possible derminants \n",
    "\n",
    "### Getting to know our WeatherAus dataset! \n",
    "\n",
    "WeatherAus dataset contains about 10 years of daily weather observations from many locations across Australia it has the following features:\n",
    "\n",
    "* Date - The date of observation\n",
    "* Location - Location of the weather station\n",
    "* MinTemp - Minimum temperature of the observed day in degree celsius\n",
    "* MaxTemp - Maximum temperature of the observed day in degree celsius\n",
    "* Rainfall - The amount of rainfall recorded for the day in mm\n",
    "* Evaporation - Class A pan evaporation (mm) in the 24 hours to 9am\n",
    "* Sunshine - The number of hours of bright sunshine in the day.\n",
    "* WindGustDir - The direction of the strongest wind gust in the 24 hours to midnight\n",
    "* WindGustSpeed - The speed (km/h) of the strongest wind gust in the 24 hours to midnight\n",
    "* WindDir9am - Direction of the wind at 9am\n",
    "* WindDir3pm - Direction of the wind at 3pm\n",
    "* WindSpeed9am - Wind speed (km/hr) averaged over 10 minutes prior to 9am\n",
    "* WindSpeed3pm - Wind speed (km/hr) averaged over 10 minutes prior to 3pm\n",
    "* Humidity9am - Humidity (percent) at 9am\n",
    "* Humidity3pm - Humidity (percent) at 3pm\n",
    "* Pressure9am - Atmospheric pressure (hpa) reduced to mean sea level at 9am\n",
    "* Pressure3pm - Atmospheric pressure (hpa) reduced to mean sea level at 3pm\n",
    "* Cloud9am - Fraction of sky obscured by cloud at 9am. This is measured in \"oktas\", which are a unit of eigths. It records how many \n",
    "* Cloud3pm - Fraction of sky obscured by cloud at 3pm. This is measured in \"oktas\", which are a unit of eigths. It records how many \n",
    "* Temp9am - Temperature (degrees C) at 9am\n",
    "* Temp3pm - Temperature (degrees C) at 3pm\n",
    "* RainToday -  if precipitation (mm) in the 24 hours to 9am exceeds 1mm, otherwise 0\n",
    "* RainTomorrow - The amount of next day rain in mm\n",
    "\n",
    "### Approach\n",
    "* In this example, we will be balancing an imbalanced data set using random oversampling, undersampling and SMOTE.\n",
    "* Then we'll label encode categorical features.\n",
    "* Use various imputation methods to handle missing values in the dataset.\n",
    "* Split the preprocessed dataset and train on it using RandomForest API from mlpack.\n",
    "* Finally we'll use various metrics such as Accuracy, F1-Score, ROC AUC to judge the performance of our model.\n",
    "\n",
    "#### NOTE: This example has 4 parts implementing the above approach using raw imbalanced data, undersampled, oversampled & using SMOTE "
   ]
  },
  {
   "cell_type": "code",
   "execution_count": null,
   "id": "645d4fd2-a8d4-4d6b-b0db-a49d12514c7d",
   "metadata": {},
   "outputs": [],
   "source": [
    "// Import necessary library headers.\n",
    "#include <mlpack/xeus-cling.hpp>\n",
    "#include <mlpack/core.hpp>\n",
    "#include <mlpack/core/data/split_data.hpp>\n",
    "#include <mlpack/methods/random_forest/random_forest.hpp>\n",
    "#include <mlpack/core/data/scaler_methods/standard_scaler.hpp>"
   ]
  },
  {
   "cell_type": "code",
   "execution_count": null,
   "id": "8a4870f5-913a-479a-8d77-a1a27dfcdad5",
   "metadata": {},
   "outputs": [],
   "source": [
    "#define WITHOUT_NUMPY 1\n",
    "#include \"matplotlibcpp.h\"\n",
    "#include \"xwidgets/ximage.hpp\"\n",
    "#include \"../utils/preprocess.hpp\"\n",
    "#include \"../utils/plot.hpp\"\n",
    "\n",
    "namespace plt = matplotlibcpp;"
   ]
  },
  {
   "cell_type": "code",
   "execution_count": null,
   "id": "7e6095d6-b2c0-41ee-b385-b8bc755b5b20",
   "metadata": {},
   "outputs": [],
   "source": [
    "using namespace mlpack;"
   ]
  },
  {
   "cell_type": "code",
   "execution_count": null,
   "id": "511fa332-d767-4a69-9f21-48e7e8774f20",
   "metadata": {},
   "outputs": [],
   "source": [
    "using namespace mlpack::data;"
   ]
  },
  {
   "cell_type": "code",
   "execution_count": null,
   "id": "27ed2c63-dfcd-4089-aefb-8a26cb2fa958",
   "metadata": {},
   "outputs": [],
   "source": [
    "using namespace mlpack::tree;"
   ]
  },
  {
   "cell_type": "markdown",
   "id": "eb3254b1-2e9b-4e5e-a845-898a963937be",
   "metadata": {},
   "source": [
    "### Part 1 - Modelling using Imbalanced Dataset"
   ]
  },
  {
   "cell_type": "markdown",
   "id": "1c8d3c3e-35a5-43d4-a549-360c317b6d76",
   "metadata": {},
   "source": [
    "### Visualize the Missing Values"
   ]
  },
  {
   "cell_type": "code",
   "execution_count": null,
   "id": "949cdbc7-3777-41d8-adfc-041ce8450a43",
   "metadata": {},
   "outputs": [],
   "source": [
    "MissingPlot(\"weatherAUS.csv\", \"PuBu\", \"Part-1 Missing values pre-imputation\");\n",
    "auto img = xw::image_from_file(\"./plots/Part-1 Missing values pre-imputation.png\").finalize();\n",
    "img"
   ]
  },
  {
   "cell_type": "markdown",
   "id": "43818fd2-bb48-4e4e-bc2e-d9b3c060f2ce",
   "metadata": {},
   "source": [
    "The above visualization shows that high number of missing values in: Sunshine, Evaporation, Cloud9am and Cloud3pm.\n",
    "We observe that atmost some features have 50% missing values. So instead of discarding them, we will impute them with  proper imputation method."
   ]
  },
  {
   "cell_type": "code",
   "execution_count": null,
   "id": "8f883fcf-4299-4892-ac96-1ee0aa04d94f",
   "metadata": {},
   "outputs": [],
   "source": [
    "// Perform imputation on the original dataset using \"mean\" imputation policy.\n",
    "Impute(\"weatherAUS.csv\");"
   ]
  },
  {
   "cell_type": "markdown",
   "id": "9b134ab4-9baf-4f93-95f3-73667f016a48",
   "metadata": {},
   "source": [
    "Drop the dataset header using sed, sed is a Unix utility that parses and transforms text."
   ]
  },
  {
   "cell_type": "code",
   "execution_count": null,
   "id": "63456d12-ceeb-48b8-a346-37862673ac50",
   "metadata": {},
   "outputs": [],
   "source": [
    "!cat ./data/weatherAUS_mean_imputed.csv | sed 1d > ./data/weatherAUS_trim.csv"
   ]
  },
  {
   "cell_type": "markdown",
   "id": "833c1dd9-26e5-4b17-bc81-53986f003fa5",
   "metadata": {},
   "source": [
    "Drop columns 1 (\"Date\") as it is not required and causes issues while loading the data."
   ]
  },
  {
   "cell_type": "code",
   "execution_count": null,
   "id": "1da1313b-7c6e-4572-90fb-635cea7a058c",
   "metadata": {},
   "outputs": [],
   "source": [
    "!cut -d, -f1 --complement ./data/weatherAUS_trim.csv > ./data/weatherAUS_trim2.csv"
   ]
  },
  {
   "cell_type": "markdown",
   "id": "2d23cf23-94df-4c44-b1bf-ae88f2469727",
   "metadata": {},
   "source": [
    "Rename the newly created csv file."
   ]
  },
  {
   "cell_type": "code",
   "execution_count": null,
   "id": "feb05a7a-ade9-42f3-9fb9-119d1e1bc29b",
   "metadata": {},
   "outputs": [],
   "source": [
    "!rm ./data/weatherAUS_trim.csv"
   ]
  },
  {
   "cell_type": "code",
   "execution_count": null,
   "id": "dc522011-dbdf-4932-928b-1ea9c91a365a",
   "metadata": {},
   "outputs": [],
   "source": [
    "!mv ./data/weatherAUS_trim2.csv ./data/weatherAUS_trim.csv"
   ]
  },
  {
   "cell_type": "code",
   "execution_count": null,
   "id": "3851e90d-78ba-448b-b0cf-b4115258443a",
   "metadata": {},
   "outputs": [],
   "source": [
    "// Load the preprocessed dataset into armadillo matrix.\n",
    "arma::mat weatherData;\n",
    "mlpack::data::DatasetInfo info;\n",
    "\n",
    "// Manually set the columns with contain categorical data in DatasetInfo.\n",
    "info.Type(0) = mlpack::data::Datatype::categorical;\n",
    "info.Type(6) = mlpack::data::Datatype::categorical;\n",
    "info.Type(8) = mlpack::data::Datatype::categorical;\n",
    "info.Type(9) = mlpack::data::Datatype::categorical;\n",
    "info.Type(20) = mlpack::data::Datatype::categorical;\n",
    "info.Type(21) = mlpack::data::Datatype::categorical;\n",
    "\n",
    "data::Load(\"./data/weatherAUS_trim.csv\", weatherData, info);"
   ]
  },
  {
   "cell_type": "code",
   "execution_count": null,
   "id": "d4b0bcc2-fa2b-485d-b353-43bfafbfb7f3",
   "metadata": {},
   "outputs": [],
   "source": [
    "data::Save(\"./data/weatherAUSEnc.csv\", weatherData);"
   ]
  },
  {
   "cell_type": "code",
   "execution_count": null,
   "id": "a7a18486-ba32-4765-9a26-048e91c530f9",
   "metadata": {},
   "outputs": [],
   "source": [
    "!sed -i '1iLocation,MinTemp,MaxTemp,Rainfall,Evaporation,Sunshine,WindGustDir,WindGustSpeed,WindDir9am,WindDir3pm,WindSpeed9am,WindSpeed3pm,Humidity9am,Humidity3pm,Pressure9am,Pressure3pm,Cloud9am,Cloud3pm,Temp9am,Temp3pm,RainToday,RainTomorrow' ./data/weatherAUSEnc.csv"
   ]
  },
  {
   "cell_type": "code",
   "execution_count": null,
   "id": "825b4b81-8759-4898-9799-faf17f3f9342",
   "metadata": {},
   "outputs": [],
   "source": [
    "// Inspect the first 5 examples in the dataset\n",
    "std::cout.precision(4);\n",
    "std::cout.setf(std::ios::fixed);\n",
    "std::cout << std::setw(15) << \"Location\" << std::setw(10) << \"MinTemp\" << std::setw(13) << \"MaxTemp\" \n",
    "          << std::setw(12) << \"Rainfall\" << std::setw(15) << \"Evaporation\" << std::setw(12) \n",
    "          << \"Sunshine\" << std::setw(14) << \"WindGust\" << std::setw(15) << \"WindGustSpeed\"\n",
    "          << std::setw(12) << \"WindDir9am\" << std::setw(12) << \"WindDir3pm\" << std::setw(13)\n",
    "          << \"WindSpeed9am\" << std::setw(14) << \"WindSpeed3pm\" << std::setw(13) \n",
    "          << \"Humidity9am\" << std::setw(12) << \"Humidity3pm\" << std::setw(14)\n",
    "          << \"Pressure9am\" << std::setw(14) << \"Pressure3pm\" << std::setw(10) \n",
    "          << \"Cloud9am\" << std::setw(14) << \"Cloud3pm\" << std::setw(15)\n",
    "          << \"Temp9am\" << std::setw(12) << \"Temp3pm\" << std::setw(16)\n",
    "          << \"RainToday\" << std::setw(15) << \"RainTomorrow\" << std::endl;\n",
    "std::cout << weatherData.submat(0, 0, weatherData.n_rows-1, 5).t() << std::endl;"
   ]
  },
  {
   "cell_type": "code",
   "execution_count": null,
   "id": "1f1ba740-db55-4e1d-a097-af11c21420c1",
   "metadata": {},
   "outputs": [],
   "source": [
    "// Visualize the distribution of target classes.\n",
    "CountPlot(\"./data/weatherAUS_mean_imputed.csv\", \"RainTomorrow\", \"\", \"Part-1 Distribution of target class\");\n",
    "auto img = xw::image_from_file(\"./plots/Part-1 Distribution of target class.png\").finalize();\n",
    "img"
   ]
  },
  {
   "cell_type": "markdown",
   "id": "7bad786b-5dd5-4a91-99d1-2c785deccf65",
   "metadata": {},
   "source": [
    "### EDA"
   ]
  },
  {
   "cell_type": "code",
   "execution_count": null,
   "id": "5db5a03f-104c-41fc-a164-565f17cb76e5",
   "metadata": {},
   "outputs": [],
   "source": [
    "CountPlot(\"./data/weatherAUS_mean_imputed.csv\", \"WindDir9am\", \"\", \"Part-1 Direction of wind at 9 am\");\n",
    "auto img = xw::image_from_file(\"./plots/Part-1 Direction of wind at 9 am.png\").finalize();\n",
    "img"
   ]
  },
  {
   "cell_type": "code",
   "execution_count": null,
   "id": "ba5c20b4-0a12-45c8-b125-39bd1fbd1422",
   "metadata": {},
   "outputs": [],
   "source": [
    "CountPlot(\"./data/weatherAUS_mean_imputed.csv\", \"WindDir3pm\", \"\", \"Part-1 Direction of wind at 3 pm\");\n",
    "auto img = xw::image_from_file(\"./plots/Part-1 Direction of wind at 3 pm.png\").finalize();\n",
    "img"
   ]
  },
  {
   "cell_type": "code",
   "execution_count": null,
   "id": "28abe712-59be-4827-aec5-2d18a095649e",
   "metadata": {},
   "outputs": [],
   "source": [
    "CountPlot(\"./data/weatherAUS_mean_imputed.csv\", \"WindGustDir\", \"\", \"Part-1 Direction of wind Gust\");\n",
    "auto img = xw::image_from_file(\"./plots/Part-1 Direction of wind Gust.png\").finalize();\n",
    "img"
   ]
  },
  {
   "cell_type": "markdown",
   "id": "a6c80163-8020-414a-94c6-25cb9c271025",
   "metadata": {},
   "source": [
    "### Visualize Correlation"
   ]
  },
  {
   "cell_type": "code",
   "execution_count": null,
   "id": "9c09fa50-4ff2-43a0-9837-29560ca9bc6d",
   "metadata": {},
   "outputs": [],
   "source": [
    "HeatMapPlot(\"./data/weatherAUSEnc.csv\", \"coolwarm\", \"Part-1 Correlation Heatmap\", 1);\n",
    "auto img = xw::image_from_file(\"./plots/Part-1 Correlation Heatmap.png\").finalize();\n",
    "img"
   ]
  },
  {
   "cell_type": "markdown",
   "id": "dc91a701-a9bc-4aa8-8ae5-a195c67aa0a8",
   "metadata": {},
   "source": [
    "As we can observe from the above heatmap, there is high correlation between the following features:\n",
    "* MinTemp & MaxTemp\n",
    "* MinTemp & Temp9am\n",
    "* MinTemp & Temp3pm\n",
    "* MaxTemp & Temp9am\n",
    "* MaxTemp & Temp3pm\n",
    "* Temp3pm & Temp9am\n",
    "* Pressure9am & Pressure3pm\n",
    "* Evaporation & MaxTemp"
   ]
  },
  {
   "cell_type": "code",
   "execution_count": null,
   "id": "b200f227-5a16-4cfa-98c8-adf01fe4e1eb",
   "metadata": {},
   "outputs": [],
   "source": [
    "// Split the data into features (X) and target (y) variables, targets are the last row.\n",
    "arma::Row<size_t> targets = arma::conv_to<arma::Row<size_t>>::from(weatherData.row(weatherData.n_rows - 1));\n",
    "// Targets are dropped from the loaded matrix.\n",
    "weatherData.shed_row(weatherData.n_rows-1);"
   ]
  },
  {
   "cell_type": "markdown",
   "id": "50195ad5-f366-44ef-a3b9-82dc18ce308c",
   "metadata": {},
   "source": [
    "### Train Test Split\n",
    "\n",
    "The dataset has to be split into training and test set. Here the dataset has 145460 observations and the test ratio is taken as 25% of the total observations. This indicates that the test set should have 25% * 145460 = 36365 observations and training set should have 109095 observations respectively."
   ]
  },
  {
   "cell_type": "code",
   "execution_count": null,
   "id": "8f11e6ce-2d66-4082-a83e-40331359aa66",
   "metadata": {},
   "outputs": [],
   "source": [
    "// Split the dataset into train and set sets using mlpack Split API.\n",
    "arma::mat Xtrain, Xtest;\n",
    "arma::Row<size_t> Ytrain, Ytest;\n",
    "mlpack::data::Split(weatherData, targets, Xtrain, Xtest, Ytrain, Ytest, 0.25);"
   ]
  },
  {
   "cell_type": "code",
   "execution_count": null,
   "id": "bea40bbe-266e-4c4b-8b43-25b8fddf1d95",
   "metadata": {},
   "outputs": [],
   "source": [
    "// Standardize the train & test features.\n",
    "arma::mat XtrainScaled, XtestScaled;\n",
    "StandardScaler scale;\n",
    "scale.Fit(Xtrain);\n",
    "scale.Transform(Xtrain, XtrainScaled);\n",
    "scale.Transform(Xtest, XtestScaled);"
   ]
  },
  {
   "cell_type": "markdown",
   "id": "7be8c187-bc0f-4e9e-a65c-618daa0c86c4",
   "metadata": {},
   "source": [
    "### Training the Random Forest model\n",
    "To create the model we'll be using RandomForest() API from mlpack."
   ]
  },
  {
   "cell_type": "code",
   "execution_count": null,
   "id": "73c3b088-b8a8-485b-ad21-6de158b863b2",
   "metadata": {},
   "outputs": [],
   "source": [
    "//Create and train Random Forest model with 100 trees.\n",
    "RandomForest<> rf(XtrainScaled, Ytrain, 2, 100);"
   ]
  },
  {
   "cell_type": "code",
   "execution_count": null,
   "id": "66fd8054-1d20-4a00-977e-ef9650ae349d",
   "metadata": {},
   "outputs": [],
   "source": [
    "// Predict the values for test data using previously trained model as input.\n",
    "arma::Row<size_t> output;\n",
    "arma::mat probs;\n",
    "rf.Classify(XtestScaled, output, probs);"
   ]
  },
  {
   "cell_type": "code",
   "execution_count": null,
   "id": "c81ddaeb-c85f-4add-bcab-771255e9b090",
   "metadata": {},
   "outputs": [],
   "source": [
    "// Save predicted probabilities and ground truth as csv for generating ROC AUC curve.\n",
    "data::Save(\"probabilities.csv\", probs);\n",
    "data::Save(\"ytest.csv\", Ytest);"
   ]
  },
  {
   "cell_type": "code",
   "execution_count": null,
   "id": "9730a2d6-6cc0-481e-9427-77b8b2b53dd8",
   "metadata": {},
   "outputs": [],
   "source": [
    "double Accuracy(const arma::Row<size_t>& yPreds, const arma::Row<size_t>& yTrue)\n",
    "{\n",
    "    const size_t correct = arma::accu(yPreds == yTrue);\n",
    "    return (double)correct / (double)yTrue.n_elem;\n",
    "}"
   ]
  },
  {
   "cell_type": "code",
   "execution_count": null,
   "id": "7b2e442a-cf69-4196-a65d-5721164c1663",
   "metadata": {},
   "outputs": [],
   "source": [
    "double Precision(const size_t truePos, const size_t falsePos)\n",
    "{\n",
    "    return (double)truePos / (double)(truePos + falsePos);\n",
    "}"
   ]
  },
  {
   "cell_type": "code",
   "execution_count": null,
   "id": "1ed9e33f-e38c-41a2-99cc-a52d07a5551b",
   "metadata": {},
   "outputs": [],
   "source": [
    "double Recall(const size_t truePos, const size_t falseNeg)\n",
    "{\n",
    "    return (double)truePos / (double)(truePos + falseNeg);\n",
    "}"
   ]
  },
  {
   "cell_type": "code",
   "execution_count": null,
   "id": "7477b14a-483a-4a66-9a07-7065d96977c1",
   "metadata": {},
   "outputs": [],
   "source": [
    "double F1Score(const size_t truePos, const size_t falsePos, const size_t falseNeg)\n",
    "{\n",
    "    double prec = Precision(truePos, falsePos);\n",
    "    double rec = Recall(truePos, falseNeg);\n",
    "    return 2 * (prec * rec) / (prec + rec);\n",
    "}"
   ]
  },
  {
   "cell_type": "code",
   "execution_count": null,
   "id": "1c77953f-9210-41c6-ae8b-ae6e88eb1371",
   "metadata": {},
   "outputs": [],
   "source": [
    "void ClassificationReport(const arma::Row<size_t>& yPreds, const arma::Row<size_t>& yTrue)\n",
    "{\n",
    "    arma::Row<size_t> uniqs = arma::unique(yTrue);\n",
    "    std::cout << std::setw(29) << \"precision\" << std::setw(15) << \"recall\" \n",
    "              << std::setw(15) << \"f1-score\" << std::setw(15) << \"support\" \n",
    "              << std::endl << std::endl;\n",
    "    \n",
    "    for(auto val: uniqs)\n",
    "    {\n",
    "        size_t truePos = arma::accu(yTrue == val && yPreds == val && yPreds == yTrue);\n",
    "        size_t falsePos = arma::accu(yPreds == val && yPreds != yTrue);\n",
    "        size_t trueNeg = arma::accu(yTrue != val && yPreds != val && yPreds == yTrue);\n",
    "        size_t falseNeg = arma::accu(yPreds != val && yPreds != yTrue);\n",
    "        \n",
    "        std::cout << std::setw(15) << val\n",
    "                  << std::setw(12) << std::setprecision(2) << Precision(truePos, falsePos) \n",
    "                  << std::setw(16) << std::setprecision(2) << Recall(truePos, falseNeg) \n",
    "                  << std::setw(14) << std::setprecision(2) << F1Score(truePos, falsePos, falseNeg)\n",
    "                  << std::setw(16) << truePos\n",
    "                  << std::endl;\n",
    "    }\n",
    "}"
   ]
  },
  {
   "cell_type": "markdown",
   "id": "db929668-d596-4a86-a544-b431950d0345",
   "metadata": {},
   "source": [
    "### Model Evaluation"
   ]
  },
  {
   "cell_type": "code",
   "execution_count": null,
   "id": "f19d292c-1015-45d3-873d-3b65ceadbd41",
   "metadata": {},
   "outputs": [],
   "source": [
    "std::cout << \"Accuracy: \" << Accuracy(output, Ytest) << std::endl;\n",
    "ClassificationReport(output, Ytest);"
   ]
  },
  {
   "cell_type": "code",
   "execution_count": null,
   "id": "cd629bfc-955c-4edf-b515-f04d97e8fdde",
   "metadata": {},
   "outputs": [],
   "source": [
    "RocAucPlot(\"ytest.csv\", \"probabilities.csv\", \"Part-1 Imbalanced Targets ROC AUC Curve\");\n",
    "auto img = xw::image_from_file(\"./plots/Part-1 Imbalanced Targets ROC AUC Curve.png\").finalize();\n",
    "img"
   ]
  },
  {
   "cell_type": "markdown",
   "id": "2428510f-11ea-4662-bea6-25d9e875521b",
   "metadata": {},
   "source": [
    "### Part 2 - Modelling using Random Oversampling"
   ]
  },
  {
   "cell_type": "code",
   "execution_count": null,
   "id": "c08ac522-cd05-4966-a877-c726c393a1c5",
   "metadata": {},
   "outputs": [],
   "source": [
    "resample(\"weatherAUS.csv\", \"RainTomorrow\", \"No\", \"Yes\", \"oversample\", \"Date\", 123);"
   ]
  },
  {
   "cell_type": "code",
   "execution_count": null,
   "id": "bfbf4f89-c5ff-4bc7-88a2-a4140e93ea25",
   "metadata": {},
   "outputs": [],
   "source": [
    "// Visualize the distribution of target classes.\n",
    "CountPlot(\"weatherAUS_oversampled.csv\", \"RainTomorrow\", \"\", \"Part-2 Oversampled Population\");\n",
    "auto img = xw::image_from_file(\"./plots/Part-2 Oversampled Population.png\").finalize();\n",
    "img"
   ]
  },
  {
   "cell_type": "markdown",
   "id": "caf5a9e9-6c8b-42a0-abf4-554c5f57dfc0",
   "metadata": {},
   "source": [
    "### Visualize the Missing Values"
   ]
  },
  {
   "cell_type": "code",
   "execution_count": null,
   "id": "f0f4d90d-c0bb-4604-ba1d-619d3dda0132",
   "metadata": {},
   "outputs": [],
   "source": [
    "MissingPlot(\"weatherAUS_oversampled.csv\", \"PuBu\", \"Part-2 Missing values before imputation\");\n",
    "auto img = xw::image_from_file(\"./plots/Part-2 Missing values before imputation.png\").finalize();\n",
    "img"
   ]
  },
  {
   "cell_type": "code",
   "execution_count": null,
   "id": "ee1cd78f-b880-4028-9a4e-02e4923c1284",
   "metadata": {},
   "outputs": [],
   "source": [
    "// Imputation using mean.\n",
    "impute(\"weatherAUS_oversampled.csv\");"
   ]
  },
  {
   "cell_type": "code",
   "execution_count": null,
   "id": "472a6ca2-9b08-4c30-a2be-f79cfce9d573",
   "metadata": {},
   "outputs": [],
   "source": [
    "!cat weatherAUS_oversampled_mean_imputed.csv | sed 1d > weatherAUS_os_imp.csv"
   ]
  },
  {
   "cell_type": "code",
   "execution_count": null,
   "id": "dcb4e9f5-73f6-4425-80b3-aa5a510e6d45",
   "metadata": {},
   "outputs": [],
   "source": [
    "!cut -d, -f1 --complement weatherAUS_os_imp.csv > weatherAUS_trim2.csv"
   ]
  },
  {
   "cell_type": "code",
   "execution_count": null,
   "id": "9fd53f05-a53f-482a-a67f-2922a139e9f3",
   "metadata": {},
   "outputs": [],
   "source": [
    "!rm weatherAUS_trim.csv"
   ]
  },
  {
   "cell_type": "code",
   "execution_count": null,
   "id": "60b3c14b-9600-4098-a6b8-1a22925806da",
   "metadata": {},
   "outputs": [],
   "source": [
    "!mv weatherAUS_trim2.csv weatherAUS_trim.csv"
   ]
  },
  {
   "cell_type": "code",
   "execution_count": null,
   "id": "6e193026-e6e3-4d3e-ab24-e7241d87f25f",
   "metadata": {},
   "outputs": [],
   "source": [
    "arma::mat overSampled;\n",
    "mlpack::data::DatasetInfo info;\n",
    "\n",
    "info.Type(0) = mlpack::data::Datatype::categorical;\n",
    "info.Type(6) = mlpack::data::Datatype::categorical;\n",
    "info.Type(8) = mlpack::data::Datatype::categorical;\n",
    "info.Type(9) = mlpack::data::Datatype::categorical;\n",
    "info.Type(20) = mlpack::data::Datatype::categorical;\n",
    "info.Type(21) = mlpack::data::Datatype::categorical;\n",
    "\n",
    "data::Load(\"weatherAUS_trim.csv\", overSampled, info);"
   ]
  },
  {
   "cell_type": "code",
   "execution_count": null,
   "id": "5b36bd21-fe2b-48c4-b062-d1072a649aa9",
   "metadata": {},
   "outputs": [],
   "source": [
    "data::Save(\"weatherAUSEnc.csv\", overSampled);"
   ]
  },
  {
   "cell_type": "code",
   "execution_count": null,
   "id": "e916ddf6-b5f0-4af8-a562-1737349301d3",
   "metadata": {},
   "outputs": [],
   "source": [
    "!sed -i '1iLocation,MinTemp,MaxTemp,Rainfall,Evaporation,Sunshine,WindGustDir,WindGustSpeed,WindDir9am,WindDir3pm,WindSpeed9am,WindSpeed3pm,Humidity9am,Humidity3pm,Pressure9am,Pressure3pm,Cloud9am,Cloud3pm,Temp9am,Temp3pm,RainToday,RainTomorrow' weatherAUSEnc.csv"
   ]
  },
  {
   "cell_type": "markdown",
   "id": "7f3e3ddb-34d1-4941-ad11-8f40dda10910",
   "metadata": {},
   "source": [
    "### Visualize Correlation"
   ]
  },
  {
   "cell_type": "code",
   "execution_count": null,
   "id": "eba94b9e-f6ff-4ebc-b2ae-8ae3724c8476",
   "metadata": {},
   "outputs": [],
   "source": [
    "HeatMapPlot(\"weatherAUSEnc.csv\", \"coolwarm\", \"Part-2 Correlation Heatmap\", 1);\n",
    "auto img = xw::image_from_file(\"./plots/Part-2 Correlation Heatmap.png\").finalize();\n",
    "img"
   ]
  },
  {
   "cell_type": "code",
   "execution_count": null,
   "id": "a8d00b64-aaa4-4963-9998-a703584862b1",
   "metadata": {},
   "outputs": [],
   "source": [
    "arma::Row<size_t> targets = arma::conv_to<arma::Row<size_t>>::from(overSampled.row(overSampled.n_rows - 1));\n",
    "overSampled.shed_row(overSampled.n_rows-1);"
   ]
  },
  {
   "cell_type": "code",
   "execution_count": null,
   "id": "97736d6f-9fa2-4a4b-9d88-dea823104027",
   "metadata": {},
   "outputs": [],
   "source": [
    "arma::mat Xtrain, Xtest;\n",
    "arma::Row<size_t> Ytrain, Ytest;"
   ]
  },
  {
   "cell_type": "code",
   "execution_count": null,
   "id": "30776aa0-9698-40a6-8cec-4b8c470f4cea",
   "metadata": {},
   "outputs": [],
   "source": [
    "mlpack::data::Split(overSampled, targets, Xtrain, Xtest, Ytrain, Ytest, 0.25);"
   ]
  },
  {
   "cell_type": "code",
   "execution_count": null,
   "id": "b372e822-313e-43b4-808f-e4ce79551d5d",
   "metadata": {},
   "outputs": [],
   "source": [
    "arma::mat XtrainScaled, XtestScaled;"
   ]
  },
  {
   "cell_type": "code",
   "execution_count": null,
   "id": "0fd81c5f-60e9-468e-a688-0672853b2789",
   "metadata": {},
   "outputs": [],
   "source": [
    "StandardScaler scale;\n",
    "scale.Fit(Xtrain);\n",
    "scale.Transform(Xtrain, XtrainScaled);\n",
    "scale.Transform(Xtest, XtestScaled);"
   ]
  },
  {
   "cell_type": "code",
   "execution_count": null,
   "id": "9a32e97d-7356-44b6-9a86-ca922219dfe4",
   "metadata": {},
   "outputs": [],
   "source": [
    "RandomForest<> rf(XtrainScaled, Ytrain, 2, 100);"
   ]
  },
  {
   "cell_type": "code",
   "execution_count": null,
   "id": "d7700caf-746c-4147-82db-fa25b6687bec",
   "metadata": {},
   "outputs": [],
   "source": [
    "arma::Row<size_t> output;\n",
    "arma::mat probs;\n",
    "rf.Classify(XtestScaled, output, probs);"
   ]
  },
  {
   "cell_type": "code",
   "execution_count": null,
   "id": "8602c83a-52cd-4670-9998-fb462afecd3e",
   "metadata": {},
   "outputs": [],
   "source": [
    "data::Save(\"probabilities.csv\", probs);\n",
    "data::Save(\"ytest.csv\", Ytest);"
   ]
  },
  {
   "cell_type": "code",
   "execution_count": null,
   "id": "cb43ad4d-c1c8-40cb-a26c-0bf2e7d045e9",
   "metadata": {},
   "outputs": [],
   "source": [
    "std::cout << \"Accuracy: \" << Accuracy(output, Ytest) << std::endl;\n",
    "ClassificationReport(output, Ytest);"
   ]
  },
  {
   "cell_type": "code",
   "execution_count": null,
   "id": "bb4639d3-ca1a-4713-a2be-1c593aa49e1a",
   "metadata": {},
   "outputs": [],
   "source": [
    "RocAucPlot(\"ytest.csv\", \"probabilities.csv\", \"Part-2 Random Oversampled Targets ROC AUC Curve\");\n",
    "auto img = xw::image_from_file(\"./plots/Part-2 Random Oversampled Targets ROC AUC Curve.png\").finalize();\n",
    "img"
   ]
  },
  {
   "cell_type": "markdown",
   "id": "c30b7475-bff8-4f10-818e-8a8075561c31",
   "metadata": {},
   "source": [
    "### Part 3 - Modelling using Synthetic Minority Over Sampling Technique"
   ]
  },
  {
   "cell_type": "code",
   "execution_count": null,
   "id": "add99eba-c390-46c7-88f5-8d8e86511b4c",
   "metadata": {},
   "outputs": [],
   "source": [
    "impute(\"weatherAUS.csv\");"
   ]
  },
  {
   "cell_type": "code",
   "execution_count": null,
   "id": "ea1d1c92-8d92-4fd2-a44f-7ed07d2d2267",
   "metadata": {},
   "outputs": [],
   "source": [
    "!cat weatherAUS_mean_imputed.csv | sed 1d > weatherAUS_mean_imp.csv"
   ]
  },
  {
   "cell_type": "code",
   "execution_count": null,
   "id": "af2f5d67-92f8-4abb-a391-86dfcd70595c",
   "metadata": {},
   "outputs": [],
   "source": [
    "!cut -d, -f1 --complement weatherAUS_mean_imp.csv > weatherAUS_trim2.csv"
   ]
  },
  {
   "cell_type": "code",
   "execution_count": null,
   "id": "fe9bf89c-644b-419c-b4cc-57fa0c305e70",
   "metadata": {},
   "outputs": [],
   "source": [
    "!rm weatherAUS_trim.csv"
   ]
  },
  {
   "cell_type": "code",
   "execution_count": null,
   "id": "e138abe5-94ec-4e83-8c09-7215778db9be",
   "metadata": {},
   "outputs": [],
   "source": [
    "!mv weatherAUS_trim2.csv weatherAUS_trim.csv"
   ]
  },
  {
   "cell_type": "code",
   "execution_count": null,
   "id": "4a7a5423-ad6e-46bd-8b7e-53f1b5371438",
   "metadata": {},
   "outputs": [],
   "source": [
    "arma::mat smote;\n",
    "mlpack::data::DatasetInfo info;\n",
    "\n",
    "info.Type(0) = mlpack::data::Datatype::categorical;\n",
    "info.Type(6) = mlpack::data::Datatype::categorical;\n",
    "info.Type(8) = mlpack::data::Datatype::categorical;\n",
    "info.Type(9) = mlpack::data::Datatype::categorical;\n",
    "info.Type(20) = mlpack::data::Datatype::categorical;\n",
    "info.Type(21) = mlpack::data::Datatype::categorical;\n",
    "\n",
    "data::Load(\"weatherAUS_trim.csv\", smote, info);"
   ]
  },
  {
   "cell_type": "code",
   "execution_count": null,
   "id": "293a71eb-96f6-42dc-8c26-06409536872b",
   "metadata": {},
   "outputs": [],
   "source": [
    "mlpack::data::Save(\"smote_in.csv\", smote);"
   ]
  },
  {
   "cell_type": "code",
   "execution_count": null,
   "id": "2ea82450-e819-49f3-af6a-3c03bebb8687",
   "metadata": {},
   "outputs": [],
   "source": [
    "resample(\"smote_in.csv\", \"RainTomorrow\", \"No\", \"Yes\", \"smote\", \"Date\", 123);"
   ]
  },
  {
   "cell_type": "code",
   "execution_count": null,
   "id": "4d3bf36b-759e-40df-b0cb-98a0cb874f8b",
   "metadata": {},
   "outputs": [],
   "source": [
    "!cat smote_in_smotesampled.csv | sed 1d > smote_in_smotesampled_woh.csv"
   ]
  },
  {
   "cell_type": "code",
   "execution_count": null,
   "id": "35780ee0-4e19-48d0-b963-d7cdcb3384f7",
   "metadata": {},
   "outputs": [],
   "source": [
    "arma::mat smoteEnc;\n",
    "mlpack::data::DatasetInfo info;\n",
    "\n",
    "info.Type(0) = mlpack::data::Datatype::categorical;\n",
    "info.Type(6) = mlpack::data::Datatype::categorical;\n",
    "info.Type(8) = mlpack::data::Datatype::categorical;\n",
    "info.Type(9) = mlpack::data::Datatype::categorical;\n",
    "info.Type(20) = mlpack::data::Datatype::categorical;\n",
    "info.Type(21) = mlpack::data::Datatype::categorical;\n",
    "\n",
    "data::Load(\"smote_in_smotesampled_woh.csv\", smoteEnc, info);"
   ]
  },
  {
   "cell_type": "code",
   "execution_count": null,
   "id": "bfb2b167-2a2d-40b5-8dd3-8d2561d520f2",
   "metadata": {},
   "outputs": [],
   "source": [
    "data::Save(\"weatherAUSEnc.csv\", smoteEnc);"
   ]
  },
  {
   "cell_type": "code",
   "execution_count": null,
   "id": "750f8e42-aea7-48c1-b707-12798ecc9aed",
   "metadata": {},
   "outputs": [],
   "source": [
    "!sed -i '1iLocation,MinTemp,MaxTemp,Rainfall,Evaporation,Sunshine,WindGustDir,WindGustSpeed,WindDir9am,WindDir3pm,WindSpeed9am,WindSpeed3pm,Humidity9am,Humidity3pm,Pressure9am,Pressure3pm,Cloud9am,Cloud3pm,Temp9am,Temp3pm,RainToday,RainTomorrow' weatherAUSEnc.csv"
   ]
  },
  {
   "cell_type": "code",
   "execution_count": null,
   "id": "53e01550-5a01-494a-9eca-10c59ee7516f",
   "metadata": {},
   "outputs": [],
   "source": [
    "CountPlot(\"weatherAUSEnc.csv\", \"RainTomorrow\", \"\", \"Part-3 Distribution of target class\");\n",
    "auto img = xw::image_from_file(\"./plots/Part-3 Distribution of target class.png\").finalize();\n",
    "img"
   ]
  },
  {
   "cell_type": "markdown",
   "id": "202ced3c-9759-439b-8fac-88687e61083a",
   "metadata": {},
   "source": [
    "### Visualize Correlation"
   ]
  },
  {
   "cell_type": "code",
   "execution_count": null,
   "id": "d8802160-5861-445d-9bc8-8885d7577a7f",
   "metadata": {},
   "outputs": [],
   "source": [
    "HeatMapPlot(\"weatherAUSEnc.csv\", \"coolwarm\", \"Part-3 Correlation Heatmap\", 1);\n",
    "auto img = xw::image_from_file(\"./plots/Part-3 Correlation Heatmap.png\").finalize();\n",
    "img"
   ]
  },
  {
   "cell_type": "code",
   "execution_count": null,
   "id": "c67499ac-4166-4794-84e3-7ead332d9806",
   "metadata": {},
   "outputs": [],
   "source": [
    "arma::Row<size_t> targets = arma::conv_to<arma::Row<size_t>>::from(smoteEnc.row(smoteEnc.n_rows - 1));\n",
    "smoteEnc.shed_row(smoteEnc.n_rows-1);"
   ]
  },
  {
   "cell_type": "code",
   "execution_count": null,
   "id": "23512bcc-8c59-466a-8bfc-2471660c9684",
   "metadata": {},
   "outputs": [],
   "source": [
    "arma::mat Xtrain, Xtest;\n",
    "arma::Row<size_t> Ytrain, Ytest;"
   ]
  },
  {
   "cell_type": "code",
   "execution_count": null,
   "id": "51ee3e91-1a9f-4d9c-834a-f0d1fb864808",
   "metadata": {},
   "outputs": [],
   "source": [
    "mlpack::data::Split(smoteEnc, targets, Xtrain, Xtest, Ytrain, Ytest, 0.25);"
   ]
  },
  {
   "cell_type": "code",
   "execution_count": null,
   "id": "258dda85-6f77-4749-8cb1-37960c3a6420",
   "metadata": {},
   "outputs": [],
   "source": [
    "arma::mat XtrainScaled, XtestScaled;"
   ]
  },
  {
   "cell_type": "code",
   "execution_count": null,
   "id": "95475582-0e27-4c4a-9aa2-131d9674c86f",
   "metadata": {},
   "outputs": [],
   "source": [
    "StandardScaler scale;\n",
    "scale.Fit(Xtrain);\n",
    "scale.Transform(Xtrain, XtrainScaled);\n",
    "scale.Transform(Xtest, XtestScaled);"
   ]
  },
  {
   "cell_type": "code",
   "execution_count": null,
   "id": "072a77c1-0341-481c-b7a0-4c129dad171e",
   "metadata": {},
   "outputs": [],
   "source": [
    "RandomForest<> rf(XtrainScaled, Ytrain, 2, 100);"
   ]
  },
  {
   "cell_type": "code",
   "execution_count": null,
   "id": "93b333aa-ad66-49ad-a544-9e0d3aa1eef7",
   "metadata": {},
   "outputs": [],
   "source": [
    "arma::Row<size_t> output;\n",
    "arma::mat probs;\n",
    "rf.Classify(XtestScaled, output, probs);"
   ]
  },
  {
   "cell_type": "code",
   "execution_count": null,
   "id": "e5eba541-e5f2-4d56-afce-8a0e3f31fad4",
   "metadata": {},
   "outputs": [],
   "source": [
    "data::Save(\"probabilities.csv\", probs);\n",
    "data::Save(\"ytest.csv\", Ytest);"
   ]
  },
  {
   "cell_type": "code",
   "execution_count": null,
   "id": "ff0f3c58-d289-43c3-bfd9-80d4ceea8a83",
   "metadata": {},
   "outputs": [],
   "source": [
    "std::cout << \"Accuracy: \" << Accuracy(output, Ytest) << std::endl;\n",
    "ClassificationReport(output, Ytest);"
   ]
  },
  {
   "cell_type": "code",
   "execution_count": null,
   "id": "3402bac6-1804-4826-9ab1-33715fef3610",
   "metadata": {},
   "outputs": [],
   "source": [
    "RocAucPlot(\"ytest.csv\", \"probabilities.csv\", \"Part-3 SMOTE ROC AUC Curve\");\n",
    "auto img = xw::image_from_file(\"./plots/Part-3 SMOTE ROC AUC Curve.png\").finalize();\n",
    "img"
   ]
  },
  {
   "cell_type": "markdown",
   "id": "bdba8f8b-291f-41ad-b8e0-85c192b52623",
   "metadata": {},
   "source": [
    "### Part - 4 Modelling using Random undersampling"
   ]
  },
  {
   "cell_type": "code",
   "execution_count": null,
   "id": "8848b718-0d20-4eaf-8209-2cb9eb0d9edd",
   "metadata": {},
   "outputs": [],
   "source": [
    "resample(\"weatherAUS.csv\", \"RainTomorrow\", \"No\", \"Yes\", \"undersample\", \"Date\", 123);"
   ]
  },
  {
   "cell_type": "code",
   "execution_count": null,
   "id": "a285cd3d-90aa-4822-ba1d-053d2b8a33db",
   "metadata": {},
   "outputs": [],
   "source": [
    "// Visualize the distribution of target classes.\n",
    "CountPlot(\"weatherAUS_undersampled.csv\", \"RainTomorrow\", \"\", \"Part-4 Undersampled Population\");\n",
    "auto img = xw::image_from_file(\"./plots/Part-4 Undersampled Population.png\").finalize();\n",
    "img"
   ]
  },
  {
   "cell_type": "code",
   "execution_count": null,
   "id": "915f1e80-7f05-48c8-a87f-03e63352135f",
   "metadata": {},
   "outputs": [],
   "source": [
    "MissingPlot(\"weatherAUS_undersampled.csv\", \"PuBu\", \"Part-4 Missing values pre-imputation\");\n",
    "auto img = xw::image_from_file(\"./plots/Part-4 Missing values pre-imputation.png\").finalize();\n",
    "img"
   ]
  },
  {
   "cell_type": "code",
   "execution_count": null,
   "id": "7190e0a5-7188-4436-a68d-44ef51a3dbc3",
   "metadata": {},
   "outputs": [],
   "source": [
    "// Imputation using mean.\n",
    "impute(\"weatherAUS_undersampled.csv\");"
   ]
  },
  {
   "cell_type": "code",
   "execution_count": null,
   "id": "80e684b8-2d0a-43c8-9b67-cc9c858f3faf",
   "metadata": {},
   "outputs": [],
   "source": [
    "!cat weatherAUS_undersampled_mean_imputed.csv | sed 1d > weatherAUS_us_imp.csv"
   ]
  },
  {
   "cell_type": "code",
   "execution_count": null,
   "id": "bfdd0971-fb01-4804-bd9a-ef6db2406db7",
   "metadata": {},
   "outputs": [],
   "source": [
    "!cut -d, -f1 --complement weatherAUS_us_imp.csv > weatherAUS_trim2.csv"
   ]
  },
  {
   "cell_type": "code",
   "execution_count": null,
   "id": "846ed401-0b0f-43cb-85ce-d93ee6c83faa",
   "metadata": {},
   "outputs": [],
   "source": [
    "!rm weatherAUS_trim.csv"
   ]
  },
  {
   "cell_type": "code",
   "execution_count": null,
   "id": "6fd9b6de-a205-485e-9e2a-b77016c50717",
   "metadata": {},
   "outputs": [],
   "source": [
    "!mv weatherAUS_trim2.csv weatherAUS_trim.csv"
   ]
  },
  {
   "cell_type": "code",
   "execution_count": null,
   "id": "6cc391d6-301e-47b9-9abc-36c568b44e3b",
   "metadata": {},
   "outputs": [],
   "source": [
    "arma::mat underSampled;\n",
    "mlpack::data::DatasetInfo info;\n",
    "\n",
    "info.Type(0) = mlpack::data::Datatype::categorical;\n",
    "info.Type(6) = mlpack::data::Datatype::categorical;\n",
    "info.Type(8) = mlpack::data::Datatype::categorical;\n",
    "info.Type(9) = mlpack::data::Datatype::categorical;\n",
    "info.Type(20) = mlpack::data::Datatype::categorical;\n",
    "info.Type(21) = mlpack::data::Datatype::categorical;\n",
    "\n",
    "data::Load(\"weatherAUS_trim.csv\", underSampled, info);"
   ]
  },
  {
   "cell_type": "code",
   "execution_count": null,
   "id": "7e726126-19ab-4317-8d80-24b5f195570b",
   "metadata": {},
   "outputs": [],
   "source": [
    "data::Save(\"weatherAUSEnc.csv\", underSampled);"
   ]
  },
  {
   "cell_type": "code",
   "execution_count": null,
   "id": "68e16a1e-6f12-40fd-af60-be2488e49128",
   "metadata": {},
   "outputs": [],
   "source": [
    "!sed -i '1iLocation,MinTemp,MaxTemp,Rainfall,Evaporation,Sunshine,WindGustDir,WindGustSpeed,WindDir9am,WindDir3pm,WindSpeed9am,WindSpeed3pm,Humidity9am,Humidity3pm,Pressure9am,Pressure3pm,Cloud9am,Cloud3pm,Temp9am,Temp3pm,RainToday,RainTomorrow' weatherAUSEnc.csv"
   ]
  },
  {
   "cell_type": "code",
   "execution_count": null,
   "id": "66c831ea-e89e-48f2-8faa-85acd159ce8f",
   "metadata": {},
   "outputs": [],
   "source": [
    "HeatMapPlot(\"weatherAUSEnc.csv\", \"coolwarm\", \"Part-4 Correlation Heatmap\", 1);\n",
    "auto img = xw::image_from_file(\"./plots/Part-4 Correlation Heatmap.png\").finalize();\n",
    "img"
   ]
  },
  {
   "cell_type": "code",
   "execution_count": null,
   "id": "44201099-dc3b-4e74-b6c6-7d3bf9f2b13b",
   "metadata": {},
   "outputs": [],
   "source": [
    "arma::Row<size_t> targets = arma::conv_to<arma::Row<size_t>>::from(underSampled.row(underSampled.n_rows - 1));\n",
    "underSampled.shed_row(underSampled.n_rows-1);"
   ]
  },
  {
   "cell_type": "code",
   "execution_count": null,
   "id": "db832b37-3b2d-43bf-9ec1-174757138468",
   "metadata": {},
   "outputs": [],
   "source": [
    "arma::mat Xtrain, Xtest;\n",
    "arma::Row<size_t> Ytrain, Ytest;"
   ]
  },
  {
   "cell_type": "code",
   "execution_count": null,
   "id": "158d162e-82e7-40aa-9597-a7f87bb7c250",
   "metadata": {},
   "outputs": [],
   "source": [
    "mlpack::data::Split(underSampled, targets, Xtrain, Xtest, Ytrain, Ytest, 0.25);"
   ]
  },
  {
   "cell_type": "code",
   "execution_count": null,
   "id": "9e5ab98d-2816-48fc-8eec-686b0079f7e0",
   "metadata": {},
   "outputs": [],
   "source": [
    "arma::mat XtrainScaled, XtestScaled;"
   ]
  },
  {
   "cell_type": "code",
   "execution_count": null,
   "id": "eb9e1a61-1554-4bc3-8895-96b75c300341",
   "metadata": {},
   "outputs": [],
   "source": [
    "StandardScaler scale;\n",
    "scale.Fit(Xtrain);\n",
    "scale.Transform(Xtrain, XtrainScaled);\n",
    "scale.Transform(Xtest, XtestScaled);"
   ]
  },
  {
   "cell_type": "code",
   "execution_count": null,
   "id": "085fbc6f-32e7-4643-a837-9a815a6baf5b",
   "metadata": {},
   "outputs": [],
   "source": [
    "RandomForest<> rf(XtrainScaled, Ytrain, 2, 100);"
   ]
  },
  {
   "cell_type": "code",
   "execution_count": null,
   "id": "4359c9c1-1d1f-4df2-8d4b-3ae3d4c78792",
   "metadata": {},
   "outputs": [],
   "source": [
    "arma::Row<size_t> output;\n",
    "arma::mat probs;\n",
    "rf.Classify(XtestScaled, output, probs);"
   ]
  },
  {
   "cell_type": "code",
   "execution_count": null,
   "id": "3780c37b-2f34-4cde-bbb5-0a9297155ab7",
   "metadata": {},
   "outputs": [],
   "source": [
    "data::Save(\"probabilities.csv\", probs);\n",
    "data::Save(\"ytest.csv\", Ytest);"
   ]
  },
  {
   "cell_type": "code",
   "execution_count": null,
   "id": "c16ce5bf-deef-48e1-8c93-cdcb346065c2",
   "metadata": {},
   "outputs": [],
   "source": [
    "std::cout << \"Accuracy: \" << Accuracy(output, Ytest) << std::endl;\n",
    "ClassificationReport(output, Ytest);"
   ]
  },
  {
   "cell_type": "code",
   "execution_count": null,
   "id": "7b1f51c7-2422-4351-b9b5-c602f1230e08",
   "metadata": {},
   "outputs": [],
   "source": [
    "RocAucPlot(\"ytest.csv\", \"probabilities.csv\", \"Part-4 Random Undersampled targets ROC AUC Curve\");\n",
    "auto img = xw::image_from_file(\"./plots/Part-4 Random Undersampled targets ROC AUC Curve.png\").finalize();\n",
    "img"
   ]
  }
 ],
 "metadata": {
  "kernelspec": {
   "display_name": "C++14",
   "language": "C++14",
   "name": "xcpp14"
  },
  "language_info": {
   "codemirror_mode": "text/x-c++src",
   "file_extension": ".cpp",
   "mimetype": "text/x-c++src",
   "name": "c++",
   "version": "14"
  }
 },
 "nbformat": 4,
 "nbformat_minor": 5
}
