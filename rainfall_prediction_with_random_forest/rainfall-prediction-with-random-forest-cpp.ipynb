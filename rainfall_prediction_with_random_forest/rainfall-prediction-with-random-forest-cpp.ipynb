{
 "cells": [
  {
   "cell_type": "code",
   "execution_count": 1,
   "id": "645d4fd2-a8d4-4d6b-b0db-a49d12514c7d",
   "metadata": {},
   "outputs": [],
   "source": [
    "#include <mlpack/xeus-cling.hpp>\n",
    "#include <mlpack/core.hpp>\n",
    "#include <mlpack/core/data/split_data.hpp>\n",
    "#include <mlpack/methods/random_forest/random_forest.hpp>"
   ]
  },
  {
   "cell_type": "code",
   "execution_count": 2,
   "id": "8a4870f5-913a-479a-8d77-a1a27dfcdad5",
   "metadata": {},
   "outputs": [],
   "source": [
    "#define WITHOUT_NUMPY 1\n",
    "#include \"matplotlibcpp.h\"\n",
    "#include \"xwidgets/ximage.hpp\"\n",
    "#include \"../utils/preprocess.hpp\"\n",
    "#include \"../utils/plot.hpp\"\n",
    "\n",
    "namespace plt = matplotlibcpp;"
   ]
  },
  {
   "cell_type": "code",
   "execution_count": 3,
   "id": "7e6095d6-b2c0-41ee-b385-b8bc755b5b20",
   "metadata": {},
   "outputs": [],
   "source": [
    "using namespace mlpack;\n",
    "using namespace mlpack::data;"
   ]
  },
  {
   "cell_type": "markdown",
   "id": "eb3254b1-2e9b-4e5e-a845-898a963937be",
   "metadata": {},
   "source": [
    "### Part 1 - Modelling using Imbalanced Dataset"
   ]
  },
  {
   "cell_type": "markdown",
   "id": "1c8d3c3e-35a5-43d4-a549-360c317b6d76",
   "metadata": {},
   "source": [
    "### Visualize the Missing Values"
   ]
  },
  {
   "cell_type": "code",
   "execution_count": 5,
   "id": "949cdbc7-3777-41d8-adfc-041ce8450a43",
   "metadata": {},
   "outputs": [
    {
     "data": {
      "application/vnd.jupyter.widget-view+json": {
       "model_id": "c8613570cda84774b4014bcc069416a4",
       "version_major": 2,
       "version_minor": 0
      },
      "text/plain": [
       "A Jupyter widget with unique id: c8613570cda84774b4014bcc069416a4"
      ]
     },
     "execution_count": 5,
     "metadata": {},
     "output_type": "execute_result"
    }
   ],
   "source": [
    "missing(\"weatherAUS.csv\", \"PuBu\", \"Part-1 Missing values before imputation\");\n",
    "auto img = xw::image_from_file(\"Part-1 Missing values before imputation.png\").finalize();\n",
    "img"
   ]
  },
  {
   "cell_type": "code",
   "execution_count": 6,
   "id": "8f883fcf-4299-4892-ac96-1ee0aa04d94f",
   "metadata": {},
   "outputs": [],
   "source": [
    "// Imputation using mean\n",
    "impute(\"weatherAUS.csv\");"
   ]
  },
  {
   "cell_type": "code",
   "execution_count": 7,
   "id": "5c2227d1-1a1c-4f90-92fc-ef286085d5ef",
   "metadata": {},
   "outputs": [
    {
     "data": {
      "application/vnd.jupyter.widget-view+json": {
       "model_id": "d1eedd87fde04434a5cdc8551231631d",
       "version_major": 2,
       "version_minor": 0
      },
      "text/plain": [
       "A Jupyter widget with unique id: d1eedd87fde04434a5cdc8551231631d"
      ]
     },
     "execution_count": 7,
     "metadata": {},
     "output_type": "execute_result"
    }
   ],
   "source": [
    "missing(\"weatherAUS_mean_imputed.csv\", \"PuBu\", \"Part-1 Missing values post imputation\");\n",
    "auto img = xw::image_from_file(\"Part-1 Missing values post imputation.png\").finalize();\n",
    "img"
   ]
  },
  {
   "cell_type": "code",
   "execution_count": 9,
   "id": "63456d12-ceeb-48b8-a346-37862673ac50",
   "metadata": {},
   "outputs": [],
   "source": [
    "!cat weatherAUS_mean_imputed.csv | sed 1d > weatherAUS_trim.csv"
   ]
  },
  {
   "cell_type": "code",
   "execution_count": 10,
   "id": "1da1313b-7c6e-4572-90fb-635cea7a058c",
   "metadata": {},
   "outputs": [],
   "source": [
    "!cut -d, -f1 --complement weatherAUS_trim.csv > weatherAUS_trim2.csv"
   ]
  },
  {
   "cell_type": "code",
   "execution_count": 11,
   "id": "feb05a7a-ade9-42f3-9fb9-119d1e1bc29b",
   "metadata": {},
   "outputs": [],
   "source": [
    "!rm weatherAUS_trim.csv"
   ]
  },
  {
   "cell_type": "code",
   "execution_count": 12,
   "id": "dc522011-dbdf-4932-928b-1ea9c91a365a",
   "metadata": {},
   "outputs": [],
   "source": [
    "!mv weatherAUS_trim2.csv weatherAUS_trim.csv"
   ]
  },
  {
   "cell_type": "code",
   "execution_count": 9,
   "id": "3851e90d-78ba-448b-b0cf-b4115258443a",
   "metadata": {},
   "outputs": [],
   "source": [
    "arma::mat weatherData;\n",
    "mlpack::data::DatasetInfo info;\n",
    "\n",
    "info.Type(0) = mlpack::data::Datatype::categorical;\n",
    "info.Type(6) = mlpack::data::Datatype::categorical;\n",
    "info.Type(8) = mlpack::data::Datatype::categorical;\n",
    "info.Type(9) = mlpack::data::Datatype::categorical;\n",
    "info.Type(20) = mlpack::data::Datatype::categorical;\n",
    "info.Type(21) = mlpack::data::Datatype::categorical;\n",
    "\n",
    "data::Load(\"weatherAUS_trim.csv\", weatherData, info);"
   ]
  },
  {
   "cell_type": "code",
   "execution_count": 10,
   "id": "825b4b81-8759-4898-9799-faf17f3f9342",
   "metadata": {},
   "outputs": [
    {
     "name": "stdout",
     "output_type": "stream",
     "text": [
      "            0   1.3400e+01   2.2900e+01   6.0000e-01   5.4682e+00   7.6112e+00            0   4.4000e+01            0            0   2.0000e+01   2.4000e+01   7.1000e+01   2.2000e+01   1.0077e+03   1.0071e+03   8.0000e+00   4.5099e+00   1.6900e+01   2.1800e+01            0            0\n",
      "            0   7.4000e+00   2.5100e+01            0   5.4682e+00   7.6112e+00   1.0000e+00   4.4000e+01   1.0000e+00   1.0000e+00   4.0000e+00   2.2000e+01   4.4000e+01   2.5000e+01   1.0106e+03   1.0078e+03   4.4475e+00   4.5099e+00   1.7200e+01   2.4300e+01            0            0\n",
      "            0   1.2900e+01   2.5700e+01            0   5.4682e+00   7.6112e+00   2.0000e+00   4.6000e+01            0   1.0000e+00   1.9000e+01   2.6000e+01   3.8000e+01   3.0000e+01   1.0076e+03   1.0087e+03   4.4475e+00   2.0000e+00   2.1000e+01   2.3200e+01            0            0\n",
      "            0   9.2000e+00   2.8000e+01            0   5.4682e+00   7.6112e+00   3.0000e+00   2.4000e+01   2.0000e+00   2.0000e+00   1.1000e+01   9.0000e+00   4.5000e+01   1.6000e+01   1.0176e+03   1.0128e+03   4.4475e+00   4.5099e+00   1.8100e+01   2.6500e+01            0            0\n",
      "            0   1.7500e+01   3.2300e+01   1.0000e+00   5.4682e+00   7.6112e+00            0   4.1000e+01   3.0000e+00   3.0000e+00   7.0000e+00   2.0000e+01   8.2000e+01   3.3000e+01   1.0108e+03   1.0060e+03   7.0000e+00   8.0000e+00   1.7800e+01   2.9700e+01            0            0\n",
      "            0   1.4600e+01   2.9700e+01   2.0000e-01   5.4682e+00   7.6112e+00   1.0000e+00   5.6000e+01            0   4.0000e+00   1.9000e+01   2.4000e+01   5.5000e+01   2.3000e+01   1.0092e+03   1.0054e+03   4.4475e+00   4.5099e+00   2.0600e+01   2.8900e+01            0            0\n",
      "\n"
     ]
    }
   ],
   "source": [
    "std::cout << weatherData.submat(0, 0, weatherData.n_rows-1, 5).t() << std::endl;"
   ]
  },
  {
   "cell_type": "code",
   "execution_count": null,
   "id": "1f1ba740-db55-4e1d-a097-af11c21420c1",
   "metadata": {},
   "outputs": [],
   "source": []
  }
 ],
 "metadata": {
  "kernelspec": {
   "display_name": "C++14",
   "language": "C++14",
   "name": "xcpp14"
  },
  "language_info": {
   "codemirror_mode": "text/x-c++src",
   "file_extension": ".cpp",
   "mimetype": "text/x-c++src",
   "name": "c++",
   "version": "14"
  }
 },
 "nbformat": 4,
 "nbformat_minor": 5
}
