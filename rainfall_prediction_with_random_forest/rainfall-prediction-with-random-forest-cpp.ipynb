{
 "cells": [
  {
   "cell_type": "code",
   "execution_count": 1,
   "id": "645d4fd2-a8d4-4d6b-b0db-a49d12514c7d",
   "metadata": {},
   "outputs": [],
   "source": [
    "// Import necessary library headers.\n",
    "#include <mlpack/xeus-cling.hpp>\n",
    "#include <mlpack/core.hpp>\n",
    "#include <mlpack/core/data/split_data.hpp>\n",
    "#include <mlpack/methods/random_forest/random_forest.hpp>\n",
    "#include <mlpack/core/data/scaler_methods/standard_scaler.hpp>"
   ]
  },
  {
   "cell_type": "code",
   "execution_count": 2,
   "id": "8a4870f5-913a-479a-8d77-a1a27dfcdad5",
   "metadata": {},
   "outputs": [],
   "source": [
    "#define WITHOUT_NUMPY 1\n",
    "#include \"matplotlibcpp.h\"\n",
    "#include \"xwidgets/ximage.hpp\"\n",
    "#include \"../utils/preprocess.hpp\"\n",
    "#include \"../utils/plot.hpp\"\n",
    "\n",
    "namespace plt = matplotlibcpp;"
   ]
  },
  {
   "cell_type": "code",
   "execution_count": 3,
   "id": "7e6095d6-b2c0-41ee-b385-b8bc755b5b20",
   "metadata": {},
   "outputs": [],
   "source": [
    "using namespace mlpack;"
   ]
  },
  {
   "cell_type": "code",
   "execution_count": 4,
   "id": "511fa332-d767-4a69-9f21-48e7e8774f20",
   "metadata": {},
   "outputs": [],
   "source": [
    "using namespace mlpack::data;"
   ]
  },
  {
   "cell_type": "code",
   "execution_count": 5,
   "id": "27ed2c63-dfcd-4089-aefb-8a26cb2fa958",
   "metadata": {},
   "outputs": [],
   "source": [
    "using namespace mlpack::tree;"
   ]
  },
  {
   "cell_type": "markdown",
   "id": "eb3254b1-2e9b-4e5e-a845-898a963937be",
   "metadata": {},
   "source": [
    "### Part 1 - Modelling using Imbalanced Dataset"
   ]
  },
  {
   "cell_type": "markdown",
   "id": "1c8d3c3e-35a5-43d4-a549-360c317b6d76",
   "metadata": {},
   "source": [
    "### Visualize the Missing Values"
   ]
  },
  {
   "cell_type": "code",
   "execution_count": 6,
   "id": "949cdbc7-3777-41d8-adfc-041ce8450a43",
   "metadata": {},
   "outputs": [
    {
     "data": {
      "application/vnd.jupyter.widget-view+json": {
       "model_id": "859a9f36432f46acb113df9cd9eb02ec",
       "version_major": 2,
       "version_minor": 0
      },
      "text/plain": [
       "A Jupyter widget with unique id: 859a9f36432f46acb113df9cd9eb02ec"
      ]
     },
     "execution_count": 6,
     "metadata": {},
     "output_type": "execute_result"
    }
   ],
   "source": [
    "missing(\"weatherAUS.csv\", \"PuBu\", \"Part-1 Missing values before imputation\");\n",
    "auto img = xw::image_from_file(\"Part-1 Missing values before imputation.png\").finalize();\n",
    "img"
   ]
  },
  {
   "cell_type": "markdown",
   "id": "43818fd2-bb48-4e4e-bc2e-d9b3c060f2ce",
   "metadata": {},
   "source": [
    "The above visualization shows that high number of missing values in: Sunshine, Evaporation, Cloud9am and Cloud3pm"
   ]
  },
  {
   "cell_type": "code",
   "execution_count": 7,
   "id": "8f883fcf-4299-4892-ac96-1ee0aa04d94f",
   "metadata": {},
   "outputs": [],
   "source": [
    "// Perform imputation on the original dataset using \"mean\" imputation policy.\n",
    "impute(\"weatherAUS.csv\");"
   ]
  },
  {
   "cell_type": "markdown",
   "id": "9b134ab4-9baf-4f93-95f3-73667f016a48",
   "metadata": {},
   "source": [
    "Drop the dataset header using sed, sed is a Unix utility that parses and transforms text."
   ]
  },
  {
   "cell_type": "code",
   "execution_count": 8,
   "id": "63456d12-ceeb-48b8-a346-37862673ac50",
   "metadata": {},
   "outputs": [],
   "source": [
    "!cat weatherAUS_mean_imputed.csv | sed 1d > weatherAUS_trim.csv"
   ]
  },
  {
   "cell_type": "markdown",
   "id": "833c1dd9-26e5-4b17-bc81-53986f003fa5",
   "metadata": {},
   "source": [
    "Drop columns 1 (\"Date\") as it is not required and causes issues while loading the data."
   ]
  },
  {
   "cell_type": "code",
   "execution_count": 9,
   "id": "1da1313b-7c6e-4572-90fb-635cea7a058c",
   "metadata": {},
   "outputs": [],
   "source": [
    "!cut -d, -f1 --complement weatherAUS_trim.csv > weatherAUS_trim2.csv"
   ]
  },
  {
   "cell_type": "markdown",
   "id": "2d23cf23-94df-4c44-b1bf-ae88f2469727",
   "metadata": {},
   "source": [
    "Rename the newly created csv file."
   ]
  },
  {
   "cell_type": "code",
   "execution_count": 10,
   "id": "feb05a7a-ade9-42f3-9fb9-119d1e1bc29b",
   "metadata": {},
   "outputs": [],
   "source": [
    "!rm weatherAUS_trim.csv"
   ]
  },
  {
   "cell_type": "code",
   "execution_count": 11,
   "id": "dc522011-dbdf-4932-928b-1ea9c91a365a",
   "metadata": {},
   "outputs": [],
   "source": [
    "!mv weatherAUS_trim2.csv weatherAUS_trim.csv"
   ]
  },
  {
   "cell_type": "code",
   "execution_count": 12,
   "id": "3851e90d-78ba-448b-b0cf-b4115258443a",
   "metadata": {},
   "outputs": [],
   "source": [
    "// Load the preprocessed dataset into armadillo matrix.\n",
    "arma::mat weatherData;\n",
    "mlpack::data::DatasetInfo info;\n",
    "\n",
    "// Manually set the columns with contain categorical data in DatasetInfo.\n",
    "info.Type(0) = mlpack::data::Datatype::categorical;\n",
    "info.Type(6) = mlpack::data::Datatype::categorical;\n",
    "info.Type(8) = mlpack::data::Datatype::categorical;\n",
    "info.Type(9) = mlpack::data::Datatype::categorical;\n",
    "info.Type(20) = mlpack::data::Datatype::categorical;\n",
    "info.Type(21) = mlpack::data::Datatype::categorical;\n",
    "\n",
    "data::Load(\"weatherAUS_trim.csv\", weatherData, info);"
   ]
  },
  {
   "cell_type": "code",
   "execution_count": 13,
   "id": "d4b0bcc2-fa2b-485d-b353-43bfafbfb7f3",
   "metadata": {},
   "outputs": [],
   "source": [
    "data::Save(\"weatherAUSEnc.csv\", weatherData);"
   ]
  },
  {
   "cell_type": "code",
   "execution_count": 16,
   "id": "a7a18486-ba32-4765-9a26-048e91c530f9",
   "metadata": {},
   "outputs": [],
   "source": [
    "!sed -i '1iLocation,MinTemp,MaxTemp,Rainfall,Evaporation,Sunshine,WindGustDir,WindGustSpeed,WindDir9am,WindDir3pm,WindSpeed9am,WindSpeed3pm,Humidity9am,Humidity3pm,Pressure9am,Pressure3pm,Cloud9am,Cloud3pm,Temp9am,Temp3pm,RainToday,RainTomorrow' weatherAUSEnc.csv"
   ]
  },
  {
   "cell_type": "code",
   "execution_count": 17,
   "id": "825b4b81-8759-4898-9799-faf17f3f9342",
   "metadata": {},
   "outputs": [
    {
     "name": "stdout",
     "output_type": "stream",
     "text": [
      "       Location   MinTemp      MaxTemp    Rainfall    Evaporation    Sunshine      WindGust  WindGustSpeed  WindDir9am\n",
      "            0   1.3400e+01   2.2900e+01   6.0000e-01   5.4682e+00   7.6112e+00            0   4.4000e+01            0            0   2.0000e+01   2.4000e+01   7.1000e+01   2.2000e+01   1.0077e+03   1.0071e+03   8.0000e+00   4.5099e+00   1.6900e+01   2.1800e+01            0            0\n",
      "            0   7.4000e+00   2.5100e+01            0   5.4682e+00   7.6112e+00   1.0000e+00   4.4000e+01   1.0000e+00   1.0000e+00   4.0000e+00   2.2000e+01   4.4000e+01   2.5000e+01   1.0106e+03   1.0078e+03   4.4475e+00   4.5099e+00   1.7200e+01   2.4300e+01            0            0\n",
      "            0   1.2900e+01   2.5700e+01            0   5.4682e+00   7.6112e+00   2.0000e+00   4.6000e+01            0   1.0000e+00   1.9000e+01   2.6000e+01   3.8000e+01   3.0000e+01   1.0076e+03   1.0087e+03   4.4475e+00   2.0000e+00   2.1000e+01   2.3200e+01            0            0\n",
      "            0   9.2000e+00   2.8000e+01            0   5.4682e+00   7.6112e+00   3.0000e+00   2.4000e+01   2.0000e+00   2.0000e+00   1.1000e+01   9.0000e+00   4.5000e+01   1.6000e+01   1.0176e+03   1.0128e+03   4.4475e+00   4.5099e+00   1.8100e+01   2.6500e+01            0            0\n",
      "            0   1.7500e+01   3.2300e+01   1.0000e+00   5.4682e+00   7.6112e+00            0   4.1000e+01   3.0000e+00   3.0000e+00   7.0000e+00   2.0000e+01   8.2000e+01   3.3000e+01   1.0108e+03   1.0060e+03   7.0000e+00   8.0000e+00   1.7800e+01   2.9700e+01            0            0\n",
      "            0   1.4600e+01   2.9700e+01   2.0000e-01   5.4682e+00   7.6112e+00   1.0000e+00   5.6000e+01            0   4.0000e+00   1.9000e+01   2.4000e+01   5.5000e+01   2.3000e+01   1.0092e+03   1.0054e+03   4.4475e+00   4.5099e+00   2.0600e+01   2.8900e+01            0            0\n",
      "\n"
     ]
    }
   ],
   "source": [
    "// Inspect the first 5 examples in the dataset\n",
    "std::cout << std::setw(15) << \"Location\" << std::setw(10) << \"MinTemp\" << std::setw(13) << \"MaxTemp\" \n",
    "          << std::setw(12) << \"Rainfall\" << std::setw(15) << \"Evaporation\" << std::setw(12) \n",
    "          << \"Sunshine\" << std::setw(14) << \"WindGust\" << std::setw(15) << \"WindGustSpeed\"\n",
    "          << std::setw(12) << \"WindDir9am\" << std::endl;\n",
    "std::cout << weatherData.submat(0, 0, weatherData.n_rows-1, 5).t() << std::endl;"
   ]
  },
  {
   "cell_type": "code",
   "execution_count": 18,
   "id": "1f1ba740-db55-4e1d-a097-af11c21420c1",
   "metadata": {},
   "outputs": [
    {
     "data": {
      "application/vnd.jupyter.widget-view+json": {
       "model_id": "779ba021d19b4333b7a0e7757f84f27b",
       "version_major": 2,
       "version_minor": 0
      },
      "text/plain": [
       "A Jupyter widget with unique id: 779ba021d19b4333b7a0e7757f84f27b"
      ]
     },
     "execution_count": 18,
     "metadata": {},
     "output_type": "execute_result"
    }
   ],
   "source": [
    "// Visualize the distribution of target classes\n",
    "countplot(\"weatherAUS_mean_imputed.csv\", \"RainTomorrow\", \"\", \"Part-1 Distribution of target class\");\n",
    "auto img = xw::image_from_file(\"Part-1 Distribution of target class.png\").finalize();\n",
    "img"
   ]
  },
  {
   "cell_type": "markdown",
   "id": "7bad786b-5dd5-4a91-99d1-2c785deccf65",
   "metadata": {},
   "source": [
    "### EDA"
   ]
  },
  {
   "cell_type": "code",
   "execution_count": 19,
   "id": "5db5a03f-104c-41fc-a164-565f17cb76e5",
   "metadata": {},
   "outputs": [
    {
     "data": {
      "application/vnd.jupyter.widget-view+json": {
       "model_id": "15a18dd227df4db290304a9d85ddab9b",
       "version_major": 2,
       "version_minor": 0
      },
      "text/plain": [
       "A Jupyter widget with unique id: 15a18dd227df4db290304a9d85ddab9b"
      ]
     },
     "execution_count": 19,
     "metadata": {},
     "output_type": "execute_result"
    }
   ],
   "source": [
    "countplot(\"weatherAUS_mean_imputed.csv\", \"WindDir9am\", \"\", \"Part-1 Direction of wind at 9 am\");\n",
    "auto img = xw::image_from_file(\"Part-1 Direction of wind at 9 am.png\").finalize();\n",
    "img"
   ]
  },
  {
   "cell_type": "code",
   "execution_count": 20,
   "id": "ba5c20b4-0a12-45c8-b125-39bd1fbd1422",
   "metadata": {},
   "outputs": [
    {
     "data": {
      "application/vnd.jupyter.widget-view+json": {
       "model_id": "126a3d5f0fc24efeb2861fc85fe6c2b9",
       "version_major": 2,
       "version_minor": 0
      },
      "text/plain": [
       "A Jupyter widget with unique id: 126a3d5f0fc24efeb2861fc85fe6c2b9"
      ]
     },
     "execution_count": 20,
     "metadata": {},
     "output_type": "execute_result"
    }
   ],
   "source": [
    "countplot(\"weatherAUS_mean_imputed.csv\", \"WindDir3pm\", \"\", \"Part-1 Direction of wind at 3 pm\");\n",
    "auto img = xw::image_from_file(\"Part-1 Direction of wind at 3 pm.png\").finalize();\n",
    "img"
   ]
  },
  {
   "cell_type": "code",
   "execution_count": 21,
   "id": "28abe712-59be-4827-aec5-2d18a095649e",
   "metadata": {},
   "outputs": [
    {
     "data": {
      "application/vnd.jupyter.widget-view+json": {
       "model_id": "ab091e7725c84fae8c3b522eb367ebd8",
       "version_major": 2,
       "version_minor": 0
      },
      "text/plain": [
       "A Jupyter widget with unique id: ab091e7725c84fae8c3b522eb367ebd8"
      ]
     },
     "execution_count": 21,
     "metadata": {},
     "output_type": "execute_result"
    }
   ],
   "source": [
    "countplot(\"weatherAUS_mean_imputed.csv\", \"WindGustDir\", \"\", \"Part-1 Direction of wind Gust\");\n",
    "auto img = xw::image_from_file(\"Part-1 Direction of wind Gust.png\").finalize();\n",
    "img"
   ]
  },
  {
   "cell_type": "markdown",
   "id": "a6c80163-8020-414a-94c6-25cb9c271025",
   "metadata": {},
   "source": [
    "### Visualize Correlation"
   ]
  },
  {
   "cell_type": "code",
   "execution_count": 22,
   "id": "9c09fa50-4ff2-43a0-9837-29560ca9bc6d",
   "metadata": {},
   "outputs": [
    {
     "data": {
      "application/vnd.jupyter.widget-view+json": {
       "model_id": "84a3e07d7f134f4f8c464b6865c6bde7",
       "version_major": 2,
       "version_minor": 0
      },
      "text/plain": [
       "A Jupyter widget with unique id: 84a3e07d7f134f4f8c464b6865c6bde7"
      ]
     },
     "execution_count": 22,
     "metadata": {},
     "output_type": "execute_result"
    }
   ],
   "source": [
    "heatmap(\"weatherAUSEnc.csv\", \"coolwarm\", \"Part-1 Correlation Heatmap\", 1);\n",
    "auto img = xw::image_from_file(\"Part-1 Correlation Heatmap.png\").finalize();\n",
    "img"
   ]
  },
  {
   "cell_type": "markdown",
   "id": "dc91a701-a9bc-4aa8-8ae5-a195c67aa0a8",
   "metadata": {},
   "source": [
    "As we can observe from the above heatmap, there is high correlation between the following features:\n",
    "* MinTemp & MaxTemp\n",
    "* MinTemp & Temp9am\n",
    "* MinTemp & Temp3pm\n",
    "* MaxTemp & Temp9am\n",
    "* MaxTemp & Temp3pm\n",
    "* Temp3pm & Temp9am\n",
    "* Pressure9am & Pressure3pm\n",
    "* Evaporation & MaxTemp"
   ]
  },
  {
   "cell_type": "code",
   "execution_count": 23,
   "id": "b200f227-5a16-4cfa-98c8-adf01fe4e1eb",
   "metadata": {},
   "outputs": [],
   "source": [
    "arma::Row<size_t> targets = arma::conv_to<arma::Row<size_t>>::from(weatherData.row(weatherData.n_rows - 1));\n",
    "weatherData.shed_row(weatherData.n_rows-1);"
   ]
  },
  {
   "cell_type": "code",
   "execution_count": 24,
   "id": "55395532-4475-4af3-9cf8-794aec345ea6",
   "metadata": {},
   "outputs": [],
   "source": [
    "arma::mat Xtrain, Xtest;\n",
    "arma::Row<size_t> Ytrain, Ytest;"
   ]
  },
  {
   "cell_type": "code",
   "execution_count": 25,
   "id": "785e7340-ad82-423e-a297-2fcc73c16e3c",
   "metadata": {},
   "outputs": [],
   "source": [
    "mlpack::data::Split(weatherData, targets, Xtrain, Xtest, Ytrain, Ytest, 0.25);"
   ]
  },
  {
   "cell_type": "code",
   "execution_count": 26,
   "id": "604eba7e-c416-4831-a57f-4254ae8a25cc",
   "metadata": {},
   "outputs": [],
   "source": [
    "arma::mat XtrainScaled, XtestScaled;"
   ]
  },
  {
   "cell_type": "code",
   "execution_count": 27,
   "id": "bea40bbe-266e-4c4b-8b43-25b8fddf1d95",
   "metadata": {},
   "outputs": [],
   "source": [
    "StandardScaler scale;\n",
    "scale.Fit(Xtrain);\n",
    "scale.Transform(Xtrain, XtrainScaled);\n",
    "scale.Transform(Xtest, XtestScaled);"
   ]
  },
  {
   "cell_type": "code",
   "execution_count": 28,
   "id": "73c3b088-b8a8-485b-ad21-6de158b863b2",
   "metadata": {},
   "outputs": [],
   "source": [
    "RandomForest<> rf(XtrainScaled, Ytrain, 2, 100);"
   ]
  },
  {
   "cell_type": "code",
   "execution_count": 30,
   "id": "66fd8054-1d20-4a00-977e-ef9650ae349d",
   "metadata": {},
   "outputs": [],
   "source": [
    "arma::Row<size_t> output;\n",
    "rf.Classify(XtestScaled, output);"
   ]
  },
  {
   "cell_type": "code",
   "execution_count": 32,
   "id": "7b2e442a-cf69-4196-a65d-5721164c1663",
   "metadata": {},
   "outputs": [],
   "source": [
    "double precision(const size_t truePos, const size_t falsePos)\n",
    "{\n",
    "    return (double)truePos / (double)(truePos + falsePos);\n",
    "}"
   ]
  },
  {
   "cell_type": "code",
   "execution_count": 31,
   "id": "1ed9e33f-e38c-41a2-99cc-a52d07a5551b",
   "metadata": {},
   "outputs": [],
   "source": [
    "double recall(const size_t truePos, const size_t falseNeg)\n",
    "{\n",
    "    return (double)truePos / (double)(truePos + falseNeg);\n",
    "}"
   ]
  },
  {
   "cell_type": "code",
   "execution_count": 33,
   "id": "7477b14a-483a-4a66-9a07-7065d96977c1",
   "metadata": {},
   "outputs": [],
   "source": [
    "double f1score(const size_t truePos, const size_t falsePos, const size_t falseNeg)\n",
    "{\n",
    "    double prec = precision(truePos, falsePos);\n",
    "    double rec = precision(truePos, falseNeg);\n",
    "    return (prec * rec) / (prec + rec);\n",
    "}"
   ]
  },
  {
   "cell_type": "code",
   "execution_count": 34,
   "id": "000f564b-0f12-4693-9f27-a061d6c0fbd6",
   "metadata": {},
   "outputs": [],
   "source": [
    "void classification_report(const arma::Row<size_t>& yPreds, const arma::Row<size_t>& yTrue)\n",
    "{\n",
    "    arma::Row<size_t> uniqs = arma::unique(yTrue);\n",
    "    for(auto val: uniqs)\n",
    "    {\n",
    "        const size_t truePos = \n",
    "    }\n",
    "}"
   ]
  },
  {
   "cell_type": "code",
   "execution_count": 38,
   "id": "5a6b7aa6-3665-40c3-824f-7db6286dc1b6",
   "metadata": {},
   "outputs": [
    {
     "name": "stdout",
     "output_type": "stream",
     "text": [
      "0\n",
      "1\n"
     ]
    }
   ],
   "source": [
    "classification_report(output, Ytest);"
   ]
  },
  {
   "cell_type": "code",
   "execution_count": 35,
   "id": "4fb69353-9bc0-49e0-a1e6-9dddb39f8312",
   "metadata": {},
   "outputs": [],
   "source": [
    "const size_t correct = arma::accu(output == Ytest);"
   ]
  },
  {
   "cell_type": "code",
   "execution_count": 36,
   "id": "71f55a5d-5bb6-4aee-aac7-e8a7942242d8",
   "metadata": {},
   "outputs": [
    {
     "name": "stdout",
     "output_type": "stream",
     "text": [
      "Accuracy: 0.857033\n"
     ]
    }
   ],
   "source": [
    "std::cout <<  \"Accuracy: \" << (double)correct / (double)Ytest.n_elem << std::endl;"
   ]
  },
  {
   "cell_type": "markdown",
   "id": "2428510f-11ea-4662-bea6-25d9e875521b",
   "metadata": {},
   "source": [
    "### Part 2 - Modelling using Random Oversampling"
   ]
  },
  {
   "cell_type": "code",
   "execution_count": 28,
   "id": "c08ac522-cd05-4966-a877-c726c393a1c5",
   "metadata": {},
   "outputs": [],
   "source": [
    "resample(\"weatherAUS.csv\", \"RainTomorrow\", \"No\", \"Yes\", \"oversample\", \"Date\", 123);"
   ]
  },
  {
   "cell_type": "code",
   "execution_count": 29,
   "id": "bfbf4f89-c5ff-4bc7-88a2-a4140e93ea25",
   "metadata": {},
   "outputs": [
    {
     "data": {
      "application/vnd.jupyter.widget-view+json": {
       "model_id": "a6889c6b9395401d85bba3d4c8b03601",
       "version_major": 2,
       "version_minor": 0
      },
      "text/plain": [
       "A Jupyter widget with unique id: a6889c6b9395401d85bba3d4c8b03601"
      ]
     },
     "execution_count": 29,
     "metadata": {},
     "output_type": "execute_result"
    }
   ],
   "source": [
    "// Visualize the distribution of target classes\n",
    "countplot(\"weatherAUS_oversampled.csv\", \"RainTomorrow\", \"\", \"Part-2 Oversampled Population\");\n",
    "auto img = xw::image_from_file(\"Part-2 Oversampled Population.png\").finalize();\n",
    "img"
   ]
  },
  {
   "cell_type": "markdown",
   "id": "caf5a9e9-6c8b-42a0-abf4-554c5f57dfc0",
   "metadata": {},
   "source": [
    "### Visualize the Missing Values"
   ]
  },
  {
   "cell_type": "code",
   "execution_count": 30,
   "id": "f0f4d90d-c0bb-4604-ba1d-619d3dda0132",
   "metadata": {},
   "outputs": [
    {
     "data": {
      "application/vnd.jupyter.widget-view+json": {
       "model_id": "dbd1f475d38b4bd8a2237bc230b126d3",
       "version_major": 2,
       "version_minor": 0
      },
      "text/plain": [
       "A Jupyter widget with unique id: dbd1f475d38b4bd8a2237bc230b126d3"
      ]
     },
     "execution_count": 30,
     "metadata": {},
     "output_type": "execute_result"
    }
   ],
   "source": [
    "missing(\"weatherAUS_oversampled.csv\", \"PuBu\", \"Part-2 Missing values before imputation\");\n",
    "auto img = xw::image_from_file(\"Part-2 Missing values before imputation.png\").finalize();\n",
    "img"
   ]
  },
  {
   "cell_type": "code",
   "execution_count": 31,
   "id": "ee1cd78f-b880-4028-9a4e-02e4923c1284",
   "metadata": {},
   "outputs": [],
   "source": [
    "// Imputation using mean\n",
    "impute(\"weatherAUS_oversampled.csv\");"
   ]
  },
  {
   "cell_type": "code",
   "execution_count": 32,
   "id": "472a6ca2-9b08-4c30-a2be-f79cfce9d573",
   "metadata": {},
   "outputs": [],
   "source": [
    "!cat weatherAUS_oversampled_mean_imputed.csv | sed 1d > weatherAUS_os_imp.csv"
   ]
  },
  {
   "cell_type": "code",
   "execution_count": 33,
   "id": "dcb4e9f5-73f6-4425-80b3-aa5a510e6d45",
   "metadata": {},
   "outputs": [],
   "source": [
    "!cut -d, -f1 --complement weatherAUS_os_imp.csv > weatherAUS_trim2.csv"
   ]
  },
  {
   "cell_type": "code",
   "execution_count": 34,
   "id": "9fd53f05-a53f-482a-a67f-2922a139e9f3",
   "metadata": {},
   "outputs": [],
   "source": [
    "!rm weatherAUS_trim.csv"
   ]
  },
  {
   "cell_type": "code",
   "execution_count": 35,
   "id": "60b3c14b-9600-4098-a6b8-1a22925806da",
   "metadata": {},
   "outputs": [],
   "source": [
    "!mv weatherAUS_trim2.csv weatherAUS_trim.csv"
   ]
  },
  {
   "cell_type": "code",
   "execution_count": 36,
   "id": "6e193026-e6e3-4d3e-ab24-e7241d87f25f",
   "metadata": {},
   "outputs": [],
   "source": [
    "arma::mat overSampled;\n",
    "mlpack::data::DatasetInfo info;\n",
    "\n",
    "info.Type(0) = mlpack::data::Datatype::categorical;\n",
    "info.Type(6) = mlpack::data::Datatype::categorical;\n",
    "info.Type(8) = mlpack::data::Datatype::categorical;\n",
    "info.Type(9) = mlpack::data::Datatype::categorical;\n",
    "info.Type(20) = mlpack::data::Datatype::categorical;\n",
    "info.Type(21) = mlpack::data::Datatype::categorical;\n",
    "\n",
    "data::Load(\"weatherAUS_trim.csv\", overSampled, info);"
   ]
  },
  {
   "cell_type": "code",
   "execution_count": 37,
   "id": "a8d00b64-aaa4-4963-9998-a703584862b1",
   "metadata": {},
   "outputs": [],
   "source": [
    "arma::Row<size_t> targets = arma::conv_to<arma::Row<size_t>>::from(overSampled.row(overSampled.n_rows - 1));\n",
    "overSampled.shed_row(overSampled.n_rows-1);"
   ]
  },
  {
   "cell_type": "code",
   "execution_count": 38,
   "id": "97736d6f-9fa2-4a4b-9d88-dea823104027",
   "metadata": {},
   "outputs": [],
   "source": [
    "arma::mat Xtrain, Xtest;\n",
    "arma::Row<size_t> Ytrain, Ytest;"
   ]
  },
  {
   "cell_type": "code",
   "execution_count": 39,
   "id": "30776aa0-9698-40a6-8cec-4b8c470f4cea",
   "metadata": {},
   "outputs": [],
   "source": [
    "mlpack::data::Split(overSampled, targets, Xtrain, Xtest, Ytrain, Ytest, 0.25);"
   ]
  },
  {
   "cell_type": "code",
   "execution_count": 40,
   "id": "b372e822-313e-43b4-808f-e4ce79551d5d",
   "metadata": {},
   "outputs": [],
   "source": [
    "arma::mat XtrainScaled, XtestScaled;"
   ]
  },
  {
   "cell_type": "code",
   "execution_count": 41,
   "id": "0fd81c5f-60e9-468e-a688-0672853b2789",
   "metadata": {},
   "outputs": [],
   "source": [
    "StandardScaler scale;\n",
    "scale.Fit(Xtrain);\n",
    "scale.Transform(Xtrain, XtrainScaled);\n",
    "scale.Transform(Xtest, XtestScaled);"
   ]
  },
  {
   "cell_type": "code",
   "execution_count": 42,
   "id": "9a32e97d-7356-44b6-9a86-ca922219dfe4",
   "metadata": {},
   "outputs": [],
   "source": [
    "RandomForest<> rf(XtrainScaled, Ytrain, 2, 100);"
   ]
  },
  {
   "cell_type": "code",
   "execution_count": 43,
   "id": "d7700caf-746c-4147-82db-fa25b6687bec",
   "metadata": {},
   "outputs": [],
   "source": [
    "arma::Row<size_t> output;\n",
    "rf.Classify(XtestScaled, output);"
   ]
  },
  {
   "cell_type": "code",
   "execution_count": 44,
   "id": "4ec07d64-caf3-4235-9759-58b0c11acbf1",
   "metadata": {},
   "outputs": [],
   "source": [
    "const size_t correct = arma::accu(output == Ytest);"
   ]
  },
  {
   "cell_type": "code",
   "execution_count": 20,
   "id": "cb43ad4d-c1c8-40cb-a26c-0bf2e7d045e9",
   "metadata": {},
   "outputs": [
    {
     "name": "stderr",
     "output_type": "stream",
     "text": [
      "\u001b[1minput_line_25:2:40: \u001b[0m\u001b[0;1;31merror: \u001b[0m\u001b[1muse of undeclared identifier 'correct'\u001b[0m\n",
      " std::cout <<  \"Accuracy: \" << (double)correct / (double)Ytest.n_elem << std::endl;\n",
      "\u001b[0;1;32m                                       ^\n",
      "\u001b[0m"
     ]
    },
    {
     "ename": "Interpreter Error",
     "evalue": "",
     "output_type": "error",
     "traceback": [
      "Interpreter Error: "
     ]
    }
   ],
   "source": [
    "std::cout <<  \"Accuracy: \" << (double)correct / (double)Ytest.n_elem << std::endl;"
   ]
  },
  {
   "cell_type": "markdown",
   "id": "c30b7475-bff8-4f10-818e-8a8075561c31",
   "metadata": {},
   "source": [
    "### Part 3 - Modelling using Synthetic Minority Over Sampling Technique"
   ]
  },
  {
   "cell_type": "code",
   "execution_count": 6,
   "id": "add99eba-c390-46c7-88f5-8d8e86511b4c",
   "metadata": {},
   "outputs": [],
   "source": [
    "impute(\"weatherAUS.csv\");"
   ]
  },
  {
   "cell_type": "code",
   "execution_count": 7,
   "id": "ea1d1c92-8d92-4fd2-a44f-7ed07d2d2267",
   "metadata": {},
   "outputs": [],
   "source": [
    "!cat weatherAUS_mean_imputed.csv | sed 1d > weatherAUS_mean_imp.csv"
   ]
  },
  {
   "cell_type": "code",
   "execution_count": 61,
   "id": "af2f5d67-92f8-4abb-a391-86dfcd70595c",
   "metadata": {},
   "outputs": [],
   "source": [
    "!cut -d, -f1 --complement weatherAUS_mean_imp.csv > weatherAUS_trim2.csv"
   ]
  },
  {
   "cell_type": "code",
   "execution_count": 62,
   "id": "fe9bf89c-644b-419c-b4cc-57fa0c305e70",
   "metadata": {},
   "outputs": [],
   "source": [
    "!rm weatherAUS_trim.csv"
   ]
  },
  {
   "cell_type": "code",
   "execution_count": 63,
   "id": "e138abe5-94ec-4e83-8c09-7215778db9be",
   "metadata": {},
   "outputs": [],
   "source": [
    "!mv weatherAUS_trim2.csv weatherAUS_trim.csv"
   ]
  },
  {
   "cell_type": "code",
   "execution_count": 64,
   "id": "4a7a5423-ad6e-46bd-8b7e-53f1b5371438",
   "metadata": {},
   "outputs": [],
   "source": [
    "arma::mat smote;\n",
    "mlpack::data::DatasetInfo info;\n",
    "\n",
    "info.Type(0) = mlpack::data::Datatype::categorical;\n",
    "info.Type(6) = mlpack::data::Datatype::categorical;\n",
    "info.Type(8) = mlpack::data::Datatype::categorical;\n",
    "info.Type(9) = mlpack::data::Datatype::categorical;\n",
    "info.Type(20) = mlpack::data::Datatype::categorical;\n",
    "info.Type(21) = mlpack::data::Datatype::categorical;\n",
    "\n",
    "data::Load(\"weatherAUS_trim.csv\", smote, info);"
   ]
  },
  {
   "cell_type": "code",
   "execution_count": 65,
   "id": "293a71eb-96f6-42dc-8c26-06409536872b",
   "metadata": {},
   "outputs": [],
   "source": [
    "mlpack::data::Save(\"smote_in.csv\", smote);"
   ]
  },
  {
   "cell_type": "code",
   "execution_count": 10,
   "id": "2ea82450-e819-49f3-af6a-3c03bebb8687",
   "metadata": {},
   "outputs": [],
   "source": [
    "resample(\"smote_in.csv\", \"RainTomorrow\", \"No\", \"Yes\", \"smote\", \"Date\", 123);"
   ]
  },
  {
   "cell_type": "code",
   "execution_count": 11,
   "id": "4d3bf36b-759e-40df-b0cb-98a0cb874f8b",
   "metadata": {},
   "outputs": [],
   "source": [
    "!cat smote_in_smotesampled.csv | sed 1d > smote_in_smotesampled_woh.csv"
   ]
  },
  {
   "cell_type": "code",
   "execution_count": 12,
   "id": "35780ee0-4e19-48d0-b963-d7cdcb3384f7",
   "metadata": {},
   "outputs": [],
   "source": [
    "arma::mat smoteEnc;\n",
    "mlpack::data::DatasetInfo info;\n",
    "\n",
    "info.Type(0) = mlpack::data::Datatype::categorical;\n",
    "info.Type(6) = mlpack::data::Datatype::categorical;\n",
    "info.Type(8) = mlpack::data::Datatype::categorical;\n",
    "info.Type(9) = mlpack::data::Datatype::categorical;\n",
    "info.Type(20) = mlpack::data::Datatype::categorical;\n",
    "info.Type(21) = mlpack::data::Datatype::categorical;\n",
    "\n",
    "data::Load(\"smote_in_smotesampled_woh.csv\", smoteEnc, info);"
   ]
  },
  {
   "cell_type": "code",
   "execution_count": null,
   "id": "53e01550-5a01-494a-9eca-10c59ee7516f",
   "metadata": {},
   "outputs": [],
   "source": [
    "countplot(\"weatherAUS_mean_imputed.csv\", \"RainTomorrow\", \"\", \"Part-1 Distribution of target class\");\n",
    "auto img = xw::image_from_file(\"Part-1 Distribution of target class.png\").finalize();\n",
    "img"
   ]
  },
  {
   "cell_type": "code",
   "execution_count": 13,
   "id": "c67499ac-4166-4794-84e3-7ead332d9806",
   "metadata": {},
   "outputs": [],
   "source": [
    "arma::Row<size_t> targets = arma::conv_to<arma::Row<size_t>>::from(smoteEnc.row(smoteEnc.n_rows - 1));\n",
    "smoteEnc.shed_row(smoteEnc.n_rows-1);"
   ]
  },
  {
   "cell_type": "code",
   "execution_count": 14,
   "id": "23512bcc-8c59-466a-8bfc-2471660c9684",
   "metadata": {},
   "outputs": [],
   "source": [
    "arma::mat Xtrain, Xtest;\n",
    "arma::Row<size_t> Ytrain, Ytest;"
   ]
  },
  {
   "cell_type": "code",
   "execution_count": 15,
   "id": "51ee3e91-1a9f-4d9c-834a-f0d1fb864808",
   "metadata": {},
   "outputs": [],
   "source": [
    "mlpack::data::Split(smoteEnc, targets, Xtrain, Xtest, Ytrain, Ytest, 0.25);"
   ]
  },
  {
   "cell_type": "code",
   "execution_count": 16,
   "id": "258dda85-6f77-4749-8cb1-37960c3a6420",
   "metadata": {},
   "outputs": [],
   "source": [
    "arma::mat XtrainScaled, XtestScaled;"
   ]
  },
  {
   "cell_type": "code",
   "execution_count": 17,
   "id": "95475582-0e27-4c4a-9aa2-131d9674c86f",
   "metadata": {},
   "outputs": [],
   "source": [
    "StandardScaler scale;\n",
    "scale.Fit(Xtrain);\n",
    "scale.Transform(Xtrain, XtrainScaled);\n",
    "scale.Transform(Xtest, XtestScaled);"
   ]
  },
  {
   "cell_type": "code",
   "execution_count": 18,
   "id": "072a77c1-0341-481c-b7a0-4c129dad171e",
   "metadata": {},
   "outputs": [],
   "source": [
    "RandomForest<> rf(XtrainScaled, Ytrain, 2, 100);"
   ]
  },
  {
   "cell_type": "code",
   "execution_count": 19,
   "id": "93b333aa-ad66-49ad-a544-9e0d3aa1eef7",
   "metadata": {},
   "outputs": [],
   "source": [
    "arma::Row<size_t> output;\n",
    "rf.Classify(XtestScaled, output);"
   ]
  },
  {
   "cell_type": "code",
   "execution_count": 24,
   "id": "ff0f3c58-d289-43c3-bfd9-80d4ceea8a83",
   "metadata": {},
   "outputs": [],
   "source": [
    "const size_t correct = arma::accu(output == Ytest);"
   ]
  },
  {
   "cell_type": "code",
   "execution_count": 28,
   "id": "8ada5cc0-a276-40d0-9a4f-182b339e2aeb",
   "metadata": {},
   "outputs": [
    {
     "data": {
      "text/plain": [
       "0.90697470"
      ]
     },
     "execution_count": 28,
     "metadata": {},
     "output_type": "execute_result"
    }
   ],
   "source": [
    "(double)correct / (double)Ytest.n_elem"
   ]
  }
 ],
 "metadata": {
  "kernelspec": {
   "display_name": "C++14",
   "language": "C++14",
   "name": "xcpp14"
  },
  "language_info": {
   "codemirror_mode": "text/x-c++src",
   "file_extension": ".cpp",
   "mimetype": "text/x-c++src",
   "name": "c++",
   "version": "14"
  }
 },
 "nbformat": 4,
 "nbformat_minor": 5
}
