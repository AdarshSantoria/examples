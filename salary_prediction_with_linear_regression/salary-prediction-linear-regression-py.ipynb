{
 "cells": [
  {
   "cell_type": "markdown",
   "id": "technical-identification",
   "metadata": {},
   "source": [
    "## A simple example usage of Linear Regression applied to Salary dataset"
   ]
  },
  {
   "cell_type": "code",
   "execution_count": 23,
   "id": "449a2f52",
   "metadata": {},
   "outputs": [],
   "source": [
    "# Import Libraries.\n",
    "\n",
    "import mlpack\n",
    "import numpy as np\n",
    "import pandas as pd\n",
    "import seaborn as sns\n",
    "import matplotlib.pyplot as plt"
   ]
  },
  {
   "cell_type": "markdown",
   "id": "8ee28540",
   "metadata": {},
   "source": [
    "### Set Plotting Options"
   ]
  },
  {
   "cell_type": "code",
   "execution_count": 24,
   "id": "786e154b",
   "metadata": {},
   "outputs": [],
   "source": [
    "%matplotlib inline\n",
    "# Uncomment below line to enable dark background style sheet.\n",
    "# plt.style.use('dark_background')"
   ]
  },
  {
   "cell_type": "code",
   "execution_count": 25,
   "id": "9c7de4da",
   "metadata": {},
   "outputs": [],
   "source": [
    "# Load the salary dataset.\n",
    "data = pd.read_csv(\"Salary_Data.csv\")"
   ]
  },
  {
   "cell_type": "code",
   "execution_count": 26,
   "id": "1d59786b",
   "metadata": {},
   "outputs": [
    {
     "data": {
      "text/html": [
       "<div>\n",
       "<style scoped>\n",
       "    .dataframe tbody tr th:only-of-type {\n",
       "        vertical-align: middle;\n",
       "    }\n",
       "\n",
       "    .dataframe tbody tr th {\n",
       "        vertical-align: top;\n",
       "    }\n",
       "\n",
       "    .dataframe thead th {\n",
       "        text-align: right;\n",
       "    }\n",
       "</style>\n",
       "<table border=\"1\" class=\"dataframe\">\n",
       "  <thead>\n",
       "    <tr style=\"text-align: right;\">\n",
       "      <th></th>\n",
       "      <th>YearsExperience</th>\n",
       "      <th>Salary</th>\n",
       "    </tr>\n",
       "  </thead>\n",
       "  <tbody>\n",
       "    <tr>\n",
       "      <th>0</th>\n",
       "      <td>1.1</td>\n",
       "      <td>39343.0</td>\n",
       "    </tr>\n",
       "    <tr>\n",
       "      <th>1</th>\n",
       "      <td>1.3</td>\n",
       "      <td>46205.0</td>\n",
       "    </tr>\n",
       "    <tr>\n",
       "      <th>2</th>\n",
       "      <td>1.5</td>\n",
       "      <td>37731.0</td>\n",
       "    </tr>\n",
       "    <tr>\n",
       "      <th>3</th>\n",
       "      <td>2.0</td>\n",
       "      <td>43525.0</td>\n",
       "    </tr>\n",
       "    <tr>\n",
       "      <th>4</th>\n",
       "      <td>2.2</td>\n",
       "      <td>39891.0</td>\n",
       "    </tr>\n",
       "  </tbody>\n",
       "</table>\n",
       "</div>"
      ],
      "text/plain": [
       "   YearsExperience   Salary\n",
       "0              1.1  39343.0\n",
       "1              1.3  46205.0\n",
       "2              1.5  37731.0\n",
       "3              2.0  43525.0\n",
       "4              2.2  39891.0"
      ]
     },
     "execution_count": 26,
     "metadata": {},
     "output_type": "execute_result"
    }
   ],
   "source": [
    "# Display the first 5 samples from dataframe.\n",
    "data.head()"
   ]
  },
  {
   "cell_type": "code",
   "execution_count": 27,
   "id": "5a3a26af",
   "metadata": {},
   "outputs": [
    {
     "data": {
      "text/html": [
       "<div>\n",
       "<style scoped>\n",
       "    .dataframe tbody tr th:only-of-type {\n",
       "        vertical-align: middle;\n",
       "    }\n",
       "\n",
       "    .dataframe tbody tr th {\n",
       "        vertical-align: top;\n",
       "    }\n",
       "\n",
       "    .dataframe thead th {\n",
       "        text-align: right;\n",
       "    }\n",
       "</style>\n",
       "<table border=\"1\" class=\"dataframe\">\n",
       "  <thead>\n",
       "    <tr style=\"text-align: right;\">\n",
       "      <th></th>\n",
       "      <th>YearsExperience</th>\n",
       "      <th>Salary</th>\n",
       "    </tr>\n",
       "  </thead>\n",
       "  <tbody>\n",
       "    <tr>\n",
       "      <th>count</th>\n",
       "      <td>30.000000</td>\n",
       "      <td>30.000000</td>\n",
       "    </tr>\n",
       "    <tr>\n",
       "      <th>mean</th>\n",
       "      <td>5.313333</td>\n",
       "      <td>76003.000000</td>\n",
       "    </tr>\n",
       "    <tr>\n",
       "      <th>std</th>\n",
       "      <td>2.837888</td>\n",
       "      <td>27414.429785</td>\n",
       "    </tr>\n",
       "    <tr>\n",
       "      <th>min</th>\n",
       "      <td>1.100000</td>\n",
       "      <td>37731.000000</td>\n",
       "    </tr>\n",
       "    <tr>\n",
       "      <th>25%</th>\n",
       "      <td>3.200000</td>\n",
       "      <td>56720.750000</td>\n",
       "    </tr>\n",
       "    <tr>\n",
       "      <th>50%</th>\n",
       "      <td>4.700000</td>\n",
       "      <td>65237.000000</td>\n",
       "    </tr>\n",
       "    <tr>\n",
       "      <th>75%</th>\n",
       "      <td>7.700000</td>\n",
       "      <td>100544.750000</td>\n",
       "    </tr>\n",
       "    <tr>\n",
       "      <th>max</th>\n",
       "      <td>10.500000</td>\n",
       "      <td>122391.000000</td>\n",
       "    </tr>\n",
       "  </tbody>\n",
       "</table>\n",
       "</div>"
      ],
      "text/plain": [
       "       YearsExperience         Salary\n",
       "count        30.000000      30.000000\n",
       "mean          5.313333   76003.000000\n",
       "std           2.837888   27414.429785\n",
       "min           1.100000   37731.000000\n",
       "25%           3.200000   56720.750000\n",
       "50%           4.700000   65237.000000\n",
       "75%           7.700000  100544.750000\n",
       "max          10.500000  122391.000000"
      ]
     },
     "execution_count": 27,
     "metadata": {},
     "output_type": "execute_result"
    }
   ],
   "source": [
    "# Generates basic statistical summary of the dataframe.\n",
    "data.describe()"
   ]
  },
  {
   "cell_type": "code",
   "execution_count": 28,
   "id": "8d8410cd",
   "metadata": {},
   "outputs": [
    {
     "name": "stdout",
     "output_type": "stream",
     "text": [
      "<class 'pandas.core.frame.DataFrame'>\n",
      "RangeIndex: 30 entries, 0 to 29\n",
      "Data columns (total 2 columns):\n",
      " #   Column           Non-Null Count  Dtype  \n",
      "---  ------           --------------  -----  \n",
      " 0   YearsExperience  30 non-null     float64\n",
      " 1   Salary           30 non-null     float64\n",
      "dtypes: float64(2)\n",
      "memory usage: 608.0 bytes\n"
     ]
    }
   ],
   "source": [
    "# Generates a concise summary of the dataframe.\n",
    "data.info()"
   ]
  },
  {
   "cell_type": "markdown",
   "id": "78f2eea6",
   "metadata": {},
   "source": [
    "### Exploratory Data Analysis"
   ]
  },
  {
   "cell_type": "code",
   "execution_count": 29,
   "id": "ef71b4dc",
   "metadata": {},
   "outputs": [
    {
     "data": {
      "image/png": "[encoded data removed]",
      "text/plain": [
       "<Figure size 432x288 with 1 Axes>"
      ]
     },
     "metadata": {
      "needs_background": "light"
     },
     "output_type": "display_data"
    }
   ],
   "source": [
    "# Scatter plot of Experience vs Salary.\n",
    "data.plot(x=\"YearsExperience\", y=\"Salary\",\n",
    "          kind=\"scatter\", title=\"Experience vs Salary\")\n",
    "plt.xlabel(\"Years of Experience\")\n",
    "plt.show()"
   ]
  },
  {
   "cell_type": "markdown",
   "id": "94e0f415",
   "metadata": {},
   "source": [
    "### Train test split"
   ]
  },
  {
   "cell_type": "code",
   "execution_count": 30,
   "id": "2cd31a2a",
   "metadata": {},
   "outputs": [],
   "source": [
    "# Split data into features (X) and targets (y).\n",
    "\n",
    "targets = data.Salary\n",
    "features = data.drop(\"Salary\", axis=1)"
   ]
  },
  {
   "cell_type": "code",
   "execution_count": 31,
   "id": "9e82b675",
   "metadata": {},
   "outputs": [],
   "source": [
    "# Split the dataset using mlpack's preprocess_split method.\n",
    "output = mlpack.preprocess_split(input=features, input_labels=targets, test_ratio=0.4, seed=101)"
   ]
  },
  {
   "cell_type": "code",
   "execution_count": 32,
   "id": "26caf3cc",
   "metadata": {},
   "outputs": [],
   "source": [
    "# Preprocess_split returns a dictionary, which we'll unpack into\n",
    "# respective variables for clarity of code.\n",
    "X_train = output[\"training\"]\n",
    "y_train = output[\"training_labels\"]\n",
    "X_test = output[\"test\"]\n",
    "y_test = output[\"test_labels\"]"
   ]
  },
  {
   "cell_type": "markdown",
   "id": "91e0b6b8",
   "metadata": {},
   "source": [
    "### Training the linear model"
   ]
  },
  {
   "cell_type": "code",
   "execution_count": 42,
   "id": "5a642645",
   "metadata": {},
   "outputs": [],
   "source": [
    "# Create and train Linear Regression model.\n",
    "output = mlpack.linear_regression(training=X_train,\n",
    "                                  training_responses=y_train, \n",
    "                                  lambda_=0.5, verbose=True)"
   ]
  },
  {
   "cell_type": "code",
   "execution_count": 43,
   "id": "8b2e2bb4",
   "metadata": {},
   "outputs": [],
   "source": [
    "model = output[\"output_model\"]"
   ]
  },
  {
   "cell_type": "markdown",
   "id": "bf6ce883",
   "metadata": {},
   "source": [
    "### Making Predictions on Test set"
   ]
  },
  {
   "cell_type": "code",
   "execution_count": 44,
   "id": "e41657ad",
   "metadata": {},
   "outputs": [],
   "source": [
    "# Predict the values of the test data.\n",
    "output = mlpack.linear_regression(input_model=model, test=X_test)"
   ]
  },
  {
   "cell_type": "code",
   "execution_count": 45,
   "id": "d3734f1a",
   "metadata": {},
   "outputs": [],
   "source": [
    "y_preds = output[\"output_predictions\"].reshape(-1, 1)"
   ]
  },
  {
   "cell_type": "markdown",
   "id": "53843549",
   "metadata": {},
   "source": [
    "### Model Evaluation"
   ]
  },
  {
   "cell_type": "code",
   "execution_count": 46,
   "id": "531b842d",
   "metadata": {},
   "outputs": [
    {
     "data": {
      "image/png": "[encoded data removed]",
      "text/plain": [
       "<Figure size 432x288 with 1 Axes>"
      ]
     },
     "metadata": {
      "needs_background": "light"
     },
     "output_type": "display_data"
    }
   ],
   "source": [
    "# Plot the linear model.\n",
    "\n",
    "plt.scatter(X_test, y_test)\n",
    "plt.xlabel(\"Years of Experience\")\n",
    "plt.ylabel(\"Salary in $\")\n",
    "plt.title(\"Experience vs Salary (Predictions)\")\n",
    "plt.plot(X_test, y_preds)\n",
    "plt.legend([\"Linear Model\"])\n",
    "plt.show()"
   ]
  },
  {
   "cell_type": "markdown",
   "id": "twenty-qualification",
   "metadata": {},
   "source": [
    "## Evaluation Metrics for Regression model\n",
    "\n",
    "* Mean Absolute Error (MAE) is the sum of absolute differences between actual and predicted values, without considering the direction.\n",
    "$$ MAE = \\frac{\\sum_{i=1}^n\\lvert y_{i} - \\hat{y_{i}}\\rvert} {n} $$\n",
    "* Mean Squared Error (MSE) is calculated as the mean or average of the squared differences between predicted and expected target values in a dataset, a lower value is better\n",
    "$$ MSE = \\frac {1}{n} \\sum_{i=1}^n (y_{i} - \\hat{y_{i}})^2 $$\n",
    "* Root Mean Squared Error (RMSE), Square root of MSE yields root mean square error (RMSE) it indicates the spread of the residual errors. It is always positive, and a lower value indicates better performance.\n",
    "$$ RMSE = \\sqrt{\\frac {1}{n} \\sum_{i=1}^n (y_{i} - \\hat{y_{i}})^2} $$"
   ]
  },
  {
   "cell_type": "code",
   "execution_count": 38,
   "id": "c26ee546",
   "metadata": {},
   "outputs": [],
   "source": [
    "# Utility functions for evaulation metrics.\n",
    "\n",
    "def mae(y_true, y_preds):\n",
    "    return np.mean(np.abs(y_preds - y_true))\n",
    "\n",
    "def mse(y_true, y_preds):\n",
    "    return np.mean(np.power(y_preds - y_true, 2))"
   ]
  },
  {
   "cell_type": "code",
   "execution_count": 39,
   "id": "8ad80db1",
   "metadata": {},
   "outputs": [
    {
     "name": "stdout",
     "output_type": "stream",
     "text": [
      "---- Evaluation Metrics ----\n",
      "Mean Absoulte Error: 5341.51\n",
      "Mean Squared Error: 38284079.88\n",
      "Root Mean Squared Error: 6187.41\n"
     ]
    }
   ],
   "source": [
    "print(\"---- Evaluation Metrics ----\")\n",
    "print(f\"Mean Absoulte Error: {mae(y_test, y_preds):.2f}\")\n",
    "print(f\"Mean Squared Error: {mse(y_test, y_preds):.2f}\")\n",
    "print(f\"Root Mean Squared Error: {np.sqrt(mse(y_test, y_preds)):.2f}\")"
   ]
  }
 ],
 "metadata": {
  "kernelspec": {
   "display_name": "Python 3",
   "language": "python",
   "name": "python3"
  },
  "language_info": {
   "codemirror_mode": {
    "name": "ipython",
    "version": 3
   },
   "file_extension": ".py",
   "mimetype": "text/x-python",
   "name": "python",
   "nbconvert_exporter": "python",
   "pygments_lexer": "ipython3",
   "version": "3.7.10"
  }
 },
 "nbformat": 4,
 "nbformat_minor": 5
}
