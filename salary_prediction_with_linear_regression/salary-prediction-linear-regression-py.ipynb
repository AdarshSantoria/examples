{
 "cells": [
  {
   "cell_type": "code",
   "execution_count": 96,
   "id": "555ce78e",
   "metadata": {},
   "outputs": [],
   "source": [
    "# @file salary-prediction-linear-regression-py.ipynb\n",
    "#\n",
    "# A simple example usage of Linear Regression applied to Salary dataset"
   ]
  },
  {
   "cell_type": "markdown",
   "id": "7bd90910",
   "metadata": {},
   "source": [
    "### Import Libraries"
   ]
  },
  {
   "cell_type": "code",
   "execution_count": 77,
   "id": "449a2f52",
   "metadata": {},
   "outputs": [],
   "source": [
    "import mlpack\n",
    "import numpy as np\n",
    "import pandas as pd\n",
    "import seaborn as sns\n",
    "import matplotlib.pyplot as plt"
   ]
  },
  {
   "cell_type": "markdown",
   "id": "8ee28540",
   "metadata": {},
   "source": [
    "### Set Plotting Options"
   ]
  },
  {
   "cell_type": "code",
   "execution_count": 95,
   "id": "786e154b",
   "metadata": {},
   "outputs": [],
   "source": [
    "%matplotlib inline\n",
    "# uncomment below line to enable dark background style sheet\n",
    "# plt.style.use('dark_background')"
   ]
  },
  {
   "cell_type": "markdown",
   "id": "e32c8a94",
   "metadata": {},
   "source": [
    "### Load and Explore the Data"
   ]
  },
  {
   "cell_type": "code",
   "execution_count": 79,
   "id": "9c7de4da",
   "metadata": {},
   "outputs": [],
   "source": [
    "# Load the salary dataset\n",
    "data = pd.read_csv(\"Salary.csv\")"
   ]
  },
  {
   "cell_type": "code",
   "execution_count": 80,
   "id": "1d59786b",
   "metadata": {},
   "outputs": [
    {
     "data": {
      "text/html": [
       "<div>\n",
       "<style scoped>\n",
       "    .dataframe tbody tr th:only-of-type {\n",
       "        vertical-align: middle;\n",
       "    }\n",
       "\n",
       "    .dataframe tbody tr th {\n",
       "        vertical-align: top;\n",
       "    }\n",
       "\n",
       "    .dataframe thead th {\n",
       "        text-align: right;\n",
       "    }\n",
       "</style>\n",
       "<table border=\"1\" class=\"dataframe\">\n",
       "  <thead>\n",
       "    <tr style=\"text-align: right;\">\n",
       "      <th></th>\n",
       "      <th>YearsExperience</th>\n",
       "      <th>Salary</th>\n",
       "    </tr>\n",
       "  </thead>\n",
       "  <tbody>\n",
       "    <tr>\n",
       "      <th>0</th>\n",
       "      <td>1.1</td>\n",
       "      <td>39343</td>\n",
       "    </tr>\n",
       "    <tr>\n",
       "      <th>1</th>\n",
       "      <td>1.3</td>\n",
       "      <td>46205</td>\n",
       "    </tr>\n",
       "    <tr>\n",
       "      <th>2</th>\n",
       "      <td>1.5</td>\n",
       "      <td>37731</td>\n",
       "    </tr>\n",
       "    <tr>\n",
       "      <th>3</th>\n",
       "      <td>2.0</td>\n",
       "      <td>43525</td>\n",
       "    </tr>\n",
       "    <tr>\n",
       "      <th>4</th>\n",
       "      <td>2.2</td>\n",
       "      <td>39891</td>\n",
       "    </tr>\n",
       "  </tbody>\n",
       "</table>\n",
       "</div>"
      ],
      "text/plain": [
       "   YearsExperience  Salary\n",
       "0              1.1   39343\n",
       "1              1.3   46205\n",
       "2              1.5   37731\n",
       "3              2.0   43525\n",
       "4              2.2   39891"
      ]
     },
     "execution_count": 80,
     "metadata": {},
     "output_type": "execute_result"
    }
   ],
   "source": [
    "# display the first 5 samples from dataframe\n",
    "data.head()"
   ]
  },
  {
   "cell_type": "code",
   "execution_count": 81,
   "id": "5a3a26af",
   "metadata": {},
   "outputs": [
    {
     "data": {
      "text/html": [
       "<div>\n",
       "<style scoped>\n",
       "    .dataframe tbody tr th:only-of-type {\n",
       "        vertical-align: middle;\n",
       "    }\n",
       "\n",
       "    .dataframe tbody tr th {\n",
       "        vertical-align: top;\n",
       "    }\n",
       "\n",
       "    .dataframe thead th {\n",
       "        text-align: right;\n",
       "    }\n",
       "</style>\n",
       "<table border=\"1\" class=\"dataframe\">\n",
       "  <thead>\n",
       "    <tr style=\"text-align: right;\">\n",
       "      <th></th>\n",
       "      <th>YearsExperience</th>\n",
       "      <th>Salary</th>\n",
       "    </tr>\n",
       "  </thead>\n",
       "  <tbody>\n",
       "    <tr>\n",
       "      <th>count</th>\n",
       "      <td>35.000000</td>\n",
       "      <td>35.000000</td>\n",
       "    </tr>\n",
       "    <tr>\n",
       "      <th>mean</th>\n",
       "      <td>6.308571</td>\n",
       "      <td>83945.600000</td>\n",
       "    </tr>\n",
       "    <tr>\n",
       "      <th>std</th>\n",
       "      <td>3.618610</td>\n",
       "      <td>32162.673003</td>\n",
       "    </tr>\n",
       "    <tr>\n",
       "      <th>min</th>\n",
       "      <td>1.100000</td>\n",
       "      <td>37731.000000</td>\n",
       "    </tr>\n",
       "    <tr>\n",
       "      <th>25%</th>\n",
       "      <td>3.450000</td>\n",
       "      <td>57019.000000</td>\n",
       "    </tr>\n",
       "    <tr>\n",
       "      <th>50%</th>\n",
       "      <td>5.300000</td>\n",
       "      <td>81363.000000</td>\n",
       "    </tr>\n",
       "    <tr>\n",
       "      <th>75%</th>\n",
       "      <td>9.250000</td>\n",
       "      <td>113223.500000</td>\n",
       "    </tr>\n",
       "    <tr>\n",
       "      <th>max</th>\n",
       "      <td>13.500000</td>\n",
       "      <td>139465.000000</td>\n",
       "    </tr>\n",
       "  </tbody>\n",
       "</table>\n",
       "</div>"
      ],
      "text/plain": [
       "       YearsExperience         Salary\n",
       "count        35.000000      35.000000\n",
       "mean          6.308571   83945.600000\n",
       "std           3.618610   32162.673003\n",
       "min           1.100000   37731.000000\n",
       "25%           3.450000   57019.000000\n",
       "50%           5.300000   81363.000000\n",
       "75%           9.250000  113223.500000\n",
       "max          13.500000  139465.000000"
      ]
     },
     "execution_count": 81,
     "metadata": {},
     "output_type": "execute_result"
    }
   ],
   "source": [
    "# generates basic statistical summary of the dataframe\n",
    "data.describe()"
   ]
  },
  {
   "cell_type": "code",
   "execution_count": 82,
   "id": "8d8410cd",
   "metadata": {},
   "outputs": [
    {
     "name": "stdout",
     "output_type": "stream",
     "text": [
      "<class 'pandas.core.frame.DataFrame'>\n",
      "RangeIndex: 35 entries, 0 to 34\n",
      "Data columns (total 2 columns):\n",
      " #   Column           Non-Null Count  Dtype  \n",
      "---  ------           --------------  -----  \n",
      " 0   YearsExperience  35 non-null     float64\n",
      " 1   Salary           35 non-null     int64  \n",
      "dtypes: float64(1), int64(1)\n",
      "memory usage: 688.0 bytes\n"
     ]
    }
   ],
   "source": [
    "# generates a concise summary of the dataframe\n",
    "data.info()"
   ]
  },
  {
   "cell_type": "markdown",
   "id": "78f2eea6",
   "metadata": {},
   "source": [
    "### Exploratory Data Analysis"
   ]
  },
  {
   "cell_type": "code",
   "execution_count": 83,
   "id": "34e12607",
   "metadata": {},
   "outputs": [
    {
     "data": {
      "text/plain": [
       "<AxesSubplot:>"
      ]
     },
     "execution_count": 83,
     "metadata": {},
     "output_type": "execute_result"
    },
    {
     "data": {
      "image/png": "[encoded data removed]",
      "text/plain": [
       "<Figure size 432x288 with 2 Axes>"
      ]
     },
     "metadata": {
      "needs_background": "light"
     },
     "output_type": "display_data"
    }
   ],
   "source": [
    "# compute pairwise correlation and plots\n",
    "# a heatmap of the correlated columns\n",
    "sns.heatmap(data.corr())"
   ]
  },
  {
   "cell_type": "code",
   "execution_count": 84,
   "id": "ef71b4dc",
   "metadata": {},
   "outputs": [
    {
     "data": {
      "image/png": "[encoded data removed]",
      "text/plain": [
       "<Figure size 432x288 with 2 Axes>"
      ]
     },
     "metadata": {
      "needs_background": "light"
     },
     "output_type": "display_data"
    }
   ],
   "source": [
    "# \n",
    "data.plot(x=\"YearsExperience\", y=\"Salary\",cmap=\"plasma\", \n",
    "          c=data[\"YearsExperience\"].apply(lambda x: int(x)), \n",
    "          kind=\"scatter\")\n",
    "plt.show()"
   ]
  },
  {
   "cell_type": "markdown",
   "id": "94e0f415",
   "metadata": {},
   "source": [
    "### Train test split"
   ]
  },
  {
   "cell_type": "code",
   "execution_count": 85,
   "id": "2cd31a2a",
   "metadata": {},
   "outputs": [],
   "source": [
    "# Split data into features (X) and targets (y).\n",
    "\n",
    "targets = data.Salary\n",
    "features = data.drop(\"Salary\", axis=1)"
   ]
  },
  {
   "cell_type": "code",
   "execution_count": 86,
   "id": "9e82b675",
   "metadata": {},
   "outputs": [],
   "source": [
    "# Split the dataset using mlpack's preprocess_split method\n",
    "output = mlpack.preprocess_split(input=features, input_labels=targets, test_ratio=0.4, seed=101)"
   ]
  },
  {
   "cell_type": "code",
   "execution_count": 87,
   "id": "26caf3cc",
   "metadata": {},
   "outputs": [],
   "source": [
    "# preprocess_split returns a dictionary, which we'll unpack into\n",
    "# respective variables for clarity of code\n",
    "X_train = output[\"training\"]\n",
    "y_train = output[\"training_labels\"]\n",
    "X_test = output[\"test\"]\n",
    "y_test = output[\"test_labels\"]"
   ]
  },
  {
   "cell_type": "markdown",
   "id": "91e0b6b8",
   "metadata": {},
   "source": [
    "### Training the linear model"
   ]
  },
  {
   "cell_type": "code",
   "execution_count": 88,
   "id": "5a642645",
   "metadata": {},
   "outputs": [],
   "source": [
    "# Create and train Linear Regression model.\n",
    "output = mlpack.linear_regression(training=X_train,\n",
    "                                  training_responses=y_train, lambda_=0.5)"
   ]
  },
  {
   "cell_type": "code",
   "execution_count": 89,
   "id": "8b2e2bb4",
   "metadata": {},
   "outputs": [],
   "source": [
    "model = output[\"output_model\"]"
   ]
  },
  {
   "cell_type": "markdown",
   "id": "bf6ce883",
   "metadata": {},
   "source": [
    "### Making Predcitions on Test set"
   ]
  },
  {
   "cell_type": "code",
   "execution_count": 90,
   "id": "e41657ad",
   "metadata": {},
   "outputs": [],
   "source": [
    "# Predict the values of the test data.\n",
    "output = mlpack.linear_regression(input_model=model, test=X_test)"
   ]
  },
  {
   "cell_type": "code",
   "execution_count": 91,
   "id": "d3734f1a",
   "metadata": {},
   "outputs": [],
   "source": [
    "y_preds = output[\"output_predictions\"].reshape(-1,1)"
   ]
  },
  {
   "cell_type": "markdown",
   "id": "53843549",
   "metadata": {},
   "source": [
    "### Model Evaluation"
   ]
  },
  {
   "cell_type": "code",
   "execution_count": 92,
   "id": "531b842d",
   "metadata": {},
   "outputs": [
    {
     "data": {
      "image/png": "[encoded data removed]",
      "text/plain": [
       "<Figure size 432x288 with 2 Axes>"
      ]
     },
     "metadata": {
      "needs_background": "light"
     },
     "output_type": "display_data"
    }
   ],
   "source": [
    "# plot the linear model\n",
    "\n",
    "plt.scatter(X_test, y_test, cmap=\"plasma\",c=X_test.astype(\"int\"))\n",
    "plt.colorbar()\n",
    "plt.xlabel(\"Years of Experience\")\n",
    "plt.ylabel(\"Salary in $\")\n",
    "plt.plot(X_test, y_preds)\n",
    "plt.show()"
   ]
  },
  {
   "cell_type": "code",
   "execution_count": 93,
   "id": "c26ee546",
   "metadata": {},
   "outputs": [],
   "source": [
    "# utility functions for evaultion metrics\n",
    "\n",
    "def mae(y_true, y_preds):\n",
    "    return np.mean(np.abs(y_preds - y_true))\n",
    "\n",
    "def mse(y_true, y_preds):\n",
    "    return np.mean(np.power(y_preds - y_true, 2))"
   ]
  },
  {
   "cell_type": "code",
   "execution_count": 94,
   "id": "8ad80db1",
   "metadata": {},
   "outputs": [
    {
     "name": "stdout",
     "output_type": "stream",
     "text": [
      "---- Evaluation Metrics ----\n",
      "Mean Absoulte Error: 6776.34\n",
      "Mean Squared Error: 64688553.98\n",
      "Root Mean Squared Error: 8042.92\n"
     ]
    }
   ],
   "source": [
    "print(\"---- Evaluation Metrics ----\")\n",
    "print(f\"Mean Absoulte Error: {mae(y_test, y_preds):.2f}\")\n",
    "print(f\"Mean Squared Error: {mse(y_test, y_preds):.2f}\")\n",
    "print(f\"Root Mean Squared Error: {np.sqrt(mse(y_test, y_preds)):.2f}\")"
   ]
  }
 ],
 "metadata": {
  "kernelspec": {
   "display_name": "Python 3",
   "language": "python",
   "name": "python3"
  },
  "language_info": {
   "codemirror_mode": {
    "name": "ipython",
    "version": 3
   },
   "file_extension": ".py",
   "mimetype": "text/x-python",
   "name": "python",
   "nbconvert_exporter": "python",
   "pygments_lexer": "ipython3",
   "version": "3.8.8"
  }
 },
 "nbformat": 4,
 "nbformat_minor": 5
}
