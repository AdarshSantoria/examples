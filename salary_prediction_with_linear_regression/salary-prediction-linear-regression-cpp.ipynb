{
 "cells": [
  {
   "cell_type": "code",
   "execution_count": 1,
   "id": "behavioral-cycling",
   "metadata": {},
   "outputs": [],
   "source": [
    "// Import necessary library headers\n",
    "\n",
    "#include <mlpack/core.hpp>\n",
    "#include <mlpack/core/data/split_data.hpp>\n",
    "#include <mlpack/methods/linear_regression/linear_regression.hpp>\n",
    "#include <cmath>"
   ]
  },
  {
   "cell_type": "code",
   "execution_count": 2,
   "id": "stupid-permission",
   "metadata": {},
   "outputs": [],
   "source": [
    "#define WITHOUT_NUMPY 1\n",
    "#include \"matplotlibcpp.h\"\n",
    "#include \"xwidgets/ximage.hpp\""
   ]
  },
  {
   "cell_type": "code",
   "execution_count": 3,
   "id": "indian-prairie",
   "metadata": {},
   "outputs": [],
   "source": [
    "using namespace mlpack;\n",
    "using namespace mlpack::regression;\n",
    "namespace plt = matplotlibcpp;"
   ]
  },
  {
   "cell_type": "code",
   "execution_count": 4,
   "id": "victorian-donna",
   "metadata": {},
   "outputs": [],
   "source": [
    "// Load the dataset into armadillo matrix\n",
    "\n",
    "arma::mat inputs;\n",
    "data::Load(\"Salary_Data.csv\", inputs);"
   ]
  },
  {
   "cell_type": "code",
   "execution_count": 5,
   "id": "deluxe-present",
   "metadata": {},
   "outputs": [],
   "source": [
    "// Drop the first row as they represent header\n",
    "\n",
    "inputs.shed_col(0);"
   ]
  },
  {
   "cell_type": "code",
   "execution_count": 6,
   "id": "desirable-experience",
   "metadata": {},
   "outputs": [
    {
     "name": "stdout",
     "output_type": "stream",
     "text": [
      "Years Of Experience    Salary\n",
      "   1.1000e+00   3.9343e+04\n",
      "   1.3000e+00   4.6205e+04\n",
      "   1.5000e+00   3.7731e+04\n",
      "   2.0000e+00   4.3525e+04\n",
      "   2.2000e+00   3.9891e+04\n",
      "   2.9000e+00   5.6642e+04\n",
      "\n"
     ]
    }
   ],
   "source": [
    "// Display the first 5 rows of the input data\n",
    "\n",
    "std::cout<<std::setw(18)<<\"Years Of Experience\"<<std::setw(10)<<\"Salary\"<<std::endl;\n",
    "std::cout<<inputs.submat(0, 0, inputs.n_rows-1, 5).t()<<std::endl;"
   ]
  },
  {
   "cell_type": "code",
   "execution_count": null,
   "id": "associate-fifteen",
   "metadata": {},
   "outputs": [],
   "source": [
    "// Plot the input data\n",
    "\n",
    "std::vector<double> x = arma::conv_to<std::vector<double>>::from(inputs.row(0));\n",
    "std::vector<double> y = arma::conv_to<std::vector<double>>::from(inputs.row(1));\n",
    "\n",
    "plt::scatter(x, y, 12, {{\"color\", \"coral\"}});\n",
    "plt::xlabel(\"Years of Experience\");\n",
    "plt::ylabel(\"Salary in $\");\n",
    "plt::title(\"Experience vs. Salary\");\n",
    "\n",
    "plt::save(\"./scatter1.png\");\n",
    "auto img = xw::image_from_file(\"scatter.png\").finalize();\n",
    "img"
   ]
  },
  {
   "cell_type": "code",
   "execution_count": 7,
   "id": "coordinate-canvas",
   "metadata": {},
   "outputs": [],
   "source": [
    "// Split the data into features (X) and target (y) variables\n",
    "// targets are the last row\n",
    "\n",
    "arma::Row<size_t> targets = arma::conv_to<arma::Row<size_t>>::from(inputs.row(inputs.n_rows - 1));"
   ]
  },
  {
   "cell_type": "code",
   "execution_count": 8,
   "id": "blank-mexican",
   "metadata": {},
   "outputs": [],
   "source": [
    "// Labels are dropped from the originally loaded data to be used as features\n",
    "\n",
    "inputs.shed_row(inputs.n_rows - 1);"
   ]
  },
  {
   "cell_type": "code",
   "execution_count": 9,
   "id": "mechanical-laundry",
   "metadata": {},
   "outputs": [],
   "source": [
    "// Split the dataset into train and test sets using mlpack\n",
    "\n",
    "arma::mat Xtrain;\n",
    "arma::mat Xtest;\n",
    "arma::Row<size_t> Ytrain;\n",
    "arma::Row<size_t> Ytest;\n",
    "data::Split(inputs, targets, Xtrain, Xtest, Ytrain, Ytest, 0.4);"
   ]
  },
  {
   "cell_type": "code",
   "execution_count": null,
   "id": "friendly-petersburg",
   "metadata": {},
   "outputs": [],
   "source": [
    "// Convert armadillo Rows into rowvec. (Required by mlpacks' LinearRegression API in this format)\n",
    "\n",
    "arma::rowvec y_train = arma::conv_to<arma::rowvec>::from(Ytrain);\n",
    "arma::rowvec y_test = arma::conv_to<arma::rowvec>::from(Ytest);"
   ]
  },
  {
   "cell_type": "code",
   "execution_count": null,
   "id": "published-illustration",
   "metadata": {},
   "outputs": [],
   "source": [
    "// Create and Train Linear Regression model\n",
    "\n",
    "regression::LinearRegression lr(Xtrain, y_train, 0.5);"
   ]
  },
  {
   "cell_type": "code",
   "execution_count": null,
   "id": "detailed-mystery",
   "metadata": {},
   "outputs": [],
   "source": [
    "// Make predictions for test data points\n",
    "\n",
    "arma::rowvec y_preds;\n",
    "lr.Predict(Xtest, y_preds);"
   ]
  },
  {
   "cell_type": "code",
   "execution_count": null,
   "id": "indian-ambassador",
   "metadata": {},
   "outputs": [],
   "source": [
    "// convert armadillo vectors and matrices to vector for plotting purpose\n",
    "\n",
    "std::vector<double> x_test = arma::conv_to<std::vector<double>>::from(Xtest);\n",
    "std::vector<double> y_t = arma::conv_to<std::vector<double>>::from(y_test);\n",
    "std::vector<double> y_p = arma::conv_to<std::vector<double>>::from(y_preds);"
   ]
  },
  {
   "cell_type": "code",
   "execution_count": null,
   "id": "related-approach",
   "metadata": {},
   "outputs": [],
   "source": [
    "// Visualize Predicted datapoints\n",
    "\n",
    "plt::scatter(x_test, y_t, 12, {{\"color\", \"coral\"}});\n",
    "plt::plot(x_test,y_p);\n",
    "plt::xlabel(\"Years of Experience\");\n",
    "plt::ylabel(\"Salary in $\");\n",
    "plt::title(\"Predicted Experience vs. Salary\");\n",
    "\n",
    "plt::save(\"./scatter1.png\");\n",
    "auto img = xw::image_from_file(\"scatter.png\").finalize();\n",
    "img"
   ]
  },
  {
   "cell_type": "code",
   "execution_count": null,
   "id": "british-moment",
   "metadata": {},
   "outputs": [],
   "source": [
    "// Model evaluation metrics\n",
    "\n",
    "std::cout<<\"Mean Absolute Error: \"<<arma::mean(arma::abs(y_preds - y_test))<<std::endl;\n",
    "std::cout<<\"Mean Squared Error: \"<<arma::mean(arma::pow(y_preds - y_test,2))<<std::endl;\n",
    "std::cout<<\"Root Mean Squared Error: \"<<sqrt(arma::mean(arma::pow(y_preds - y_test,2)))<<std::endl;"
   ]
  }
 ],
 "metadata": {
  "kernelspec": {
   "display_name": "C++14",
   "language": "C++14",
   "name": "xcpp14"
  },
  "language_info": {
   "codemirror_mode": "text/x-c++src",
   "file_extension": ".cpp",
   "mimetype": "text/x-c++src",
   "name": "c++",
   "version": "14"
  }
 },
 "nbformat": 4,
 "nbformat_minor": 5
}
