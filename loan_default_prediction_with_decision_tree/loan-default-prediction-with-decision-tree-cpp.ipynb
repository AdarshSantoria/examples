{
 "cells": [
  {
   "cell_type": "code",
   "execution_count": 1,
   "id": "2dc26c45-f33b-414e-b080-62b155b5ed19",
   "metadata": {},
   "outputs": [],
   "source": [
    "// Import necessary library headers.\n",
    "#include <mlpack/xeus-cling.hpp>\n",
    "#include <mlpack/core.hpp>\n",
    "#include <mlpack/core/data/split_data.hpp>\n",
    "#include <mlpack/methods/decision_tree/decision_tree.hpp>\n",
    "#include <mlpack/core/data/scaler_methods/standard_scaler.hpp>"
   ]
  },
  {
   "cell_type": "code",
   "execution_count": 2,
   "id": "53289966-31f5-4963-aaa9-0b7c3d34697d",
   "metadata": {},
   "outputs": [],
   "source": [
    "#define WITHOUT_NUMPY 1\n",
    "#include \"matplotlibcpp.h\"\n",
    "#include \"xwidgets/ximage.hpp\"\n",
    "#include \"../utils/preprocess.hpp\"\n",
    "#include \"../utils/plot.hpp\"\n",
    "\n",
    "namespace plt = matplotlibcpp;"
   ]
  },
  {
   "cell_type": "code",
   "execution_count": 3,
   "id": "26921527-1e4a-4082-9353-6151679d5fa0",
   "metadata": {},
   "outputs": [],
   "source": [
    "using namespace mlpack;"
   ]
  },
  {
   "cell_type": "code",
   "execution_count": 4,
   "id": "6dfe7888-412c-4c4f-a9ce-9ff9d57db99e",
   "metadata": {},
   "outputs": [],
   "source": [
    "using namespace mlpack::data;"
   ]
  },
  {
   "cell_type": "code",
   "execution_count": 5,
   "id": "7edd68b0-85a3-43ef-b099-987c74627136",
   "metadata": {},
   "outputs": [],
   "source": [
    "using namespace mlpack::tree;"
   ]
  },
  {
   "cell_type": "code",
   "execution_count": 6,
   "id": "73a39c05-ffc1-4b11-a015-7376546c54ad",
   "metadata": {},
   "outputs": [],
   "source": [
    "!cat LoanDefault.csv | sed 1d > LoanDefault_trim.csv"
   ]
  },
  {
   "cell_type": "code",
   "execution_count": 7,
   "id": "29f25ce1-a2cc-4bb2-8ab2-52011d5f9232",
   "metadata": {},
   "outputs": [],
   "source": [
    "!cut -d, -f1 --complement LoanDefault_trim.csv > LoanDefault_trim2.csv"
   ]
  },
  {
   "cell_type": "code",
   "execution_count": 9,
   "id": "6c0e5efb-ad16-44d8-87bc-29349de6f8d9",
   "metadata": {},
   "outputs": [],
   "source": [
    "!rm LoanDefault_trim.csv"
   ]
  },
  {
   "cell_type": "code",
   "execution_count": 10,
   "id": "85c00a18-074c-45a3-a4e5-58c56d42173c",
   "metadata": {},
   "outputs": [],
   "source": [
    "!mv LoanDefault_trim2.csv LoanDefault_trim.csv"
   ]
  },
  {
   "cell_type": "code",
   "execution_count": 11,
   "id": "fbc75ac3-df70-4eae-843d-fbb0c9d87eba",
   "metadata": {},
   "outputs": [],
   "source": [
    "// Load the preprocessed dataset into armadillo matrix.\n",
    "arma::mat loanData;\n",
    "data::Load(\"LoanDefault_trim.csv\", loanData);"
   ]
  },
  {
   "cell_type": "code",
   "execution_count": 19,
   "id": "b0bad587-da5d-490d-9156-7a92f1f19c9d",
   "metadata": {},
   "outputs": [
    {
     "name": "stdout",
     "output_type": "stream",
     "text": [
      "    Employed   Bank Balance  Annual Salary     Default\n",
      "   1.0000e+00   8.7544e+03   5.3234e+05            0\n",
      "            0   9.8062e+03   1.4527e+05            0\n",
      "   1.0000e+00   1.2883e+04   3.8121e+05            0\n",
      "   1.0000e+00   6.3510e+03   4.2845e+05            0\n",
      "   1.0000e+00   9.4279e+03   4.6156e+05            0\n",
      "            0   1.1035e+04   8.9899e+04            0\n",
      "\n"
     ]
    }
   ],
   "source": [
    "// Inspect the first 5 examples in the dataset\n",
    "std::cout << std::setw(12) << \"Employed\" << std::setw(15) << \"Bank Balance\" << std::setw(15) << \"Annual Salary\" \n",
    "          << std::setw(12) << \"Default\" << std::endl;\n",
    "std::cout << loanData.submat(0, 0, loanData.n_rows-1, 5).t() << std::endl;"
   ]
  },
  {
   "cell_type": "code",
   "execution_count": 20,
   "id": "24609a81-22dc-4799-a13c-74179806110e",
   "metadata": {},
   "outputs": [
    {
     "data": {
      "application/vnd.jupyter.widget-view+json": {
       "model_id": "7f92595a62d24fdcb209eb1b52c50019",
       "version_major": 2,
       "version_minor": 0
      },
      "text/plain": [
       "A Jupyter widget with unique id: 7f92595a62d24fdcb209eb1b52c50019"
      ]
     },
     "execution_count": 20,
     "metadata": {},
     "output_type": "execute_result"
    }
   ],
   "source": [
    "// Visualize the distribution of target classes\n",
    "countplot(\"LoanDefault.csv\", \"Defaulted?\", \"\", \"Part-1 Distribution of target class\");\n",
    "auto img = xw::image_from_file(\"Part-1 Distribution of target class.png\").finalize();\n",
    "img"
   ]
  },
  {
   "cell_type": "code",
   "execution_count": 21,
   "id": "e1001ba0-57c0-4bfc-9f76-12b9a245b7cb",
   "metadata": {},
   "outputs": [
    {
     "data": {
      "application/vnd.jupyter.widget-view+json": {
       "model_id": "8b8618a44eeb4c62959fbc34d6896716",
       "version_major": 2,
       "version_minor": 0
      },
      "text/plain": [
       "A Jupyter widget with unique id: 8b8618a44eeb4c62959fbc34d6896716"
      ]
     },
     "execution_count": 21,
     "metadata": {},
     "output_type": "execute_result"
    }
   ],
   "source": [
    "countplot(\"LoanDefault.csv\", \"Defaulted?\", \"Employed\", \"Part-1 Distribution of target class & Employed\");\n",
    "auto img = xw::image_from_file(\"Part-1 Distribution of target class & Employed.png\").finalize();\n",
    "img"
   ]
  },
  {
   "cell_type": "code",
   "execution_count": 23,
   "id": "da342ff7-938a-4a24-ab36-c40278cb7ed4",
   "metadata": {},
   "outputs": [],
   "source": [
    "!cut -d, -f1 --complement LoanDefault.csv > LoanDefaultEnc.csv"
   ]
  },
  {
   "cell_type": "code",
   "execution_count": 24,
   "id": "6d11f696-2ee2-4a28-8c2f-1cc1f5abfb50",
   "metadata": {},
   "outputs": [
    {
     "data": {
      "application/vnd.jupyter.widget-view+json": {
       "model_id": "2800d4169ab842249cd6045fbe1bab8d",
       "version_major": 2,
       "version_minor": 0
      },
      "text/plain": [
       "A Jupyter widget with unique id: 2800d4169ab842249cd6045fbe1bab8d"
      ]
     },
     "execution_count": 24,
     "metadata": {},
     "output_type": "execute_result"
    }
   ],
   "source": [
    "heatmap(\"LoanDefaultEnc.csv\", \"coolwarm\", \"Part-1 Correlation Heatmap\", 1);\n",
    "auto img = xw::image_from_file(\"Part-1 Correlation Heatmap.png\").finalize();\n",
    "img"
   ]
  },
  {
   "cell_type": "code",
   "execution_count": 25,
   "id": "ffd2077c-3b35-4203-9d8b-bb05292a1c91",
   "metadata": {},
   "outputs": [],
   "source": [
    "arma::Row<size_t> targets = arma::conv_to<arma::Row<size_t>>::from(loanData.row(loanData.n_rows - 1));\n",
    "loanData.shed_row(loanData.n_rows-1);"
   ]
  },
  {
   "cell_type": "code",
   "execution_count": 26,
   "id": "d7a5a3d3-70c8-4958-8e78-8644bc373838",
   "metadata": {},
   "outputs": [],
   "source": [
    "arma::mat Xtrain, Xtest;\n",
    "arma::Row<size_t> Ytrain, Ytest;"
   ]
  },
  {
   "cell_type": "code",
   "execution_count": 28,
   "id": "e96df342-896f-4e7c-b4da-14bbdbdf3cbf",
   "metadata": {},
   "outputs": [],
   "source": [
    "mlpack::data::Split(loanData, targets, Xtrain, Xtest, Ytrain, Ytest, 0.25);"
   ]
  },
  {
   "cell_type": "code",
   "execution_count": 30,
   "id": "c08855aa-fc82-47d7-aef9-cad5dca04afd",
   "metadata": {},
   "outputs": [],
   "source": [
    "DecisionTree<> dt(Xtrain, Ytrain, 2);"
   ]
  },
  {
   "cell_type": "code",
   "execution_count": 36,
   "id": "788b7c60-f4df-49a4-89b1-45fbd6673fee",
   "metadata": {},
   "outputs": [],
   "source": [
    "arma::Row<size_t> output;\n",
    "arma::mat probs;\n",
    "dt.Classify(Xtest, output, probs);"
   ]
  },
  {
   "cell_type": "code",
   "execution_count": 39,
   "id": "9822866b-0915-44ea-9cfe-44c41e670552",
   "metadata": {},
   "outputs": [],
   "source": [
    "double accuracy(const arma::Row<size_t>& yPreds, const arma::Row<size_t>& yTrue)\n",
    "{\n",
    "    const size_t correct = arma::accu(yPreds == yTrue);\n",
    "    return (double)correct / (double)yTrue.n_elem;\n",
    "}"
   ]
  },
  {
   "cell_type": "code",
   "execution_count": 40,
   "id": "6ba7742c-6cc6-466c-98eb-a32649deb728",
   "metadata": {},
   "outputs": [
    {
     "name": "stdout",
     "output_type": "stream",
     "text": [
      "Accuracy: 0.9712\n"
     ]
    }
   ],
   "source": [
    "std::cout <<  \"Accuracy: \" << accuracy(output, Ytest) << std::endl;"
   ]
  },
  {
   "cell_type": "markdown",
   "id": "e69a5ca8-70d4-43f6-8f26-8c5289a4df77",
   "metadata": {},
   "source": [
    "### Part 2 - Modelling using Random Oversampling"
   ]
  },
  {
   "cell_type": "code",
   "execution_count": null,
   "id": "d189d2fc-944c-4217-a0b2-ce19098244de",
   "metadata": {},
   "outputs": [],
   "source": [
    "resample(\"LoanDefault.csv\", \"Defaulted\", \"No\", \"Yes\", \"oversample\", \"Date\", 123);"
   ]
  }
 ],
 "metadata": {
  "kernelspec": {
   "display_name": "C++14",
   "language": "C++14",
   "name": "xcpp14"
  },
  "language_info": {
   "codemirror_mode": "text/x-c++src",
   "file_extension": ".cpp",
   "mimetype": "text/x-c++src",
   "name": "c++",
   "version": "14"
  }
 },
 "nbformat": 4,
 "nbformat_minor": 5
}
