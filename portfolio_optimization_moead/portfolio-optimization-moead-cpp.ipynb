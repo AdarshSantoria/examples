{
 "cells": [
  {
   "cell_type": "code",
   "execution_count": 1,
   "metadata": {},
   "outputs": [],
   "source": [
    "/**\n",
    " * @file portfolio-optimization-moead-cpp.ipynb\n",
    " *\n",
    " * A simple practical application of MultiObjective Decomposition Evolutionary Algorithm\n",
    " * - Differential Variant (MOEA/D-DE) in portfolio optimization. This example allows user to freely choose \n",
    " * multiple stocks of their choice, which upon request, generates csv automagically \n",
    " * via a helper function.\n",
    " *\n",
    " * The algorithm will try and optimize the trade-off between the returns and\n",
    " * volatility of the requested stocks.\n",
    " *\n",
    " * Data from Pandas Datareader library (https://pandas-datareader.readthedocs.io/en/latest/).\n",
    " */"
   ]
  },
  {
   "cell_type": "code",
   "execution_count": 2,
   "metadata": {},
   "outputs": [],
   "source": [
    "#include <mlpack/xeus-cling.hpp>\n",
    "\n",
    "#include <ensmallen.hpp>\n",
    "#include \"../utils/portfolio.hpp\""
   ]
  },
  {
   "cell_type": "code",
   "execution_count": 3,
   "metadata": {},
   "outputs": [],
   "source": [
    "// Header files to create and show the plot.\n",
    "#define WITHOUT_NUMPY 1\n",
    "#include \"matplotlibcpp.h\"\n",
    "#include \"xwidgets/ximage.hpp\"\n",
    "\n",
    "namespace plt = matplotlibcpp;"
   ]
  },
  {
   "cell_type": "code",
   "execution_count": 4,
   "metadata": {},
   "outputs": [],
   "source": [
    "using namespace ens;"
   ]
  },
  {
   "cell_type": "code",
   "execution_count": 5,
   "metadata": {},
   "outputs": [],
   "source": [
    "using namespace ens::test;"
   ]
  },
  {
   "cell_type": "markdown",
   "metadata": {},
   "source": [
    "### 1. Set the Model Parameters"
   ]
  },
  {
   "cell_type": "markdown",
   "metadata": {},
   "source": [
    "In this section, we will select the parameters for the optimizer. Parameters include name of the stocks, starting date, ending date and Finance API Source."
   ]
  },
  {
   "cell_type": "code",
   "execution_count": 6,
   "metadata": {},
   "outputs": [],
   "source": [
    "//! Declare user specified data.\n",
    "std::string stocks, startDate, endDate, dataSource;"
   ]
  },
  {
   "cell_type": "code",
   "execution_count": 7,
   "metadata": {},
   "outputs": [],
   "source": [
    "stocks = \"AAPL,NKE,GOOGL,AMZN\";\n",
    "\n",
    "//! Uncomment to set custom stocks.\n",
    "// std::cout << \"Type the name of symbol of the stocks via comma separated values (no spaces)\" << std::endl;\n",
    "// std::cin >> stocks;"
   ]
  },
  {
   "cell_type": "markdown",
   "metadata": {},
   "source": [
    "We're setting the data source to Yahoo Finance API by default. For custom data-source, refer pandas-datareader documentation to get the exhaustive list of available API sources."
   ]
  },
  {
   "cell_type": "code",
   "execution_count": 8,
   "metadata": {},
   "outputs": [],
   "source": [
    "dataSource = \"yahoo\";\n",
    "\n",
    "//! Uncomment to set custom data-source.\n",
    "//std::cin >> dataSource;"
   ]
  },
  {
   "cell_type": "code",
   "execution_count": 9,
   "metadata": {},
   "outputs": [],
   "source": [
    "startDate = \"01/01/2015\";\n",
    "\n",
    "//! Uncomment to set custom start-date.\n",
    "// std::cout << \"Starting Date (YYYY/MM/DD or DD/MM/YYYY)\" << std::endl;\n",
    "// std::cin >> startDate;"
   ]
  },
  {
   "cell_type": "code",
   "execution_count": 10,
   "metadata": {},
   "outputs": [],
   "source": [
    "endDate = \"31/12/2019\";\n",
    "\n",
    "//! Uncomment to set custom end-date.\n",
    "// std::cout << \"End Date (YYYY/MM/DD or DD/MM/YYYY)\" << std::endl;\n",
    "// std::cin >> endDate;"
   ]
  },
  {
   "cell_type": "markdown",
   "metadata": {},
   "source": [
    "### 2. Loading the Dataset"
   ]
  },
  {
   "cell_type": "markdown",
   "metadata": {},
   "source": [
    "In this section, we will create a helper class which will generate the CSV file for us based on the parameters provided in previous section. This class would also define the objective functions in question, namely: Return and Volatility. Ideally, we would want to maximize the returns and reduce the volatility. Since our implementation of algorithm works on minimization of all objectives, we have appended negative sign to the returns objective which converts it into a minimization problem."
   ]
  },
  {
   "cell_type": "code",
   "execution_count": 11,
   "metadata": {},
   "outputs": [],
   "source": [
    "class PortfolioFunction\n",
    "{\n",
    "  public:\n",
    "    PortfolioFunction(const std::string& stocks,\n",
    "                      const std::string& dataSource,\n",
    "                      const std::string& startDate,\n",
    "                      const std::string& endDate)\n",
    "    {\n",
    "    //! Generate the requested csv file.\n",
    "      Portfolio(stocks, dataSource, startDate, endDate,\"portfolio.csv\");\n",
    "      returns.load(\"portfolio.csv\", arma::csv_ascii);\n",
    "      returns.shed_col(0);\n",
    "\n",
    "      assets = returns.n_cols;\n",
    "    }\n",
    "\n",
    "    //! Get the starting point.\n",
    "    arma::mat GetInitialPoint()\n",
    "    {\n",
    "      return arma::Col<double>(assets, 1, arma::fill::zeros);\n",
    "    }\n",
    "    \n",
    "    struct VolatilityObjective\n",
    "    {\n",
    "        VolatilityObjective(const arma::mat& returns) : returns(returns) {}\n",
    "\n",
    "        double Evaluate(const arma::mat& coords)\n",
    "        {\n",
    "          const double portfolioVolatility = arma::as_scalar(arma::sqrt(\n",
    "                coords.t() * arma::cov(returns) * 252 * coords));\n",
    "          return portfolioVolatility;\n",
    "        }\n",
    "\n",
    "        arma::mat returns;\n",
    "    };\n",
    "\n",
    "    struct ReturnsObjective\n",
    "    {\n",
    "        ReturnsObjective(const arma::mat& returns) : returns(returns) {}\n",
    "\n",
    "        double Evaluate(const arma::mat& coords)\n",
    "        {\n",
    "          const double portfolioReturns = arma::accu(arma::mean(returns) %\n",
    "              coords.t()) * 252;\n",
    "          \n",
    "          //! Negative sign appended to convert to minimization problem.\n",
    "          return -portfolioReturns;\n",
    "        }\n",
    "\n",
    "        arma::mat returns;\n",
    "    };\n",
    "\n",
    "\n",
    "    //! Get objective functions.\n",
    "    std::tuple<VolatilityObjective, ReturnsObjective> GetObjectives()\n",
    "    {\n",
    "      return std::make_tuple(VolatilityObjective(returns), ReturnsObjective(returns));\n",
    "    }\n",
    "\n",
    "    arma::mat returns;\n",
    "    size_t assets;\n",
    "};\n",
    "\n",
    "\n",
    "//! The constructor will generate the csv file.\n",
    "PortfolioFunction pf(stocks, dataSource, startDate, endDate);\n",
    "\n",
    "const double lowerBound = 0;\n",
    "const double upperBound = 1;\n",
    "\n",
    "DefaultMOEAD opt(150, // Population size.\n",
    "                 300,  // Max generations.\n",
    "                 1.0,  // Crossover probability.\n",
    "                 0.9, // Probability of sampling from neighbor.\n",
    "                 20, // Neighborhood size.\n",
    "                 20, // Perturbation index.\n",
    "                 0.5, // Differential weight.\n",
    "                 2, // Max childrens to replace parents.\n",
    "                 1E-10, // epsilon.\n",
    "                 lowerBound, // Lower bound.\n",
    "                 upperBound // Upper bound.\n",
    "                );\n",
    "\n",
    "arma::mat coords = pf.GetInitialPoint();\n",
    "auto objectives = pf.GetObjectives();"
   ]
  },
  {
   "cell_type": "markdown",
   "metadata": {},
   "source": [
    "### 3. Optimization "
   ]
  },
  {
   "cell_type": "markdown",
   "metadata": {},
   "source": [
    "MOEA/D-DE (Multi Objective Evolutionary Algorithm based on Decomposition - Differential Evolution) is a multi\n",
    "objective optimization algorithm which works via Decomposition. Unlike traditional dominance based algorithm like NSGA-II, the concept of dominance is non-existant here. Instead a set of \"Reference Directions\" are generated which explitly allows us to control the distribution of the final Pareto Front. With the help of Decomposition functions, a scalar optimization problem is framed which \"pulls\" the population towards the true Pareto Front. MOEA/D-DE is much faster than NSGA-II and produces high quality Pareto Front in very few iterations.\n",
    "\n",
    "MOEAD offers a plethora of Decomposition Functions and Reference Direction generators via templates. For our case, we've utilized the trusty ```DefaultMOEAD```. Read the class documentation for other options."
   ]
  },
  {
   "cell_type": "markdown",
   "metadata": {},
   "source": [
    "We would like to track the optimization process over the generations. For that let's create a container to store the current Pareto Front."
   ]
  },
  {
   "cell_type": "code",
   "execution_count": 12,
   "metadata": {},
   "outputs": [],
   "source": [
    "std::vector<arma::cube> paretoFrontArray{};"
   ]
  },
  {
   "cell_type": "markdown",
   "metadata": {},
   "source": [
    "This data structure would then be passed on to the \"QueryFront\" Callback which will track the evolution for us."
   ]
  },
  {
   "cell_type": "markdown",
   "metadata": {},
   "source": [
    "Begin Optimization! (This will take a fair amount of time)."
   ]
  },
  {
   "cell_type": "code",
   "execution_count": 13,
   "metadata": {},
   "outputs": [],
   "source": [
    "opt.Optimize(objectives, coords, QueryFront(2, paretoFrontArray));"
   ]
  },
  {
   "cell_type": "markdown",
   "metadata": {},
   "source": [
    "Let's collect the results and inspect our first set of solution."
   ]
  },
  {
   "cell_type": "code",
   "execution_count": 14,
   "metadata": {},
   "outputs": [
    {
     "name": "stdout",
     "output_type": "stream",
     "text": [
      "   3.2988e-05\n",
      "  -2.6566e-05\n",
      "\n"
     ]
    }
   ],
   "source": [
    "arma::cube paretoFront = opt.ParetoFront();\n",
    "\n",
    "std::cout << paretoFront.slice(0) << std::endl;"
   ]
  },
  {
   "cell_type": "markdown",
   "metadata": {},
   "source": [
    "Let's create an array to store the X and Y coordinates of all the Pareto Fronts."
   ]
  },
  {
   "cell_type": "code",
   "execution_count": 15,
   "metadata": {},
   "outputs": [],
   "source": [
    "size_t numQuery = 300 / 2; // maxGeneration / queryRate.\n",
    "\n",
    "std::vector<std::vector<double>> frontArrayX(numQuery);\n",
    "std::vector<std::vector<double>> frontArrayY(numQuery);"
   ]
  },
  {
   "cell_type": "markdown",
   "metadata": {},
   "source": [
    "Convert to neccessary data structure."
   ]
  },
  {
   "cell_type": "code",
   "execution_count": 16,
   "metadata": {},
   "outputs": [],
   "source": [
    "void FillFront(std::vector<double>& frontX,\n",
    "               std::vector<double>& frontY,\n",
    "               arma::cube& paretoFront)\n",
    "{\n",
    "    size_t numPoints = paretoFront.n_slices;\n",
    "\n",
    "    //! Store the X, Y coordinates of the Pareto Front.\n",
    "    frontX.resize(numPoints);\n",
    "    frontY.resize(numPoints);\n",
    "\n",
    "    for (size_t idx = 0; idx < numPoints; ++idx)\n",
    "    {\n",
    "\n",
    "        frontX[idx] = paretoFront.slice(idx)(0);\n",
    "        // Append negative again to restore the original \n",
    "        // maximization objective.\n",
    "        frontY[idx] = -paretoFront.slice(idx)(1);\n",
    "    }\n",
    "}"
   ]
  },
  {
   "cell_type": "code",
   "execution_count": 17,
   "metadata": {},
   "outputs": [],
   "source": [
    "for (size_t idx = 0; idx < numQuery; ++idx)\n",
    "    FillFront(frontArrayX[idx], frontArrayY[idx], paretoFrontArray[idx]);"
   ]
  },
  {
   "cell_type": "markdown",
   "metadata": {},
   "source": [
    "### 4.  Plotting"
   ]
  },
  {
   "cell_type": "markdown",
   "metadata": {},
   "source": [
    "As said before, we desire higher returns and lower volatility. The Pareto Front generated gives an optimal set of solutions such that, higher volatility is traded-off with higher returns and vice-versa. Hence, all the solutions are \"optimal\". Based on user's preference, he/she can choose their solution from the generated front.\n",
    "\n",
    "The Axis Labels are as follows:\n",
    "\n",
    "X-Axis: Volatility\n",
    "\n",
    "Y-Axis: Returns\n",
    "\n",
    "We expect an increase in volatility with increase in returns."
   ]
  },
  {
   "cell_type": "code",
   "execution_count": 18,
   "metadata": {},
   "outputs": [
    {
     "data": {
      "application/vnd.jupyter.widget-view+json": {
       "model_id": "375542fef09e461298ed0c9ebf36a78e",
       "version_major": 2,
       "version_minor": 0
      },
      "text/plain": [
       "A Jupyter widget with unique id: 375542fef09e461298ed0c9ebf36a78e"
      ]
     },
     "execution_count": 18,
     "metadata": {},
     "output_type": "execute_result"
    }
   ],
   "source": [
    "plt::figure_size(800, 800);\n",
    "\n",
    "for (size_t idx = 0; idx < numQuery; ++idx)\n",
    "    plt::scatter(frontArrayX[idx], frontArrayY[idx], 50, {{\"c\", \"r\"}});\n",
    "\n",
    "plt::xlabel(\"Volatility\");\n",
    "plt::ylabel(\"Returns\");\n",
    "\n",
    "plt::title(\"The Pareto Front\");\n",
    "plt::legend();\n",
    "\n",
    "plt::save(\"./plot.png\");\n",
    "auto im = xw::image_from_file(\"plot.png\").finalize();\n",
    "im"
   ]
  },
  {
   "cell_type": "markdown",
   "metadata": {},
   "source": [
    "### 5. Final Thoughts"
   ]
  },
  {
   "cell_type": "markdown",
   "metadata": {},
   "source": [
    "In this notebook, we've seen how a MultiObjective Optimization algorithm can help in investing in stocks. We specified our stocks and witnessed our algorithm optimize the returns vs volatility trade-off in live. Feel free to play around by selecting various stocks, start-date, end-date and see how the outcomes plays off. "
   ]
  }
 ],
 "metadata": {
  "kernelspec": {
   "display_name": "C++14",
   "language": "C++14",
   "name": "xcpp14"
  },
  "language_info": {
   "codemirror_mode": "text/x-c++src",
   "file_extension": ".cpp",
   "mimetype": "text/x-c++src",
   "name": "c++",
   "version": "14"
  }
 },
 "nbformat": 4,
 "nbformat_minor": 5
}