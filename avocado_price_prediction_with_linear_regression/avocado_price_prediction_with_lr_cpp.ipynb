{
 "cells": [
  {
   "cell_type": "markdown",
   "id": "78d0ce16-4ec6-4998-ab5e-94326b6e4f6e",
   "metadata": {},
   "source": [
    "### Predicting Avocado's Average Price using Linear Regression\n",
    "\n",
    "### Objective\n",
    "* Our target is to predict the future price of avocado's depending on various features (Type, Region, Total Bags, ...)\n",
    "\n",
    "### Dataset\n",
    "Avocado Prices dataset has the following features:\n",
    "\n",
    "PLU - Product Lookup Code in Hass avocado board.\n",
    "* Date - The date of the observation\n",
    "* AveragePrice - observed average price of single avocado\n",
    "* Total Volume - Total number of avocado's sold\n",
    "* 4046 - Total number of avocado's with PLU 4046 sold\n",
    "* 4225 - Total number of avocado's with PLU 4225 sold\n",
    "* 4770 - Total number of avocado's with PLU 4770 sold\n",
    "* Total Bags = Small Bags + Large Bags + XLarge Bags\n",
    "* Type - conventional or organic\n",
    "* Year - year of observation\n",
    "* Region - city or region of observation\n",
    "\n",
    "### Approach\n",
    "* In this example, first we will do EDA on the dataset to find correlation between various features\n",
    "* Then we'll be using onehot encoding to encode categorical features\n",
    "* Finally we will use LinearRegression API from mlpack to learn the correlation between various features and the target i.e AveragePrice\n",
    "* After training the model, we will use it to do some predictions, followed by various evaluation metrics to quanitfy how well our model behaves"
   ]
  },
  {
   "cell_type": "code",
   "execution_count": 1,
   "id": "3d374b30-e54a-4990-b191-aade8144d0a6",
   "metadata": {},
   "outputs": [],
   "source": [
    "#include <mlpack/xeus-cling.hpp>\n",
    "#include <mlpack/core.hpp>\n",
    "#include <mlpack/core/data/split_data.hpp>\n",
    "#include <mlpack/core/data/one_hot_encoding.hpp>\n",
    "#include <mlpack/methods/linear_regression/linear_regression.hpp>"
   ]
  },
  {
   "cell_type": "code",
   "execution_count": 2,
   "id": "aaa7fa57-80c6-48aa-9d9d-5816c947b74b",
   "metadata": {},
   "outputs": [],
   "source": [
    "#define WITHOUT_NUMPY 1\n",
    "#include \"matplotlibcpp.h\"\n",
    "#include \"xwidgets/ximage.hpp\"\n",
    "#include \"../utils/plot.hpp\"\n",
    "\n",
    "namespace plt = matplotlibcpp;"
   ]
  },
  {
   "cell_type": "code",
   "execution_count": 3,
   "id": "324c030a-d1ec-41c6-b6ad-92d62c9fbf57",
   "metadata": {},
   "outputs": [],
   "source": [
    "using namespace mlpack;\n",
    "using namespace mlpack::data;"
   ]
  },
  {
   "cell_type": "code",
   "execution_count": 4,
   "id": "ce45d9ac-b131-462c-8f2e-e019a0f5f303",
   "metadata": {},
   "outputs": [],
   "source": [
    "!cat avocado.csv | sed 1d > avocado_trim.csv"
   ]
  },
  {
   "cell_type": "code",
   "execution_count": 5,
   "id": "6d45544e-9f6d-4fab-93b2-ded5b51aa9dd",
   "metadata": {},
   "outputs": [],
   "source": [
    "!cut -d, -f1-2 --complement avocado_trim.csv > avocado_trim2.csv"
   ]
  },
  {
   "cell_type": "code",
   "execution_count": 6,
   "id": "9d79dabe-286d-4278-9d41-d06a4048b7b0",
   "metadata": {},
   "outputs": [],
   "source": [
    "!rm avocado_trim.csv"
   ]
  },
  {
   "cell_type": "code",
   "execution_count": 7,
   "id": "edec6ad1-be42-46b9-8487-d44501db6fc0",
   "metadata": {},
   "outputs": [],
   "source": [
    "!mv avocado_trim2.csv avocado_trim.csv"
   ]
  },
  {
   "cell_type": "code",
   "execution_count": 8,
   "id": "ae1a3152-76bc-43ce-894b-6554a2f0ad8a",
   "metadata": {},
   "outputs": [],
   "source": [
    "arma::mat matrix;\n",
    "mlpack::data::DatasetInfo info;\n",
    "info.Type(9) = mlpack::data::Datatype::categorical;\n",
    "info.Type(11) = mlpack::data::Datatype::categorical;\n",
    "data::Load(\"avocado_trim.csv\", matrix, info);"
   ]
  },
  {
   "cell_type": "code",
   "execution_count": 9,
   "id": "7619f5f1-7e33-4257-9868-999593810d96",
   "metadata": {},
   "outputs": [
    {
     "name": "stdout",
     "output_type": "stream",
     "text": [
      "AveragePrice  Total Volume     4046         4225         4770       Total Bags   Small Bags   Large Bags      XLarge Bags      Type      Year         Region\n",
      "   1.3300e+00   6.4237e+04   1.0367e+03   5.4455e+04   4.8160e+01   8.6969e+03   8.6036e+03   9.3250e+01            0            0   2.0150e+03            0\n",
      "   1.3500e+00   5.4877e+04   6.7428e+02   4.4639e+04   5.8330e+01   9.5056e+03   9.4081e+03   9.7490e+01            0            0   2.0150e+03            0\n",
      "   9.3000e-01   1.1822e+05   7.9470e+02   1.0915e+05   1.3050e+02   8.1454e+03   8.0422e+03   1.0314e+02            0            0   2.0150e+03            0\n",
      "   1.0800e+00   7.8992e+04   1.1320e+03   7.1976e+04   7.2580e+01   5.8112e+03   5.6774e+03   1.3376e+02            0            0   2.0150e+03            0\n",
      "   1.2800e+00   5.1040e+04   9.4148e+02   4.3838e+04   7.5780e+01   6.1839e+03   5.9863e+03   1.9769e+02            0            0   2.0150e+03            0\n",
      "   1.2600e+00   5.5980e+04   1.1843e+03   4.8068e+04   4.3610e+01   6.6839e+03   6.5565e+03   1.2744e+02            0            0   2.0150e+03            0\n",
      "\n"
     ]
    }
   ],
   "source": [
    "// Printing header for dataset.\n",
    "std::cout << std::setw(10) << \"AveragePrice\" << std::setw(14) << \"Total Volume\" << std::setw(9) << \"4046\" << std::setw(13) << \"4225\" << std::setw(13) << \"4770\" \n",
    "    << std::setw(17) << \"Total Bags\" << std::setw(13) << \"Small Bags\" << std::setw(13) << \"Large Bags\" << std::setw(17) << \"XLarge Bags\" << \n",
    "    std::setw(10) << \"Type\" << std::setw(10) << \"Year\" << std::setw(15) << \"Region\" <<  std::endl;\n",
    "\n",
    "std::cout << matrix.submat(0, 0, matrix.n_rows-1, 5).t() << std::endl;"
   ]
  },
  {
   "cell_type": "code",
   "execution_count": 10,
   "id": "9c2b6725-f2ea-4e1b-ae0e-2fbc2cf71833",
   "metadata": {},
   "outputs": [
    {
     "data": {
      "application/vnd.jupyter.widget-view+json": {
       "model_id": "405f639f26d74173b4645eb13d64d53c",
       "version_major": 2,
       "version_minor": 0
      },
      "text/plain": [
       "A Jupyter widget with unique id: 405f639f26d74173b4645eb13d64d53c"
      ]
     },
     "execution_count": 10,
     "metadata": {},
     "output_type": "execute_result"
    }
   ],
   "source": [
    "scatter(\"avocado.csv\", \"conventional\");\n",
    "auto img = xw::image_from_file(\"cscatter_conventional.png\").finalize();\n",
    "img"
   ]
  },
  {
   "cell_type": "code",
   "execution_count": 11,
   "id": "aadbc14a-8ff4-4269-a6f5-f25f1a5f1b68",
   "metadata": {},
   "outputs": [
    {
     "data": {
      "application/vnd.jupyter.widget-view+json": {
       "model_id": "dfcc56bb0edf4771bf51907f81b0e586",
       "version_major": 2,
       "version_minor": 0
      },
      "text/plain": [
       "A Jupyter widget with unique id: dfcc56bb0edf4771bf51907f81b0e586"
      ]
     },
     "execution_count": 11,
     "metadata": {},
     "output_type": "execute_result"
    }
   ],
   "source": [
    "scatter(\"avocado.csv\", \"organic\");\n",
    "auto img = xw::image_from_file(\"cscatter_organic.png\").finalize();\n",
    "img"
   ]
  },
  {
   "cell_type": "code",
   "execution_count": 12,
   "id": "baebdee8-e33c-4e98-80ff-5cbc83c71284",
   "metadata": {},
   "outputs": [
    {
     "data": {
      "application/vnd.jupyter.widget-view+json": {
       "model_id": "fd9fb61cc84f40a7abf71c3cf9056bdb",
       "version_major": 2,
       "version_minor": 0
      },
      "text/plain": [
       "A Jupyter widget with unique id: fd9fb61cc84f40a7abf71c3cf9056bdb"
      ]
     },
     "execution_count": 12,
     "metadata": {},
     "output_type": "execute_result"
    }
   ],
   "source": [
    "barplot(\"avocado.csv\", \"AveragePrice\", \"region\", \"Avg.Price of Avocado by Region\", 8, 10);\n",
    "auto img = xw::image_from_file(\"cbarplot_Avg.Price of Avocado by Region.png\").finalize();\n",
    "img"
   ]
  },
  {
   "cell_type": "code",
   "execution_count": 13,
   "id": "181dd76f-f9a1-4e87-9c67-069f4386041f",
   "metadata": {},
   "outputs": [
    {
     "data": {
      "application/vnd.jupyter.widget-view+json": {
       "model_id": "73493b2dde3b4ea9902b655a4556c506",
       "version_major": 2,
       "version_minor": 0
      },
      "text/plain": [
       "A Jupyter widget with unique id: 73493b2dde3b4ea9902b655a4556c506"
      ]
     },
     "execution_count": 13,
     "metadata": {},
     "output_type": "execute_result"
    }
   ],
   "source": [
    "barplot(\"avocado.csv\", \"type\", \"AveragePrice\", \"Avg.Price of Avocado by Type\");\n",
    "auto img = xw::image_from_file(\"cbarplot_Avg.Price of Avocado by Type.png\").finalize();\n",
    "img"
   ]
  },
  {
   "cell_type": "code",
   "execution_count": 14,
   "id": "8926f7d1-faa5-47c6-aed4-fe7c37035b09",
   "metadata": {},
   "outputs": [
    {
     "data": {
      "application/vnd.jupyter.widget-view+json": {
       "model_id": "7e51b7aab0a442a38baf8bb8a6ca00bd",
       "version_major": 2,
       "version_minor": 0
      },
      "text/plain": [
       "A Jupyter widget with unique id: 7e51b7aab0a442a38baf8bb8a6ca00bd"
      ]
     },
     "execution_count": 14,
     "metadata": {},
     "output_type": "execute_result"
    }
   ],
   "source": [
    "heatmap(\"avocado.csv\",\"coolwarm\", \"Correlation Heatmap\", true);\n",
    "auto img = xw::image_from_file(\"cheatmap_Correlation Heatmap.png\").finalize();\n",
    "img"
   ]
  },
  {
   "cell_type": "code",
   "execution_count": 15,
   "id": "e26a5936-d0ee-474a-a733-7b8063b3a672",
   "metadata": {},
   "outputs": [],
   "source": [
    "arma::mat output;\n",
    "data::OneHotEncoding(matrix, output, info);"
   ]
  },
  {
   "cell_type": "code",
   "execution_count": 16,
   "id": "a89befd5-ba75-4acc-bf11-fa55b9a91ba1",
   "metadata": {},
   "outputs": [
    {
     "data": {
      "text/plain": [
       "66"
      ]
     },
     "execution_count": 16,
     "metadata": {},
     "output_type": "execute_result"
    }
   ],
   "source": [
    "output.n_rows"
   ]
  },
  {
   "cell_type": "code",
   "execution_count": 17,
   "id": "536d598e-9894-4047-96fa-82ac14ded328",
   "metadata": {},
   "outputs": [],
   "source": [
    "arma::Row<double> targets = arma::conv_to<arma::Row<double>>::from(output.row(0));"
   ]
  },
  {
   "cell_type": "code",
   "execution_count": 18,
   "id": "30bba7d3-0c09-4472-bf6f-1150b13535a1",
   "metadata": {},
   "outputs": [],
   "source": [
    "output.shed_row(0)"
   ]
  },
  {
   "cell_type": "code",
   "execution_count": 19,
   "id": "e9de23c5-4d88-4d25-a157-05bb7650685c",
   "metadata": {},
   "outputs": [
    {
     "data": {
      "text/plain": [
       "{ 64236.620, 1036.7400, 54454.850, 48.160000, 8696.8700, 8603.6200, 93.250000, 0.0000000, 1.0000000, 0.0000000, 2015.0000, 1.0000000, 0.0000000, 0.0000000, 0.0000000, 0.0000000, 0.0000000, 0.0000000, 0.0000000, 0.0000000, 0.0000000, 0.0000000, 0.0000000, 0.0000000, 0.0000000, 0.0000000, 0.0000000, 0.0000000, 0.0000000, 0.0000000, 0.0000000, 0.0000000, 0.0000000, 0.0000000, 0.0000000, 0.0000000, 0.0000000, 0.0000000, 0.0000000, 0.0000000, 0.0000000, 0.0000000, 0.0000000, 0.0000000, 0.0000000, 0.0000000, 0.0000000, 0.0000000, 0.0000000, 0.0000000, 0.0000000, 0.0000000, 0.0000000, 0.0000000, 0.0000000, 0.0000000, 0.0000000, 0.0000000, 0.0000000, 0.0000000, 0.0000000, 0.0000000, 0.0000000, 0.0000000, 0.0000000 }"
      ]
     },
     "execution_count": 19,
     "metadata": {},
     "output_type": "execute_result"
    }
   ],
   "source": [
    "output.col(0)"
   ]
  },
  {
   "cell_type": "code",
   "execution_count": 20,
   "id": "c39b65dd-aa03-4281-a057-86d4f8b293b6",
   "metadata": {},
   "outputs": [],
   "source": [
    "arma::mat Xtrain;\n",
    "arma::mat Xtest;\n",
    "arma::Row<double> Ytrain;\n",
    "arma::Row<double> Ytest;"
   ]
  },
  {
   "cell_type": "code",
   "execution_count": 21,
   "id": "b4e567e6-4d54-43cb-b94f-b77776128877",
   "metadata": {},
   "outputs": [],
   "source": [
    "data::Split(output, targets, Xtrain, Xtest, Ytrain, Ytest, 0.2);"
   ]
  },
  {
   "cell_type": "code",
   "execution_count": 22,
   "id": "3f936744-df4a-44d0-ac13-b2614fb06960",
   "metadata": {},
   "outputs": [],
   "source": [
    "arma::rowvec yTrain = arma::conv_to<arma::rowvec>::from(Ytrain);\n",
    "arma::rowvec yTest = arma::conv_to<arma::rowvec>::from(Ytest);"
   ]
  },
  {
   "cell_type": "code",
   "execution_count": 23,
   "id": "97fdc354-57d0-4e28-91e8-1d707fc24226",
   "metadata": {},
   "outputs": [],
   "source": [
    "regression::LinearRegression lr(Xtrain, yTrain, 0.5);"
   ]
  },
  {
   "cell_type": "code",
   "execution_count": 24,
   "id": "5d4cd76e-3a6b-4f4b-9bde-002acf0d126e",
   "metadata": {},
   "outputs": [],
   "source": [
    "arma::rowvec yPreds;\n",
    "lr.Predict(Xtest, yPreds);"
   ]
  },
  {
   "cell_type": "code",
   "execution_count": 25,
   "id": "e25fa64a-e728-43ad-abfb-d8e385a62d73",
   "metadata": {},
   "outputs": [],
   "source": [
    "arma::mat preds;\n",
    "preds.insert_rows(0, yTest);\n",
    "preds.insert_rows(1, yPreds);"
   ]
  },
  {
   "cell_type": "code",
   "execution_count": 26,
   "id": "020e0c3e-81bc-4bcb-be8d-4febdf8b97ee",
   "metadata": {},
   "outputs": [],
   "source": [
    "mlpack::data::Save(\"predictions.csv\", preds);"
   ]
  },
  {
   "cell_type": "code",
   "execution_count": 27,
   "id": "71a54770-db87-4b69-abdd-9efba5accccf",
   "metadata": {},
   "outputs": [
    {
     "data": {
      "application/vnd.jupyter.widget-view+json": {
       "model_id": "913ae034151b4f11b2a2fc57afbb798f",
       "version_major": 2,
       "version_minor": 0
      },
      "text/plain": [
       "A Jupyter widget with unique id: 913ae034151b4f11b2a2fc57afbb798f"
      ]
     },
     "execution_count": 27,
     "metadata": {},
     "output_type": "execute_result"
    }
   ],
   "source": [
    "lmplot(\"predictions.csv\");\n",
    "auto img = xw::image_from_file(\"clmplot_predictions.csv.png\").finalize();    \n",
    "img"
   ]
  },
  {
   "cell_type": "code",
   "execution_count": 28,
   "id": "e8d8626e-81b3-498e-851d-59d49c937c01",
   "metadata": {},
   "outputs": [
    {
     "data": {
      "application/vnd.jupyter.widget-view+json": {
       "model_id": "c3ce801edb0848039d0975c661290c69",
       "version_major": 2,
       "version_minor": 0
      },
      "text/plain": [
       "A Jupyter widget with unique id: c3ce801edb0848039d0975c661290c69"
      ]
     },
     "execution_count": 28,
     "metadata": {},
     "output_type": "execute_result"
    }
   ],
   "source": [
    "histplot(\"predictions.csv\", \"Distribution of residuals\");\n",
    "auto img = xw::image_from_file(\"chistplot_Distribution of residuals.png\").finalize();    \n",
    "img"
   ]
  },
  {
   "cell_type": "code",
   "execution_count": null,
   "id": "cd46e5ca-6192-4a63-b662-8278b6ba303b",
   "metadata": {},
   "outputs": [],
   "source": [
    "std::vector<double> yTestPlot = arma::conv_to<std::vector<double>>::from(Ytest);\n",
    "std::vector<double> yPredsPlot = arma::conv_to<std::vector<double>>::from(yPreds);"
   ]
  },
  {
   "cell_type": "code",
   "execution_count": null,
   "id": "212b13a9-77c9-4b71-96fa-46fb66f7f461",
   "metadata": {},
   "outputs": [],
   "source": [
    "// Visualize Predicted datapoints.\n",
    "plt::figure_size(800, 800);\n",
    "\n",
    "plt::scatter(yTestPlot, yPredsPlot, 12); //{{\"color\", \"blue\"}});\n",
    "//plt::plot();\n",
    "plt::xlabel(\"Y Test\");\n",
    "plt::ylabel(\"Pred\");\n",
    "plt::title(\"AveragePrice vs Predicted Average Price\");\n",
    "\n",
    "plt::save(\"./scatter1.png\");\n",
    "auto img = xw::image_from_file(\"scatter1.png\").finalize();\n",
    "img"
   ]
  },
  {
   "cell_type": "markdown",
   "id": "ea1c1047-9570-4c47-8a5b-89f984e98f28",
   "metadata": {},
   "source": [
    "## Evaluation Metrics for Regression model\n",
    "\n",
    "In the Previous cell we have visualized our model performance by plotting the best fit line. Now we will use various evaluation metrics to understand how well our model has performed.\n",
    "\n",
    "* Mean Absolute Error (MAE) is the sum of absolute differences between actual and predicted values, without considering the direction.\n",
    "$$ MAE = \\frac{\\sum_{i=1}^n\\lvert y_{i} - \\hat{y_{i}}\\rvert} {n} $$\n",
    "* Mean Squared Error (MSE) is calculated as the mean or average of the squared differences between predicted and expected target values in a dataset, a lower value is better\n",
    "$$ MSE = \\frac {1}{n} \\sum_{i=1}^n (y_{i} - \\hat{y_{i}})^2 $$\n",
    "* Root Mean Squared Error (RMSE), Square root of MSE yields root mean square error (RMSE) it indicates the spread of the residual errors. It is always positive, and a lower value indicates better performance.\n",
    "$$ RMSE = \\sqrt{\\frac {1}{n} \\sum_{i=1}^n (y_{i} - \\hat{y_{i}})^2} $$"
   ]
  },
  {
   "cell_type": "code",
   "execution_count": 29,
   "id": "8b323dc0-61f8-43c1-ae8a-38027c04ff88",
   "metadata": {},
   "outputs": [
    {
     "name": "stdout",
     "output_type": "stream",
     "text": [
      "Mean Absolute Error: 0.204229\n",
      "Mean Squared Error: 0.0749513\n",
      "Root Mean Squared Error: 0.273772\n"
     ]
    }
   ],
   "source": [
    "// Model evaluation metrics.\n",
    "\n",
    "std::cout << \"Mean Absolute Error: \" << arma::mean(arma::abs(yPreds - yTest)) << std::endl;\n",
    "std::cout << \"Mean Squared Error: \" << arma::mean(arma::pow(yPreds - yTest,2)) << std::endl;\n",
    "std::cout << \"Root Mean Squared Error: \" << sqrt(arma::mean(arma::pow(yPreds - yTest,2))) << std::endl;"
   ]
  }
 ],
 "metadata": {
  "kernelspec": {
   "display_name": "C++14",
   "language": "C++14",
   "name": "xcpp14"
  },
  "language_info": {
   "codemirror_mode": "text/x-c++src",
   "file_extension": ".cpp",
   "mimetype": "text/x-c++src",
   "name": "c++",
   "version": "14"
  }
 },
 "nbformat": 4,
 "nbformat_minor": 5
}
