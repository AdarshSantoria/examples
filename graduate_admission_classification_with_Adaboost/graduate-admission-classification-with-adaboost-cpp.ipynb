{
 "cells": [
  {
   "cell_type": "markdown",
   "id": "79cfd318-350f-4f2b-b985-0f97ab8a119b",
   "metadata": {},
   "source": [
    "### Prediction of Chances of Admit for Graduate Programs in US Universities\n",
    "\n",
    "### Our Objective:\n",
    "* Determine the most important factors that contribute to a student's chance of admission, and select the most accurate model to predict the probability of admission.\n",
    "* The predicted output gives them a fair idea about their admission chances in a particular university. \n",
    "\n",
    "### Getting to know the dataset!\n",
    "GA dataset contains various paraameters which are important for admission into graduate programs in universities. The features included are :\n",
    "* GRE Scores ( out of 340 ).\n",
    "* TOEFL Scores ( out of 120 ).\n",
    "* University Rating ( out of 5 ).\n",
    "* Statement of Purpose and Letter of Recommendation Strength ( out of 5 ).\n",
    "* Undergraduate GPA ( out of 10 ).\n",
    "* Research Experience ( either 0 or 1 ).\n",
    "* Chance of Admit ( ranging from 0 to 1 ).\n",
    "\n",
    "### Approach\n",
    "* Explore our data to check for imbalance and missing values.\n",
    "* Explore the correlation between various features in the dataset.\n",
    "* Split the preprocessed dataset into train and test sets respectively.\n",
    "* Create and Train a AdaBoost Classifier using mlpack.\n",
    "* We'll perform evaluation on our test set using metrics such as Accuracy, ROC AUC to quantify the performance of out model."
   ]
  },
  {
   "cell_type": "code",
   "execution_count": null,
   "id": "8a06d8f1-23a7-44ef-80b1-0394a660e8d0",
   "metadata": {},
   "outputs": [],
   "source": [
    "!wget -q http://datasets.mlpack.org/Admission_Predict.csv"
   ]
  },
  {
   "cell_type": "code",
   "execution_count": 1,
   "id": "d9826954-4773-44d2-ac20-456ed54724d2",
   "metadata": {},
   "outputs": [],
   "source": [
    "// Import necessary library headers.\n",
    "#include <mlpack/xeus-cling.hpp>\n",
    "#include <mlpack/core.hpp>\n",
    "#include <mlpack/core/data/split_data.hpp>\n",
    "#include <mlpack/methods/decision_tree/decision_tree.hpp>\n",
    "#include <mlpack/methods/adaboost/adaboost.hpp>"
   ]
  },
  {
   "cell_type": "code",
   "execution_count": 2,
   "id": "0cd85eef-ee6d-49ff-bc71-66b9b629b9a3",
   "metadata": {},
   "outputs": [],
   "source": [
    "#define WITHOUT_NUMPY 1\n",
    "#include \"matplotlibcpp.h\"\n",
    "#include \"xwidgets/ximage.hpp\"\n",
    "#include \"../utils/preprocess.hpp\"\n",
    "#include \"../utils/plot.hpp\"\n",
    "\n",
    "namespace plt = matplotlibcpp;"
   ]
  },
  {
   "cell_type": "code",
   "execution_count": 3,
   "id": "10044eb8-a409-43df-bfec-6be549cfc877",
   "metadata": {},
   "outputs": [],
   "source": [
    "using namespace mlpack;"
   ]
  },
  {
   "cell_type": "code",
   "execution_count": 4,
   "id": "b6027532-5e6a-403c-a961-18bf74a3853b",
   "metadata": {},
   "outputs": [],
   "source": [
    "using namespace mlpack::data;"
   ]
  },
  {
   "cell_type": "code",
   "execution_count": 5,
   "id": "ed677478-0314-4f8d-9097-39ad9786de4d",
   "metadata": {},
   "outputs": [],
   "source": [
    "using namespace mlpack::tree;"
   ]
  },
  {
   "cell_type": "code",
   "execution_count": 6,
   "id": "2b7f0fd4-f3b7-4f73-bec8-157108dab0e6",
   "metadata": {},
   "outputs": [],
   "source": [
    "using namespace mlpack::adaboost;"
   ]
  },
  {
   "cell_type": "code",
   "execution_count": 7,
   "id": "46d52743-e55e-4f9a-9aa3-9b4dad9924c7",
   "metadata": {},
   "outputs": [],
   "source": [
    "// Utility functions for evaluation metrics.\n",
    "double accuracy(const arma::Row<size_t>& yPreds, const arma::Row<size_t>& yTrue)\n",
    "{\n",
    "    const size_t correct = arma::accu(yPreds == yTrue);\n",
    "    return (double)correct / (double)yTrue.n_elem;\n",
    "}"
   ]
  },
  {
   "cell_type": "code",
   "execution_count": 8,
   "id": "659a4713-c49e-454a-828a-81722ba2029a",
   "metadata": {},
   "outputs": [],
   "source": [
    "double precision(const size_t truePos, const size_t falsePos)\n",
    "{\n",
    "    return (double)truePos / (double)(truePos + falsePos);\n",
    "}"
   ]
  },
  {
   "cell_type": "code",
   "execution_count": 9,
   "id": "2affa594-e479-449a-a801-f96e69780b84",
   "metadata": {},
   "outputs": [],
   "source": [
    "double recall(const size_t truePos, const size_t falseNeg)\n",
    "{\n",
    "    return (double)truePos / (double)(truePos + falseNeg);\n",
    "}"
   ]
  },
  {
   "cell_type": "code",
   "execution_count": 10,
   "id": "cbb76f93-fd3f-44ea-a81b-09cd53fc8c64",
   "metadata": {},
   "outputs": [],
   "source": [
    "double f1score(const size_t truePos, const size_t falsePos, const size_t falseNeg)\n",
    "{\n",
    "    double prec = precision(truePos, falsePos);\n",
    "    double rec = precision(truePos, falseNeg);\n",
    "    return 2 * (prec * rec) / (prec + rec);\n",
    "}"
   ]
  },
  {
   "cell_type": "code",
   "execution_count": 11,
   "id": "7aee5d70-3c61-4f64-89ef-449efa2a2822",
   "metadata": {},
   "outputs": [],
   "source": [
    "void classification_report(const arma::Row<size_t>& yPreds, const arma::Row<size_t>& yTrue)\n",
    "{\n",
    "    arma::Row<size_t> uniqs = arma::unique(yTrue);\n",
    "    std::cout << std::setw(29) << \"precision\" << std::setw(15) << \"recall\" \n",
    "              << std::setw(15) << \"f1-score\" << std::setw(15) << \"support\" \n",
    "              << std::endl << std::endl;\n",
    "    \n",
    "    for(auto val: uniqs)\n",
    "    {\n",
    "        size_t truePos = arma::accu(yTrue == val && yPreds == val && yPreds == yTrue);\n",
    "        size_t falsePos = arma::accu(yPreds == val && yPreds != yTrue);\n",
    "        size_t trueNeg = arma::accu(yTrue != val && yPreds != val && yPreds == yTrue);\n",
    "        size_t falseNeg = arma::accu(yPreds != val && yPreds != yTrue);\n",
    "        \n",
    "        std::cout << std::setw(15) << val\n",
    "                  << std::setw(12) << std::setprecision(2) << precision(truePos, falsePos) \n",
    "                  << std::setw(16) << std::setprecision(2) << recall(truePos, falseNeg) \n",
    "                  << std::setw(14) << std::setprecision(2) << f1score(truePos, falsePos, falseNeg)\n",
    "                  << std::setw(16) << truePos\n",
    "                  << std::endl;\n",
    "    }\n",
    "}"
   ]
  },
  {
   "cell_type": "code",
   "execution_count": 12,
   "id": "49acc160-0a32-4104-bc18-3205f444e99b",
   "metadata": {},
   "outputs": [],
   "source": [
    "!cat Admission_Predict.csv | sed 1d > Admission_Predict_trim.csv"
   ]
  },
  {
   "cell_type": "code",
   "execution_count": 13,
   "id": "14eecfdc-2201-4466-8211-d4a0e453ee50",
   "metadata": {},
   "outputs": [],
   "source": [
    "// Load the preprocessed dataset into armadillo matrix.\n",
    "arma::mat gradData;\n",
    "data::Load(\"Admission_Predict_trim.csv\", gradData);"
   ]
  },
  {
   "cell_type": "code",
   "execution_count": 14,
   "id": "21e165d0-ead0-4cf8-b89e-d9e3154dbd67",
   "metadata": {},
   "outputs": [
    {
     "name": "stdout",
     "output_type": "stream",
     "text": [
      "   3.3700e+02   1.1800e+02   4.0000e+00   4.5000e+00   4.5000e+00   9.6500e+00   1.0000e+00   9.2000e-01\n",
      "   3.2400e+02   1.0700e+02   4.0000e+00   4.0000e+00   4.5000e+00   8.8700e+00   1.0000e+00   7.6000e-01\n",
      "   3.1600e+02   1.0400e+02   3.0000e+00   3.0000e+00   3.5000e+00   8.0000e+00   1.0000e+00   7.2000e-01\n",
      "   3.2200e+02   1.1000e+02   3.0000e+00   3.5000e+00   2.5000e+00   8.6700e+00   1.0000e+00   8.0000e-01\n",
      "   3.1400e+02   1.0300e+02   2.0000e+00   2.0000e+00   3.0000e+00   8.2100e+00            0   6.5000e-01\n",
      "   3.3000e+02   1.1500e+02   5.0000e+00   4.5000e+00   3.0000e+00   9.3400e+00   1.0000e+00   9.0000e-01\n",
      "\n"
     ]
    }
   ],
   "source": [
    "std::cout << gradData.submat(0, 0, gradData.n_rows-1, 5).t() << std::endl;"
   ]
  },
  {
   "cell_type": "code",
   "execution_count": 15,
   "id": "2949d267-2d60-4781-8027-95202d439d45",
   "metadata": {},
   "outputs": [
    {
     "data": {
      "application/vnd.jupyter.widget-view+json": {
       "model_id": "3d0683399be0444db6cabfd421ab7b06",
       "version_major": 2,
       "version_minor": 0
      },
      "text/plain": [
       "A Jupyter widget with unique id: 3d0683399be0444db6cabfd421ab7b06"
      ]
     },
     "execution_count": 15,
     "metadata": {},
     "output_type": "execute_result"
    }
   ],
   "source": [
    "heatmap(\"Admission_Predict.csv\", \"coolwarm\", \"Correlation Heatmap\", 1, 10, 10);\n",
    "auto img = xw::image_from_file(\"Correlation Heatmap.png\").finalize();\n",
    "img"
   ]
  },
  {
   "cell_type": "code",
   "execution_count": 16,
   "id": "21fdac54-2d3b-4fdb-9144-bdbe3971a71a",
   "metadata": {},
   "outputs": [],
   "source": [
    "arma::Row<size_t> targets = arma::conv_to<arma::Row<size_t>>::from(gradData.row(7) > 0.8);\n",
    "gradData.shed_row(gradData.n_rows-1);"
   ]
  },
  {
   "cell_type": "code",
   "execution_count": 17,
   "id": "3057bfbe-6b71-4f11-a136-fe5ace760e88",
   "metadata": {},
   "outputs": [],
   "source": [
    "// Split the dataset into train and test sets using mlpack.\n",
    "arma::mat Xtrain, Xtest;\n",
    "arma::Row<size_t> Ytrain, Ytest;\n",
    "mlpack::data::Split(gradData, targets, Xtrain, Xtest, Ytrain, Ytest, 0.25);"
   ]
  },
  {
   "cell_type": "code",
   "execution_count": 22,
   "id": "f2c1efc4-0a90-45d0-aa81-f20d8cec02ef",
   "metadata": {},
   "outputs": [],
   "source": [
    "ID3DecisionStump ds(Xtrain, Ytrain, 2);"
   ]
  },
  {
   "cell_type": "code",
   "execution_count": 23,
   "id": "ec4fc24c-3e43-4bb3-a2bd-3b7d99f4c24e",
   "metadata": {},
   "outputs": [],
   "source": [
    "AdaBoost<ID3DecisionStump> ab(Xtrain, Ytrain, 2, ds, 50, 1e-10);"
   ]
  },
  {
   "cell_type": "code",
   "execution_count": 24,
   "id": "30b4d903-74c0-4244-90c1-679c0c3c682e",
   "metadata": {},
   "outputs": [],
   "source": [
    "arma::Row<size_t> output;\n",
    "arma::mat probs;\n",
    "ab.Classify(Xtest, output, probs);"
   ]
  },
  {
   "cell_type": "code",
   "execution_count": 25,
   "id": "3125f3ae-ebb8-4a74-bc9e-24300faa5808",
   "metadata": {},
   "outputs": [],
   "source": [
    "// Save the yTest and probabilities into csv for generating ROC AUC plot.\n",
    "data::Save(\"probabilities.csv\", probs);\n",
    "data::Save(\"ytest.csv\", Ytest);"
   ]
  },
  {
   "cell_type": "code",
   "execution_count": 26,
   "id": "257b29ee-aee3-48cf-9f65-44e8c61e7ce0",
   "metadata": {},
   "outputs": [
    {
     "name": "stdout",
     "output_type": "stream",
     "text": [
      "Accuracy: 0.936\n",
      "                    precision         recall       f1-score        support\n",
      "\n",
      "              0        0.93            0.99          0.96              96\n",
      "              1        0.95            0.75          0.84              21\n"
     ]
    }
   ],
   "source": [
    "// Model evaluation metrics.\n",
    "std::cout <<  \"Accuracy: \" << accuracy(output, Ytest) << std::endl;\n",
    "classification_report(output, Ytest);"
   ]
  },
  {
   "cell_type": "code",
   "execution_count": 27,
   "id": "18d91607-47e1-4b23-a18c-08d449401d31",
   "metadata": {},
   "outputs": [
    {
     "data": {
      "application/vnd.jupyter.widget-view+json": {
       "model_id": "d47fca14de4e45cfb231f98ae8955503",
       "version_major": 2,
       "version_minor": 0
      },
      "text/plain": [
       "A Jupyter widget with unique id: d47fca14de4e45cfb231f98ae8955503"
      ]
     },
     "execution_count": 27,
     "metadata": {},
     "output_type": "execute_result"
    }
   ],
   "source": [
    "plotRocAUC(\"ytest.csv\", \"probabilities.csv\", \"roc_auc\");\n",
    "auto img = xw::image_from_file(\"roc_auc.png\").finalize();\n",
    "img"
   ]
  }
 ],
 "metadata": {
  "kernelspec": {
   "display_name": "C++14",
   "language": "C++14",
   "name": "xcpp14"
  },
  "language_info": {
   "codemirror_mode": "text/x-c++src",
   "file_extension": ".cpp",
   "mimetype": "text/x-c++src",
   "name": "c++",
   "version": "14"
  }
 },
 "nbformat": 4,
 "nbformat_minor": 5
}
