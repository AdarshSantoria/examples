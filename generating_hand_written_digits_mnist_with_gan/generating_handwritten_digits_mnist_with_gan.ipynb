{
 "cells": [
  {
   "cell_type": "code",
   "execution_count": 40,
   "id": "fc5b593b",
   "metadata": {},
   "outputs": [],
   "source": [
    "#include<mlpack/xeus-cling.hpp>\n",
    "#include<mlpack/core.hpp>\n",
    "#include<mlpack/core/data/split_data.hpp>\n",
    "#include<mlpack/methods/ann/layer/layer.hpp>\n",
    "#include<mlpack/methods/ann/ffn.hpp>\n",
    "#include<bits/stdc++.h>"
   ]
  },
  {
   "cell_type": "code",
   "execution_count": 41,
   "id": "17fe0d45",
   "metadata": {},
   "outputs": [],
   "source": [
    "#include<ensmallen.hpp>"
   ]
  },
  {
   "cell_type": "code",
   "execution_count": 42,
   "id": "9123d7b0",
   "metadata": {},
   "outputs": [],
   "source": [
    "using namespace mlpack;\n",
    "using namespace mlpack::ann;\n",
    "using namespace arma;\n",
    "using namespace std;\n",
    "using namespace ens;"
   ]
  },
  {
   "cell_type": "code",
   "execution_count": 43,
   "id": "658a16a8",
   "metadata": {},
   "outputs": [],
   "source": [
    "arma::Row<size_t> getLabels(arma::mat predOut){\n",
    "    arma::Row<size_t> predLabels(predOut.n_cols);\n",
    "    for( arma::uword i = 0; i < predOut.n_cols; ++i){\n",
    "        predLabels(i) = predOut.col(i).index_max();\n",
    "    }\n",
    "    return predLabels;\n",
    "}"
   ]
  },
  {
   "cell_type": "code",
   "execution_count": 44,
   "id": "aac77d56",
   "metadata": {},
   "outputs": [],
   "source": [
    "constexpr double RATIO = 0.1;\n",
    "constexpr int MAX_ITERATIONS = 0;\n",
    "constexpr double STEP_SIZE = 1.2e-3;\n",
    "constexpr int BATCH_SIZE = 50;"
   ]
  },
  {
   "cell_type": "code",
   "execution_count": 45,
   "id": "ac9cead0",
   "metadata": {},
   "outputs": [],
   "source": [
    "arma::mat dataset;"
   ]
  },
  {
   "cell_type": "code",
   "execution_count": 46,
   "id": "a69e8c5f",
   "metadata": {},
   "outputs": [],
   "source": [
    "data::Load(\"/home/viole/swaingotnochill/examples/generating_hand_written_digits_mnist_with_gan/digit-recognizer/train.csv\", dataset, true);"
   ]
  },
  {
   "cell_type": "code",
   "execution_count": 47,
   "id": "77c9f143",
   "metadata": {},
   "outputs": [],
   "source": [
    "arma::mat train, valid;"
   ]
  },
  {
   "cell_type": "code",
   "execution_count": 48,
   "id": "77410e7c",
   "metadata": {},
   "outputs": [],
   "source": [
    "data::Split(dataset, train, valid, RATIO);"
   ]
  },
  {
   "cell_type": "code",
   "execution_count": 49,
   "id": "9c703e6a",
   "metadata": {},
   "outputs": [],
   "source": [
    "const arma::mat trainX = train.submat(1, 0, train.n_rows - 1, train.n_cols - 1);\n",
    "const arma::mat validX = valid.submat(1, 0, valid.n_rows - 1, valid.n_cols - 1);"
   ]
  },
  {
   "cell_type": "code",
   "execution_count": 50,
   "id": "73b03f06",
   "metadata": {},
   "outputs": [],
   "source": [
    "const arma::mat trainY = train.row(0);\n",
    "const arma::mat validY = valid.row(0);"
   ]
  },
  {
   "cell_type": "code",
   "execution_count": 51,
   "id": "349ab6bb",
   "metadata": {},
   "outputs": [],
   "source": [
    "using namespace mlpack::ann;\n",
    "FFN<NegativeLogLikelihood<>, RandomInitialization> model;"
   ]
  },
  {
   "cell_type": "code",
   "execution_count": 58,
   "id": "28399929",
   "metadata": {},
   "outputs": [
    {
     "name": "stderr",
     "output_type": "stream",
     "text": [
      "\u001b[1minput_line_65:2:16: \u001b[0m\u001b[0;1;31merror: \u001b[0m\u001b[1mno matching constructor for initialization of 'mlpack::ann::Convolution<>'\u001b[0m\n",
      " model.Add(new mlpack::ann::Convolution<>(1,6,5,5,1,1,0,0,28,28));\n",
      "\u001b[0;1;32m               ^                          ~~~~~~~~~~~~~~~~~~~~~\n",
      "\u001b[0m\u001b[1m/home/viole/anaconda3/envs/notebook/include/mlpack/methods/ann/layer/layer_types.hpp:172:7: \u001b[0m\u001b[0;1;30mnote: \u001b[0mcandidate constructor (the implicit copy constructor) not viable: requires\n",
      "      1 argument, but 10 were provided\u001b[0m\n",
      "class Convolution;\n",
      "\u001b[0;1;32m      ^\n",
      "\u001b[0m\u001b[1m/home/viole/anaconda3/envs/notebook/include/mlpack/methods/ann/layer/layer_types.hpp:172:7: \u001b[0m\u001b[0;1;30mnote: \u001b[0mcandidate constructor (the implicit move constructor) not viable: requires\n",
      "      1 argument, but 10 were provided\u001b[0m\n"
     ]
    },
    {
     "ename": "Interpreter Error",
     "evalue": "",
     "output_type": "error",
     "traceback": [
      "Interpreter Error: "
     ]
    }
   ],
   "source": [
    "model.Add(new mlpack::ann::Convolution<>(1,6,5,5,1,1,0,0,28,28));\n",
    "                        "
   ]
  },
  {
   "cell_type": "code",
   "execution_count": null,
   "id": "58614fcf",
   "metadata": {},
   "outputs": [],
   "source": []
  }
 ],
 "metadata": {
  "kernelspec": {
   "display_name": "C++14",
   "language": "C++14",
   "name": "xcpp14"
  },
  "language_info": {
   "codemirror_mode": "text/x-c++src",
   "file_extension": ".cpp",
   "mimetype": "text/x-c++src",
   "name": "c++",
   "version": "14"
  }
 },
 "nbformat": 4,
 "nbformat_minor": 5
}
