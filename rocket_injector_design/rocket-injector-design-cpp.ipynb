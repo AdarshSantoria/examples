{
 "cells": [
  {
   "cell_type": "code",
   "execution_count": 1,
   "source": [
    "/**\n",
    " * @file rocket-injector-design-cpp.ipynb\n",
    " * \n",
    " * This notebook demonstrates a practical application of Multi-Objective Optimizers. The design of the injector surface is\n",
    " * modified to study its effect on the thrust chamber environment and performance. The optimizer simultaneously balances these   \n",
    " * objectives to returns a set of Pareto optimal solutions.\n",
    " *\n",
    " * Also known as RE3-4-7, this problem has been taken from \"An Easy-to-use Real-world Multi-objective\n",
    " * Optimization Problem Suite\" paper. For more information, visit: https://github.com/ryojitanabe/reproblems.\n",
    " */"
   ],
   "outputs": [],
   "metadata": {}
  },
  {
   "cell_type": "code",
   "execution_count": 2,
   "source": [
    "#include <mlpack/xeus-cling.hpp>\n",
    "\n",
    "#include <ensmallen.hpp>"
   ],
   "outputs": [],
   "metadata": {}
  },
  {
   "cell_type": "code",
   "execution_count": 3,
   "source": [
    "// Header files to create and show the plot.\n",
    "#define WITHOUT_NUMPY 1\n",
    "#include \"matplotlibcpp.h\"\n",
    "#include \"xwidgets/ximage.hpp\"\n",
    "\n",
    "namespace plt = matplotlibcpp;"
   ],
   "outputs": [],
   "metadata": {}
  },
  {
   "cell_type": "code",
   "execution_count": 4,
   "source": [
    "using namespace ens;"
   ],
   "outputs": [],
   "metadata": {}
  },
  {
   "cell_type": "code",
   "execution_count": 5,
   "source": [
    "using namespace ens::test;"
   ],
   "outputs": [],
   "metadata": {}
  },
  {
   "cell_type": "code",
   "execution_count": 6,
   "source": [
    "!wget --no-check-certificate 'https://docs.google.com/uc?export=download&id=1_8a8kF9kJgIaAPYzIyqAf4t0ZSG5xftt' -O design.jpg"
   ],
   "outputs": [
    {
     "output_type": "stream",
     "name": "stdout",
     "text": [
      "--2021-07-11 09:04:20--  https://docs.google.com/uc?export=download&id=1_8a8kF9kJgIaAPYzIyqAf4t0ZSG5xftt\n",
      "Resolving docs.google.com (docs.google.com)... 172.217.21.142, 2a00:1450:400f:809::200e\n",
      "Connecting to docs.google.com (docs.google.com)|172.217.21.142|:443... connected.\n",
      "HTTP request sent, awaiting response... 302 Moved Temporarily\n",
      "Location: https://doc-0s-10-docs.googleusercontent.com/docs/securesc/ha0ro937gcuc7l7deffksulhg5h7mbp1/dlum42o9rgr9caia43mk7m0djtpfhdf1/1625994225000/14561647146758490759/*/1_8a8kF9kJgIaAPYzIyqAf4t0ZSG5xftt?e=download [following]\n",
      "Warning: wildcards not supported in HTTP.\n",
      "--2021-07-11 09:04:21--  https://doc-0s-10-docs.googleusercontent.com/docs/securesc/ha0ro937gcuc7l7deffksulhg5h7mbp1/dlum42o9rgr9caia43mk7m0djtpfhdf1/1625994225000/14561647146758490759/*/1_8a8kF9kJgIaAPYzIyqAf4t0ZSG5xftt?e=download\n",
      "Resolving doc-0s-10-docs.googleusercontent.com (doc-0s-10-docs.googleusercontent.com)... 216.58.207.193, 2a00:1450:400f:80b::2001\n",
      "Connecting to doc-0s-10-docs.googleusercontent.com (doc-0s-10-docs.googleusercontent.com)|216.58.207.193|:443... connected.\n",
      "HTTP request sent, awaiting response... 200 OK\n",
      "Length: 24487 (24K) [image/jpeg]\n",
      "Saving to: ‘design.jpg’\n",
      "\n",
      "     0K .......... .......... ...                             100% 3.26M=0.007s\n",
      "\n",
      "2021-07-11 09:04:21 (3.26 MB/s) - ‘design.jpg’ saved [24487/24487]\n",
      "\n"
     ]
    }
   ],
   "metadata": {}
  },
  {
   "cell_type": "code",
   "execution_count": 7,
   "source": [
    "!wget --no-check-certificate 'https://docs.google.com/uc?export=download&id=1QZPed9835iIcyfA4SdrIgtKLDHrc3XB1' -O objectives.jpg"
   ],
   "outputs": [
    {
     "output_type": "stream",
     "name": "stdout",
     "text": [
      "--2021-07-11 09:04:22--  https://docs.google.com/uc?export=download&id=1QZPed9835iIcyfA4SdrIgtKLDHrc3XB1\n",
      "Resolving docs.google.com (docs.google.com)... 172.217.21.142, 2a00:1450:400f:809::200e\n",
      "Connecting to docs.google.com (docs.google.com)|172.217.21.142|:443... connected.\n",
      "HTTP request sent, awaiting response... 302 Moved Temporarily\n",
      "Location: https://doc-00-10-docs.googleusercontent.com/docs/securesc/ha0ro937gcuc7l7deffksulhg5h7mbp1/cpme9ka8vggr0egn6bcq2j7b7m4dlbuh/1625994225000/14561647146758490759/*/1QZPed9835iIcyfA4SdrIgtKLDHrc3XB1?e=download [following]\n",
      "Warning: wildcards not supported in HTTP.\n",
      "--2021-07-11 09:04:22--  https://doc-00-10-docs.googleusercontent.com/docs/securesc/ha0ro937gcuc7l7deffksulhg5h7mbp1/cpme9ka8vggr0egn6bcq2j7b7m4dlbuh/1625994225000/14561647146758490759/*/1QZPed9835iIcyfA4SdrIgtKLDHrc3XB1?e=download\n",
      "Resolving doc-00-10-docs.googleusercontent.com (doc-00-10-docs.googleusercontent.com)... 216.58.207.193, 2a00:1450:400f:80b::2001\n",
      "Connecting to doc-00-10-docs.googleusercontent.com (doc-00-10-docs.googleusercontent.com)|216.58.207.193|:443... connected.\n",
      "HTTP request sent, awaiting response... 200 OK\n",
      "Length: 35316 (34K) [image/jpeg]\n",
      "Saving to: ‘objectives.jpg’\n",
      "\n",
      "     0K .......... .......... .......... ....                 100% 3.07M=0.01s\n",
      "\n",
      "2021-07-11 09:04:23 (3.07 MB/s) - ‘objectives.jpg’ saved [35316/35316]\n",
      "\n"
     ]
    }
   ],
   "metadata": {}
  },
  {
   "cell_type": "markdown",
   "source": [
    "### 1. Background\n",
    "\n",
    "This problem aligns with NASA's larger goal of the **Next Generation Launch Technology (NGLT)** Program aimed at durable and high-performance launch systems. In a simplistic setting, a rocket system generally consists of two liquid propellants, an oxidiser ($O_2$) and fuel ($H_2$). These propellants are mixed with the help of an injector machine. The injector machine is connected directly to the combuston chamber where the reaction occur. \n",
    "\n",
    "\n",
    "The mixing of $H_2$ and $O_2$ is inherently an [exothermic](https://en.wikipedia.org/wiki/Exothermic_process) phenomenon; it lets out heat. This reaction is the principle behind the take-off of rockets.\n",
    "\n",
    "$$ 2H_2 + O_2\\  -> 2H_2 O + 241.8 kJ$$\n",
    "\n",
    "Propellants mix"
   ],
   "metadata": {}
  },
  {
   "cell_type": "markdown",
   "source": [
    "### 2. Framing the problem.\n",
    "\n",
    "\n",
    "#### I. Design Variables\n",
    "The design of the injector is directly related to these objectives. By controlling the design variables of the injector, we \n",
    "\n",
    "The variables concerning the design of the injector are:\n",
    "\n",
    "a) Hydrogen Flow Angle ($\\alpha$) : The acute angle formed between the fuel and oxidiser.\n",
    "\n",
    "b) Hydrogen Area ($H.A$):  The area of the tube\n",
    "\n",
    "c) Oxygen Area ($O.A$):\n",
    "\n",
    "d) Oxygen Post-Tip-Thickness ($O.P.T.T$): "
   ],
   "metadata": {}
  },
  {
   "cell_type": "markdown",
   "source": [
    "![](design.jpg)"
   ],
   "metadata": {},
   "attachments": {}
  },
  {
   "cell_type": "markdown",
   "source": [
    "#### II. Objective Functions\n",
    "\n",
    "a) Maximum Temperature At Injector Face:\n",
    "\n",
    "b) Distance From Inlet:\n",
    "\n",
    "c) "
   ],
   "metadata": {}
  },
  {
   "cell_type": "markdown",
   "source": [
    "![](objectives.jpg)"
   ],
   "metadata": {}
  },
  {
   "cell_type": "code",
   "execution_count": 6,
   "source": [
    "class InjectorDesignProblem\n",
    "{\n",
    "  public:\n",
    "    InjectorDesignProblem()\n",
    "    { /* Nothing to do here. */ }\n",
    "    \n",
    "    //! Get the starting point.\n",
    "    arma::mat GetInitialPoint()\n",
    "    {\n",
    "      return arma::mat(numVariables, 1, arma::fill::zeros);\n",
    "    }\n",
    "    \n",
    "    //! The maximum temperature at the injector face.\n",
    "    struct InjectorFaceHeatCap\n",
    "    {\n",
    "        InjectorFaceHeatCap() {}\n",
    "\n",
    "        double Evaluate(const arma::mat& coords)\n",
    "        {\n",
    "            DesignVariables x(coords);\n",
    "            return 0.692 + (0.477 * x.Alpha) - (0.687 * x.HA) - (0.080 * x.OA) - (0.0650 * x.OPTT) - (0.167 * x.Alpha * x.Alpha)\n",
    "                - (0.0129 * x.HA * x.Alpha) + (0.0796 * x.HA * x.HA) - (0.0634 * x.OA * x.Alpha) - (0.0257 * x.OA * x.HA)\n",
    "                + (0.0877 * x.OA * x.OA) - (0.0521 * x.OPTT * x.Alpha) + (0.00156 * x.OPTT * x.HA) + (0.00198 * x.OPTT * x.OA)\n",
    "                + (0.0184 * x.OPTT * x.OPTT);\n",
    "        }    \n",
    "    };\n",
    "    \n",
    "    //! Distance from inlet where 90% combustion is complete.\n",
    "    struct DistanceFromInlet\n",
    "    {\n",
    "        DistanceFromInlet() {}\n",
    "        \n",
    "        double Evaluate(const arma::mat& coords)\n",
    "        {\n",
    "            DesignVariables x(coords);\n",
    "            return 0.153 - (0.322 * x.Alpha) + (0.396 * x.HA) + (0.424 * x.OA) + (0.0226 * x.OPTT)\n",
    "                + (0.175 * x.Alpha * x.Alpha) + (0.0185 * x.HA * x.Alpha) - (0.0701 * x.HA * x.HA) - (0.251 * x.OA * x.Alpha)\n",
    "                + (0.179 * x.OA * x.HA) + (0.0150 * x.OA * x.OA) + (0.0134 * x.OPTT * x.Alpha) + (0.0296 * x.OPTT * x.HA)\n",
    "                + (0.0752 * x.OPTT * x.OA) + (0.0192 * x.OPTT * x.OPTT);\n",
    "        }\n",
    "    };\n",
    "    \n",
    "    //! The maximum temperature at the post tip.\n",
    "    struct PostTipHeatCap\n",
    "    {\n",
    "        PostTipHeatCap() {}\n",
    "        \n",
    "        double Evaluate(const arma::mat& coords)\n",
    "        {\n",
    "            DesignVariables x(coords);\n",
    "            return 0.370 - (0.205 * x.Alpha) + (0.0307 * x.HA) + (0.108 * x.OA) + (1.019 * x.OPTT)\n",
    "                - (0.135 * x.Alpha * x.Alpha) + (0.0141 * x.HA * x.Alpha) + (0.0998 * x.HA * x.HA) + (0.208 * x.OA * x.Alpha)\n",
    "                - (0.0301 * x.OA * x.HA) - (0.226 * x.OA * x.OA) + (0.353 * x.OPTT * x.Alpha) - (0.0497 * x.OPTT * x.OA)\n",
    "                - (0.423 * x.OPTT * x.OPTT) + (0.202 * x.HA * x.Alpha * x.Alpha) - (0.281 * x.OA * x.Alpha * x.Alpha)\n",
    "                - (0.342 * x.HA * x.HA * x.Alpha) - (0.245 * x.HA * x.HA * x.OA) + (0.281 * x.OA * x.OA * x.HA)\n",
    "                - (0.184 * x.OPTT * x.OPTT * x.Alpha) - (0.281 * x.HA * x.Alpha * x.OA);\n",
    "        }\n",
    "\n",
    "    };\n",
    "\n",
    "    //! Get objective functions.\n",
    "    std::tuple<InjectorFaceHeatCap, DistanceFromInlet, PostTipHeatCap> GetObjectives()\n",
    "    {\n",
    "      return std::make_tuple(InjectorFaceHeatCap{}, DistanceFromInlet{}, PostTipHeatCap{});\n",
    "    }\n",
    "                        \n",
    "  private:\n",
    "    //! A wrapper for the design variables. Used for better\n",
    "    //! readibility.\n",
    "    struct DesignVariables\n",
    "    {\n",
    "        DesignVariables(const arma::mat& coords)\n",
    "        {\n",
    "            Alpha = coords[0];\n",
    "            HA = coords[1];\n",
    "            OA = coords[2];\n",
    "            OPTT = coords[3];\n",
    "        }\n",
    "        \n",
    "        //! Hydrogen flow angle.\n",
    "        double Alpha;\n",
    "        //! Hydrogen area.\n",
    "        double HA;\n",
    "        //! Oxygen area.\n",
    "        double OA;\n",
    "        //! Oxidiser Post Tip Thickness.\n",
    "        double OPTT;\n",
    "    };\n",
    "    \n",
    "    size_t numVariables = 4;\n",
    "    size_t numObjectives = 2;\n",
    "};\n",
    "\n",
    "InjectorDesignProblem idp;\n",
    "auto objectives = idp.GetObjectives();"
   ],
   "outputs": [],
   "metadata": {}
  },
  {
   "cell_type": "code",
   "execution_count": 7,
   "source": [
    "const double lowerBound = 0;\n",
    "const double upperBound = 1;\n",
    "\n",
    "DefaultMOEAD moead(300, // Population size.\n",
    "                   150,  // Max generations.\n",
    "                   1.0,  // Crossover probability.\n",
    "                   0.9, // Probability of sampling from neighbor.\n",
    "                   20, // Neighborhood size.\n",
    "                   20, // Perturbation index.\n",
    "                   0.5, // Differential weight.\n",
    "                   2, // Max childrens to replace parents.\n",
    "                   1E-10, // epsilon.\n",
    "                   lowerBound, // Lower bound.\n",
    "                   upperBound // Upper bound.\n",
    "                 );\n",
    "\n",
    "arma::mat coords = idp.GetInitialPoint();"
   ],
   "outputs": [],
   "metadata": {}
  },
  {
   "cell_type": "code",
   "execution_count": 8,
   "source": [
    "moead.Optimize(objectives, coords);"
   ],
   "outputs": [],
   "metadata": {}
  },
  {
   "cell_type": "code",
   "execution_count": 9,
   "source": [
    "const arma::cube& paretoFront = moead.ParetoFront();"
   ],
   "outputs": [],
   "metadata": {}
  },
  {
   "cell_type": "code",
   "execution_count": null,
   "source": [],
   "outputs": [],
   "metadata": {}
  }
 ],
 "metadata": {
  "kernelspec": {
   "display_name": "C++14",
   "language": "C++14",
   "name": "xcpp14"
  },
  "language_info": {
   "codemirror_mode": "text/x-c++src",
   "file_extension": ".cpp",
   "mimetype": "text/x-c++src",
   "name": "c++",
   "version": "14"
  }
 },
 "nbformat": 4,
 "nbformat_minor": 5
}