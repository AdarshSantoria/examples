{
 "cells": [
  {
   "cell_type": "markdown",
   "metadata": {},
   "source": [
    "/**\n",
    " * @file rocket-injector-design-cpp.ipynb\n",
    " * \n",
    " * This notebook demonstrates a practical application of Multi-Objective Optimizers. The design of the injector surface is\n",
    " * modified to study its effect on thermal stability and combustion efficiency. The optimizer simultaneously balances these   \n",
    " * objectives to returns a set of optimal solutions.\n",
    " *\n",
    " * Also known as RE3-4-7 this problem has been taken from \"An Easy-to-use Real-world Multi-objective\n",
    " * Optimization Problem Suite\" paper. For more info, visit: https://github.com/ryojitanabe/reproblems.\n",
    " */"
   ]
  },
  {
   "cell_type": "code",
   "execution_count": 1,
   "metadata": {},
   "outputs": [],
   "source": [
    "#include <mlpack/xeus-cling.hpp>\n",
    "\n",
    "#include <ensmallen.hpp>\n",
    "#include \"../utils/portfolio.hpp\""
   ]
  },
  {
   "cell_type": "code",
   "execution_count": 2,
   "metadata": {},
   "outputs": [],
   "source": [
    "// Header files to create and show the plot.\n",
    "#define WITHOUT_NUMPY 1\n",
    "#include \"matplotlibcpp.h\"\n",
    "#include \"xwidgets/ximage.hpp\"\n",
    "\n",
    "namespace plt = matplotlibcpp;"
   ]
  },
  {
   "cell_type": "code",
   "execution_count": 3,
   "metadata": {},
   "outputs": [],
   "source": [
    "using namespace ens;"
   ]
  },
  {
   "cell_type": "code",
   "execution_count": 4,
   "metadata": {},
   "outputs": [],
   "source": [
    "using namespace ens::test;"
   ]
  },
  {
   "cell_type": "markdown",
   "metadata": {},
   "source": [
    "### 1. Setup the problem.\n",
    "\n",
    "This problem aligns with NASA's larger goal of the Next Generation Launch Technology (NGLT) Program aimed at durable and high-performance launch systems. We desire high combustion efficiency while maintaining thermal conditions along the chamber walls.\n",
    "\n",
    "The design of the injector is directly related to these objectives. By controlling the design variables of the injector, we \n",
    "\n",
    "The variables concerning the design of the injector are:\n",
    "\n",
    "a) Hydrogen Flow Angle: The acute angle formed between the fuel and oxidiser.\n",
    "b) Hydrogen Area:  The area of the tube   "
   ]
  },
  {
   "cell_type": "code",
   "execution_count": 5,
   "metadata": {},
   "outputs": [],
   "source": [
    "class InjectorDesignProblem\n",
    "{\n",
    "  public:\n",
    "    InjectorDesignProblem()\n",
    "    { /* Nothing to do here. */ }\n",
    "    \n",
    "    //! Get the starting point.\n",
    "    arma::mat GetInitialPoint()\n",
    "    {\n",
    "      return arma::mat(numVariables, 1, arma::fill::zeros);\n",
    "    }\n",
    "    \n",
    "    //! The maximum temperature at the injector face.\n",
    "    struct InjectorFaceHeatCap\n",
    "    {\n",
    "        InjectorFaceHeatCap() {}\n",
    "\n",
    "        double Evaluate(const arma::mat& coords)\n",
    "        {\n",
    "            DesignVariables x(coords);\n",
    "            return 0.692 + (0.477 * x.Alpha) - (0.687 * x.HA) - (0.080 * x.OA) - (0.0650 * x.OPTT) - (0.167 * x.Alpha * x.Alpha)\n",
    "                - (0.0129 * x.HA * x.Alpha) + (0.0796 * x.HA * x.HA) - (0.0634 * x.OA * x.Alpha) - (0.0257 * x.OA * x.HA)\n",
    "                + (0.0877 * x.OA * x.OA) - (0.0521 * x.OPTT * x.Alpha) + (0.00156 * x.OPTT * x.HA) + (0.00198 * x.OPTT * x.OA)\n",
    "                + (0.0184 * x.OPTT * x.OPTT);\n",
    "        }    \n",
    "    };\n",
    "    \n",
    "    //! Distance from inlet where 90% combustion is complete.\n",
    "    struct DistanceFromInlet\n",
    "    {\n",
    "        DistanceFromInlet() {}\n",
    "        \n",
    "        double Evaluate(const arma::mat& coords)\n",
    "        {\n",
    "            DesignVariables x(coords);\n",
    "            return 0.153 - (0.322 * x.Alpha) + (0.396 * x.HA) + (0.424 * x.OA) + (0.0226 * x.OPTT)\n",
    "                + (0.175 * x.Alpha * x.Alpha) + (0.0185 * x.HA * x.Alpha) - (0.0701 * x.HA * x.HA) - (0.251 * x.OA * x.Alpha)\n",
    "                + (0.179 * x.OA * x.HA) + (0.0150 * x.OA * x.OA) + (0.0134 * x.OPTT * x.Alpha) + (0.0296 * x.OPTT * x.HA)\n",
    "                + (0.0752 * x.OPTT * x.OA) + (0.0192 * x.OPTT * x.OPTT);\n",
    "        }\n",
    "    };\n",
    "    \n",
    "    //! The maximum temperature at the post tip.\n",
    "    struct PostTipHeatCap\n",
    "    {\n",
    "        PostTipHeatCap() {}\n",
    "        \n",
    "        double Evaluate(const arma::mat& coords)\n",
    "        {\n",
    "            DesignVariables x(coords);\n",
    "            return 0.370 - (0.205 * x.Alpha) + (0.0307 * x.HA) + (0.108 * x.OA) + (1.019 * x.OPTT)\n",
    "                - (0.135 * x.Alpha * x.Alpha) + (0.0141 * x.HA * x.Alpha) + (0.0998 * x.HA * x.HA) + (0.208 * x.OA * x.Alpha)\n",
    "                - (0.0301 * x.OA * x.HA) - (0.226 * x.OA * x.OA) + (0.353 * x.OPTT * x.Alpha) - (0.0497 * x.OPTT * x.OA)\n",
    "                - (0.423 * x.OPTT * x.OPTT) + (0.202 * x.HA * x.Alpha * x.Alpha) - (0.281 * x.OA * x.Alpha * x.Alpha)\n",
    "                - (0.342 * x.HA * x.HA * x.Alpha) - (0.245 * x.HA * x.HA * x.OA) + (0.281 * x.OA * x.OA * x.HA)\n",
    "                - (0.184 * x.OPTT * x.OPTT * x.Alpha) - (0.281 * x.HA * x.Alpha * x.OA);\n",
    "        }\n",
    "\n",
    "    };\n",
    "\n",
    "    //! Get objective functions.\n",
    "    std::tuple<InjectorFaceHeatCap, DistanceFromInlet, PostTipHeatCap> GetObjectives()\n",
    "    {\n",
    "      return std::make_tuple(InjectorFaceHeatCap{}, DistanceFromInlet{}, PostTipHeatCap{});\n",
    "    }\n",
    "                        \n",
    "  private:\n",
    "    //! A wrapper for the design variables. Used for better\n",
    "    //! readibility.\n",
    "    struct DesignVariables\n",
    "    {\n",
    "        DesignVariables(const arma::mat& coords)\n",
    "        {\n",
    "            Alpha = coords[0];\n",
    "            HA = coords[1];\n",
    "            OA = coords[2];\n",
    "            OPTT = coords[3];\n",
    "        }\n",
    "        \n",
    "        //! Hydrogen flow angle.\n",
    "        double Alpha;\n",
    "        //! Hydrogen area.\n",
    "        double HA;\n",
    "        //! Oxygen area.\n",
    "        double OA;\n",
    "        //! Oxidiser Post Tip Thickness.\n",
    "        double OPTT;\n",
    "    };\n",
    "    \n",
    "    size_t numVariables = 4;\n",
    "    size_t numObjectives = 2;\n",
    "};\n",
    "\n",
    "InjectorDesignProblem idp;\n",
    "auto objectives = idp.GetObjectives();"
   ]
  },
  {
   "cell_type": "code",
   "execution_count": 6,
   "metadata": {},
   "outputs": [],
   "source": [
    "const double lowerBound = 0;\n",
    "const double upperBound = 1;\n",
    "\n",
    "DefaultMOEAD moead(300, // Population size.\n",
    "                   150,  // Max generations.\n",
    "                   1.0,  // Crossover probability.\n",
    "                   0.9, // Probability of sampling from neighbor.\n",
    "                   20, // Neighborhood size.\n",
    "                   20, // Perturbation index.\n",
    "                   0.5, // Differential weight.\n",
    "                   2, // Max childrens to replace parents.\n",
    "                   1E-10, // epsilon.\n",
    "                   lowerBound, // Lower bound.\n",
    "                   upperBound // Upper bound.\n",
    "                 );\n",
    "\n",
    "arma::mat coords = idp.GetInitialPoint();"
   ]
  },
  {
   "cell_type": "code",
   "execution_count": 7,
   "metadata": {},
   "outputs": [],
   "source": [
    "moead.Optimize(objectives, coords);"
   ]
  },
  {
   "cell_type": "code",
   "execution_count": 8,
   "metadata": {},
   "outputs": [],
   "source": [
    "const arma::cube& paretoFront = moead.ParetoFront();"
   ]
  }
 ],
 "metadata": {
  "kernelspec": {
   "display_name": "C++14",
   "language": "C++14",
   "name": "xcpp14"
  },
  "language_info": {
   "codemirror_mode": "text/x-c++src",
   "file_extension": ".cpp",
   "mimetype": "text/x-c++src",
   "name": "c++",
   "version": "14"
  }
 },
 "nbformat": 4,
 "nbformat_minor": 5
}