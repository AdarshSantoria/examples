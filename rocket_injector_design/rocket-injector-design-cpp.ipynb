{
 "cells": [
  {
   "cell_type": "code",
   "execution_count": 1,
   "metadata": {},
   "outputs": [],
   "source": [
    "/**\n",
    " * @file rocket-injector-design-cpp.ipynb\n",
    " * \n",
    " * This notebook demonstrates a practical application of Multi-Objective Optimizers. The design of the injector surface is\n",
    " * modified to study its effect on the thrust chamber environment and performance. The optimizer simultaneously balances these   \n",
    " * objectives to returns a set of Pareto optimal solutions.\n",
    " *\n",
    " * Also known as RE3-4-7, this problem has been taken from \"An Easy-to-use Real-world Multi-objective\n",
    " * Optimization Problem Suite\" paper. For more information, visit: https://github.com/ryojitanabe/reproblems.\n",
    " */"
   ]
  },
  {
   "cell_type": "code",
   "execution_count": 2,
   "metadata": {},
   "outputs": [],
   "source": [
    "#include <mlpack/xeus-cling.hpp>\n",
    "\n",
    "#include <ensmallen.hpp>"
   ]
  },
  {
   "cell_type": "code",
   "execution_count": 3,
   "metadata": {},
   "outputs": [],
   "source": [
    "// Header files to create and show the plot.\n",
    "#define WITHOUT_NUMPY 1\n",
    "#include \"matplotlibcpp.h\"\n",
    "#include \"xwidgets/ximage.hpp\"\n",
    "\n",
    "namespace plt = matplotlibcpp;"
   ]
  },
  {
   "cell_type": "code",
   "execution_count": 4,
   "metadata": {},
   "outputs": [],
   "source": [
    "using namespace ens;"
   ]
  },
  {
   "cell_type": "code",
   "execution_count": 5,
   "metadata": {},
   "outputs": [],
   "source": [
    "using namespace ens::test;"
   ]
  },
  {
   "cell_type": "markdown",
   "metadata": {},
   "source": [
    "### 1. Background\n",
    "\n",
    "It was the June of 1962, the company Rocketdyne was tasked with the heavy responsibility of sending a man to the moon as per Kennedy's bold promise. NASA, along with Rocketdyne, developed an F-1 engine capable of burning fuel of Olympic size swimming pool. On the D-day, when the engines ignited and the rocket was ready to take off, the engines exploded and the failure was catastrophic.\n",
    "\n",
    "**So, what went wrong?**\n",
    "\n",
    "Let's discuss the basics first.\n",
    "\n",
    "A rocket system consists of two liquid propellants, namely the fuel ($H_2$) and oxidiser ($O_2$). These propellants are stored in separate tanks, and pumped into the combustion chamber. The chamber houses the exothermic reaction between the propellants to release energy vital for the take-off process. For the reaction to occur readily, an injector mechanism is installed, which disperses these liquid propellants into tiny droplets and allow the mixing of the chemicals.\n",
    "\n",
    "![](media/combustion.gif)"
   ]
  },
  {
   "cell_type": "markdown",
   "metadata": {},
   "source": [
    " **The Achilles heel**\n",
    " \n",
    "A good injector design makes all the difference between your system performing excellently and it exploding. Unfortunately, the latter was the case for the ambitious project. \n",
    "\n",
    "Why so? The devil's in the details. The combustion process creates extreme temperature and pressure conditions inside the thrust chamber. Under such circumstances, the chamber is a very sensible high-pressure cooking pot. Thus, if the influx is off ever so slightly the flames would sway controllably burning down the entire system. \n",
    "\n",
    " ![](media/unstable.gif)"
   ]
  },
  {
   "cell_type": "markdown",
   "metadata": {},
   "source": [
    "### 2. Framing the problem.\n",
    "\n",
    "With the motivation established, let's begin by framing the problem. As discussed, the cornerstone of an ideal rocket system is its injector design. One can infer that the performance and quality of life of the system stand in stark contrast. Both of these are primarily controlled by injector design. This is where multi-objective optimizers kick in. In this notebook, we will try and find the optimal set of design variables to generate a set of [Pareto Optimal](https://www.investopedia.com/terms/p/pareto-efficiency.asp) solutions.\n",
    "\n",
    "To study the effect of the design variables on the said objectives, Computation Fluid Dynamics (CFD) based computations were carried out to retreive an approximate the relation between them via a polynomial equation.\n",
    "\n",
    "#### I. Design Variables \n",
    "\n",
    "The values are normalized to the range [0, 1].\n",
    "\n",
    "a) **Hydrogen Flow Angle** ($\\alpha$) : The acute angle formed between the fuel and oxidiser. \n",
    "\n",
    "b) **Hydrogen Area** ($H.A$):  The area of the tube from which $H_2$ flows in.\n",
    "\n",
    "c) **Oxygen Area** ($O.A$): The area of the tube from which $O_2$ flows in.\n",
    "\n",
    "d) **Oxygen Post-Tip-Thickness** ($O.P.T.T$): The thickness of the annulus between the two propellants."
   ]
  },
  {
   "cell_type": "markdown",
   "metadata": {},
   "source": [
    "![](media/design.jpg)"
   ]
  },
  {
   "cell_type": "markdown",
   "metadata": {},
   "source": [
    "#### II. Objective Functions\n",
    "\n",
    "All the objectives below should be **minimized**. Further, each of the following output have been normalized to [0, 1] range.\n",
    "\n",
    "a) **Maximum temperature at injector face** ($TF_{max}$): Prevent meltdown of the injector surface. Determines the thermal stability of the combustion chamber. \n",
    "\n",
    "b) **Distance From inlet** ($X_{CC}$): The distance from the injector surface where 90% of the combustion is complete. Lesser   values signifies quality mixing and high performance.\n",
    "\n",
    "c) **Maximum temperature at post tip** ($TT_{max}$): The temperature at the annulus of the propellants tubes. Similar to $TF_{max}$, this objective is to be minimized to prevent thermal breakdown."
   ]
  },
  {
   "cell_type": "markdown",
   "metadata": {},
   "source": [
    "![](media/objectives.jpg)   \n",
    "\n",
    "                                                "
   ]
  },
  {
   "cell_type": "code",
   "execution_count": 6,
   "metadata": {},
   "outputs": [],
   "source": [
    "class InjectorDesignProblem\n",
    "{\n",
    "  public:\n",
    "    InjectorDesignProblem()\n",
    "    { /* Nothing to do here. */ }\n",
    "    \n",
    "    //! Get the starting point.\n",
    "    arma::mat GetInitialPoint()\n",
    "    {\n",
    "      return arma::mat(numVariables, 1, arma::fill::zeros);\n",
    "    }\n",
    "    \n",
    "    //! The maximum temperature at the injector face.\n",
    "    struct InjectorFaceHeatCap\n",
    "    {\n",
    "        InjectorFaceHeatCap() {}\n",
    "\n",
    "        double Evaluate(const arma::mat& coords)\n",
    "        {\n",
    "            DesignVariables x(coords);\n",
    "            return 0.692 + (0.477 * x.Alpha) - (0.687 * x.HA) - (0.080 * x.OA) - (0.0650 * x.OPTT) - (0.167 * x.Alpha * x.Alpha)\n",
    "                - (0.0129 * x.HA * x.Alpha) + (0.0796 * x.HA * x.HA) - (0.0634 * x.OA * x.Alpha) - (0.0257 * x.OA * x.HA)\n",
    "                + (0.0877 * x.OA * x.OA) - (0.0521 * x.OPTT * x.Alpha) + (0.00156 * x.OPTT * x.HA) + (0.00198 * x.OPTT * x.OA)\n",
    "                + (0.0184 * x.OPTT * x.OPTT);\n",
    "        }    \n",
    "    };\n",
    "    \n",
    "    //! Distance from inlet where 90% combustion is complete.\n",
    "    struct DistanceFromInlet\n",
    "    {\n",
    "        DistanceFromInlet() {}\n",
    "        \n",
    "        double Evaluate(const arma::mat& coords)\n",
    "        {\n",
    "            DesignVariables x(coords);\n",
    "            return 0.153 - (0.322 * x.Alpha) + (0.396 * x.HA) + (0.424 * x.OA) + (0.0226 * x.OPTT)\n",
    "                + (0.175 * x.Alpha * x.Alpha) + (0.0185 * x.HA * x.Alpha) - (0.0701 * x.HA * x.HA) - (0.251 * x.OA * x.Alpha)\n",
    "                + (0.179 * x.OA * x.HA) + (0.0150 * x.OA * x.OA) + (0.0134 * x.OPTT * x.Alpha) + (0.0296 * x.OPTT * x.HA)\n",
    "                + (0.0752 * x.OPTT * x.OA) + (0.0192 * x.OPTT * x.OPTT);\n",
    "        }\n",
    "    };\n",
    "    \n",
    "    //! The maximum temperature at the post tip.\n",
    "    struct PostTipHeatCap\n",
    "    {\n",
    "        PostTipHeatCap() {}\n",
    "        \n",
    "        double Evaluate(const arma::mat& coords)\n",
    "        {\n",
    "            DesignVariables x(coords);\n",
    "            return 0.370 - (0.205 * x.Alpha) + (0.0307 * x.HA) + (0.108 * x.OA) + (1.019 * x.OPTT)\n",
    "                - (0.135 * x.Alpha * x.Alpha) + (0.0141 * x.HA * x.Alpha) + (0.0998 * x.HA * x.HA) + (0.208 * x.OA * x.Alpha)\n",
    "                - (0.0301 * x.OA * x.HA) - (0.226 * x.OA * x.OA) + (0.353 * x.OPTT * x.Alpha) - (0.0497 * x.OPTT * x.OA)\n",
    "                - (0.423 * x.OPTT * x.OPTT) + (0.202 * x.HA * x.Alpha * x.Alpha) - (0.281 * x.OA * x.Alpha * x.Alpha)\n",
    "                - (0.342 * x.HA * x.HA * x.Alpha) - (0.245 * x.HA * x.HA * x.OA) + (0.281 * x.OA * x.OA * x.HA)\n",
    "                - (0.184 * x.OPTT * x.OPTT * x.Alpha) - (0.281 * x.HA * x.Alpha * x.OA);\n",
    "        }\n",
    "\n",
    "    };\n",
    "\n",
    "    //! Get objective functions.\n",
    "    std::tuple<InjectorFaceHeatCap, DistanceFromInlet, PostTipHeatCap> GetObjectives()\n",
    "    {\n",
    "      return std::make_tuple(InjectorFaceHeatCap{}, DistanceFromInlet{}, PostTipHeatCap{});\n",
    "    }\n",
    "                        \n",
    "  private:\n",
    "    //! A wrapper for the design variables. Used for better\n",
    "    //! readibility.\n",
    "    struct DesignVariables\n",
    "    {\n",
    "        DesignVariables(const arma::mat& coords)\n",
    "        {\n",
    "            Alpha = coords[0];\n",
    "            HA = coords[1];\n",
    "            OA = coords[2];\n",
    "            OPTT = coords[3];\n",
    "        }\n",
    "        \n",
    "        //! Hydrogen flow angle.\n",
    "        double Alpha;\n",
    "        //! Hydrogen area.\n",
    "        double HA;\n",
    "        //! Oxygen area.\n",
    "        double OA;\n",
    "        //! Oxidiser Post Tip Thickness.\n",
    "        double OPTT;\n",
    "    };\n",
    "    \n",
    "    size_t numVariables = 4;\n",
    "    size_t numObjectives = 3;\n",
    "};\n",
    "\n",
    "InjectorDesignProblem idp;\n",
    "auto objectives = idp.GetObjectives();"
   ]
  },
  {
   "cell_type": "code",
   "execution_count": 7,
   "metadata": {},
   "outputs": [],
   "source": [
    "const double lowerBound = 0;\n",
    "const double upperBound = 1;\n",
    "\n",
    "DefaultMOEAD moead(300, // Population size.\n",
    "                   150,  // Max generations.\n",
    "                   1.0,  // Crossover probability.\n",
    "                   0.9, // Probability of sampling from neighbor.\n",
    "                   20, // Neighborhood size.\n",
    "                   20, // Perturbation index.\n",
    "                   0.5, // Differential weight.\n",
    "                   2, // Max childrens to replace parents.\n",
    "                   1E-10, // epsilon.\n",
    "                   lowerBound, // Lower bound.\n",
    "                   upperBound // Upper bound.\n",
    "                 );\n",
    "\n",
    "arma::mat coords = idp.GetInitialPoint();"
   ]
  },
  {
   "cell_type": "code",
   "execution_count": 8,
   "metadata": {},
   "outputs": [],
   "source": [
    "moead.Optimize(objectives, coords);"
   ]
  },
  {
   "cell_type": "markdown",
   "metadata": {},
   "source": [
    "Now that the optimization procedure is completed. Let's inspect some of the optimal design variables for injector design. Remember, the algorithm produces a multiple set optimal design variables aka ```ParetoSet``` and its corresponding objective values ```ParetoFront```."
   ]
  },
  {
   "cell_type": "code",
   "execution_count": 9,
   "metadata": {},
   "outputs": [
    {
     "name": "stdout",
     "output_type": "stream",
     "text": [
      "Displaying one of the optimal design variables.\n",
      "\n",
      "Hydrogen flow angle: 0.0975331\n",
      "Hydrogen area: 0.998602\n",
      "Oxygen area: 0.587004\n",
      "Oxygen post-tip-thickness: 0.00576975\n",
      "\n",
      "========================================\n",
      "\n",
      "Displaying the corresponding objective values.\n",
      "\n",
      "Maximum temperature at injector face: 0.0931923\n",
      "Distance From inlet: 0.795782\n",
      "Maximum temperature at post tip: 0.370252\n"
     ]
    }
   ],
   "source": [
    "// Store the optimal design variables. Each slice of the cube represents a 4 x 1 matrix.\n",
    "const arma::cube& paretoSet = moead.ParetoSet();\n",
    "// Store the corresponding objective values. Each slice of the cube represents a 3 x 1 matrix.\n",
    "const arma::cube& paretoFront = moead.ParetoFront();\n",
    "size_t populationSize = paretoFront.n_slices;\n",
    "\n",
    "\n",
    "// Index a random set of variables.\n",
    "double randomIdx = arma::randi(arma::distr_param(0, populationSize - 1));\n",
    "// Design variables.\n",
    "double alpha = paretoSet.slice(randomIdx)(0);\n",
    "double HA = paretoSet.slice(randomIdx)(1);\n",
    "double OA = paretoSet.slice(randomIdx)(2);\n",
    "double OPTT = paretoSet.slice(randomIdx)(3);\n",
    "// Objective values.\n",
    "double TF = paretoFront.slice(randomIdx)(0);\n",
    "double X_CC = paretoFront.slice(randomIdx)(1);\n",
    "double TT = paretoFront.slice(randomIdx)(2);\n",
    "\n",
    "\n",
    "\n",
    "std::cout << \"Displaying one of the optimal design variables.\\n\" << std::endl;\n",
    "std::cout << \"Hydrogen flow angle: \" << alpha << std::endl;\n",
    "std::cout << \"Hydrogen area: \" << HA << std::endl;\n",
    "std::cout << \"Oxygen area: \" << OA << std::endl;\n",
    "std::cout << \"Oxygen post-tip-thickness: \" << OPTT << std::endl;\n",
    "std::cout << \"\\n\";\n",
    "std::cout << \"========================================\\n\" << std::endl;\n",
    "\n",
    "std::cout << \"Displaying the corresponding objective values.\\n\" << std::endl;\n",
    "std::cout << \"Maximum temperature at injector face: \" << TF << std::endl;\n",
    "std::cout << \"Distance From inlet: \" << X_CC << std::endl;\n",
    "std::cout << \"Maximum temperature at post tip: \" << TT << std::endl;"
   ]
  },
  {
   "cell_type": "code",
   "execution_count": 10,
   "metadata": {},
   "outputs": [],
   "source": [
    "std::vector<double> X (populationSize, 0.), \n",
    "                    Y (populationSize, 0.), \n",
    "                    Z (populationSize, 0.);\n",
    "\n",
    "for (size_t idx = 0; idx < populationSize; ++idx)\n",
    "{\n",
    "    X[idx] = paretoFront.slice(idx)(0);\n",
    "    Y[idx] = paretoFront.slice(idx)(1);\n",
    "    Z[idx] = paretoFront.slice(idx)(2);\n",
    "}"
   ]
  },
  {
   "cell_type": "code",
   "execution_count": 11,
   "metadata": {},
   "outputs": [
    {
     "data": {
      "application/vnd.jupyter.widget-view+json": {
       "model_id": "fdba1c67a4ad472a924a199827769beb",
       "version_major": 2,
       "version_minor": 0
      },
      "text/plain": [
       "A Jupyter widget with unique id: fdba1c67a4ad472a924a199827769beb"
      ]
     },
     "execution_count": 11,
     "metadata": {},
     "output_type": "execute_result"
    }
   ],
   "source": [
    "plt::figure_size(1000, 800);\n",
    "plt::suptitle(\"Scatter Matrix of Pareto Fronts\");\n",
    "plt::subplot(3, 1, 1);\n",
    "plt::scatter(X, Y, 50);\n",
    "plt::xlabel(\"InjectorFaceHeatCap\");\n",
    "plt::ylabel(\"DistanceFromInlet\");\n",
    "\n",
    "plt::subplot(3, 1, 2);\n",
    "plt::scatter(X, Z, 50);\n",
    "plt::xlabel(\"InjectorFaceHeatCap\");\n",
    "plt::ylabel(\"PostTipHeatCap\");\n",
    "\n",
    "plt::subplot(3, 1, 3);\n",
    "plt::scatter(Y, Z, 50);\n",
    "plt::xlabel(\"DistanceFromInlet\");\n",
    "plt::ylabel(\"PostTipHeatCap\");\n",
    "\n",
    "plt::save(\"./scatter.png\");\n",
    "auto im = xw::image_from_file(\"scatter.png\").finalize();\n",
    "im"
   ]
  },
  {
   "cell_type": "markdown",
   "metadata": {},
   "source": [
    "### References\n",
    "\n",
    "1. \"NASA's Baffling Engine Problem\", Youtube, uploaded by Primal Space, 13th March 2020, https://www.youtube.com/watch?v=xbvQBwnppQo.\n",
    "2. \"LIQUID PROPELLANT ROCKET ENGINE/liquid rocket 3d animation/construction working/ LEARN FROM THE BASE\", Youtube, uploaded by Learn from the base. 12th September 2020, https://www.youtube.com/watch?v=9Y3fG-YrIII.\n",
    "3. \"Rocket Fuel Injectors - Things Kerbal Space Program Doesn't Teach\", Youtube, uploaded by Scott Manley, 10th March 2020, https://www.youtube.com/watch?v=aa4ATJGRqA0.\n",
    "4. Tanabe, Ryoji, and Hisao Ishibuchi. \"An easy-to-use real-world multi-objective optimization problem suite.\" Applied Soft Computing 89 (2020): 106078.\n",
    "5. Vaidyanathan, Rajkumar, et al. \"Cfd-based design optimization for single element rocket injector.\" 41st Aerospace Sciences Meeting and Exhibit. 2003."
   ]
  }
 ],
 "metadata": {
  "kernelspec": {
   "display_name": "C++14",
   "language": "C++14",
   "name": "xcpp14"
  },
  "language_info": {
   "codemirror_mode": "text/x-c++src",
   "file_extension": ".cpp",
   "mimetype": "text/x-c++src",
   "name": "c++",
   "version": "14"
  }
 },
 "nbformat": 4,
 "nbformat_minor": 5
}
