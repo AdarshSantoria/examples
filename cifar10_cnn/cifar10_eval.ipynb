{
 "cells": [
  {
   "cell_type": "code",
   "execution_count": 1,
   "id": "c97a7239-e746-4614-959d-effa281a3d58",
   "metadata": {},
   "outputs": [],
   "source": [
    "#include <mlpack/xeus-cling.hpp>\n",
    "#include <mlpack/core.hpp>\n",
    "#include <mlpack/core/data/split_data.hpp>\n",
    "#include <mlpack/methods/ann/layer/layer.hpp>\n",
    "#include <mlpack/methods/ann/ffn.hpp>\n",
    "#include <ensmallen.hpp>"
   ]
  },
  {
   "cell_type": "code",
   "execution_count": 2,
   "id": "95a0d96b-0727-4665-9098-5a403728724a",
   "metadata": {},
   "outputs": [],
   "source": [
    "using namespace mlpack;"
   ]
  },
  {
   "cell_type": "code",
   "execution_count": 3,
   "id": "103627ac-6ba9-4d7d-addf-79e608ca8068",
   "metadata": {},
   "outputs": [],
   "source": [
    "using namespace mlpack::ann;"
   ]
  },
  {
   "cell_type": "code",
   "execution_count": 4,
   "id": "0f998ac6-d69d-4cdd-98c2-9e19e4783574",
   "metadata": {},
   "outputs": [],
   "source": [
    "using namespace arma;"
   ]
  },
  {
   "cell_type": "code",
   "execution_count": 5,
   "id": "ba849ce7-1ad9-470d-b9a2-8c379c8ff11e",
   "metadata": {},
   "outputs": [],
   "source": [
    "using namespace ens;"
   ]
  },
  {
   "cell_type": "code",
   "execution_count": 6,
   "id": "3f3a7912-31ec-478a-9b5a-41f58812874e",
   "metadata": {},
   "outputs": [],
   "source": [
    "arma::Row<size_t> getLabels(arma::mat yPreds) \n",
    "{\n",
    "    arma::Row<size_t> yLabels(yPreds.n_cols);\n",
    "    for (arma::uword i = 0; i < yPreds.n_cols; ++i)\n",
    "    {\n",
    "        yLabels(i) = yPreds.col(i).index_max();\n",
    "    }\n",
    "    return yLabels;\n",
    "}"
   ]
  },
  {
   "cell_type": "code",
   "execution_count": 7,
   "id": "d92c9f56-8b09-46ef-9828-f60f4b7d1ce6",
   "metadata": {},
   "outputs": [],
   "source": [
    "FFN<NegativeLogLikelihood<>, RandomInitialization> model;"
   ]
  },
  {
   "cell_type": "code",
   "execution_count": null,
   "id": "f2ec67c1-a8a1-40ce-b884-25d97a071d69",
   "metadata": {},
   "outputs": [],
   "source": [
    "data::Load(\"model.xml\", \"model\", model);"
   ]
  },
  {
   "cell_type": "code",
   "execution_count": null,
   "id": "b37b63e4-561a-4528-8db9-786336ff91cb",
   "metadata": {},
   "outputs": [],
   "source": [
    "cout << \"Starting Prediction on testset ...\" << endl;\n",
    "mat testData, testY;\n",
    "\n",
    "mlpack::data::Load(\"./cifar-10_test.csv\", testData);\n",
    "testData.shed_col(0);\n",
    "testY = testData.row(testData.n_rows - 1);\n",
    "testData.shed_row(testData.n_rows - 1);\n",
    "\n",
    "mat testPredProbs;\n",
    "model.Predict(testData, testPredProbs);\n",
    "arma::Row<size_t> testPreds = getLabels(testPredProbs);\n",
    "double testAccuracy = arma::accu(testPreds == testY) / (double) testY.n_elem * 100;"
   ]
  },
  {
   "cell_type": "code",
   "execution_count": null,
   "id": "5215dfb9-e047-4b8c-ad62-f79ff77b726c",
   "metadata": {},
   "outputs": [],
   "source": [
    "cout << \"Accuracy: test = \" << testAccuracy << \"%\" << endl;"
   ]
  }
 ],
 "metadata": {
  "kernelspec": {
   "display_name": "C++14",
   "language": "C++14",
   "name": "xcpp14"
  },
  "language_info": {
   "codemirror_mode": "text/x-c++src",
   "file_extension": ".cpp",
   "mimetype": "text/x-c++src",
   "name": "c++",
   "version": "14"
  }
 },
 "nbformat": 4,
 "nbformat_minor": 5
}
